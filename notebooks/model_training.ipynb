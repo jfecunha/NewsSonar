{
  "cells": [
    {
      "cell_type": "markdown",
      "metadata": {
        "id": "Z7E3hFdIQBYu"
      },
      "source": [
        "In this notebook, we are going to fine-tune `LayoutLMv2ForTokenClassification` on the [FUNSD](https://guillaumejaume.github.io/FUNSD/) dataset. The goal for the model is to label words appearing in scanned documents appropriately. This task is treated as a NER problem (sequence labeling). However, compared to BERT, LayoutLMv2 also incorporates visual and layout information about the tokens when encoding them into vectors. This makes the LayoutLMv2 model very powerful for document understanding tasks.\n",
        "\n",
        "LayoutLMv2 is itself an upgrade of LayoutLM. The main novelty of LayoutLMv2 is that it also pre-trains visual embeddings, whereas the original LayoutLM only adds visual embeddings during fine-tuning.\n",
        "\n",
        "* Paper: https://arxiv.org/abs/2012.14740\n",
        "* Original repo: https://github.com/microsoft/unilm/tree/master/layoutlmv2\n",
        "\n",
        "## Install dependencies\n",
        "\n",
        "First, we install the required libraries:\n",
        "* Transformers (for the LayoutLMv2 model)\n",
        "* Datasets (for data preprocessing)\n",
        "* Seqeval (for metrics)\n",
        "* Detectron2 (which LayoutLMv2 requires for its visual backbone).\n",
        "\n"
      ]
    },
    {
      "cell_type": "code",
      "execution_count": 2,
      "metadata": {
        "colab": {
          "base_uri": "https://localhost:8080/"
        },
        "id": "vL18fbJlmXn8",
        "outputId": "2f18ebf2-ef28-4586-ae49-58ddb4465b03"
      },
      "outputs": [
        {
          "name": "stdout",
          "output_type": "stream",
          "text": [
            "  Installing build dependencies ... \u001b[?25l\u001b[?25hdone\n",
            "  Getting requirements to build wheel ... \u001b[?25l\u001b[?25hdone\n",
            "  Preparing metadata (pyproject.toml) ... \u001b[?25l\u001b[?25hdone\n",
            "\u001b[2K     \u001b[90m━━━━━━━━━━━━━━━━━━━━━━━━━━━━━━━━━━━━━━━\u001b[0m \u001b[32m200.1/200.1 kB\u001b[0m \u001b[31m7.1 MB/s\u001b[0m eta \u001b[36m0:00:00\u001b[0m\n",
            "\u001b[2K     \u001b[90m━━━━━━━━━━━━━━━━━━━━━━━━━━━━━━━━━━━━━━━━\u001b[0m \u001b[32m7.8/7.8 MB\u001b[0m \u001b[31m107.3 MB/s\u001b[0m eta \u001b[36m0:00:00\u001b[0m\n",
            "\u001b[?25h  Building wheel for transformers (pyproject.toml) ... \u001b[?25l\u001b[?25hdone\n"
          ]
        }
      ],
      "source": [
        "#!pip install -q git+https://github.com/huggingface/transformers.git"
      ]
    },
    {
      "cell_type": "code",
      "execution_count": 3,
      "metadata": {
        "colab": {
          "base_uri": "https://localhost:8080/"
        },
        "id": "Byx9C8bmGVLe",
        "outputId": "caba566d-6fef-4db0-93e5-aeaa7211159b"
      },
      "outputs": [
        {
          "name": "stdout",
          "output_type": "stream",
          "text": [
            "\u001b[2K     \u001b[90m━━━━━━━━━━━━━━━━━━━━━━━━━━━━━━━━━━━━━━\u001b[0m \u001b[32m468.7/468.7 kB\u001b[0m \u001b[31m18.4 MB/s\u001b[0m eta \u001b[36m0:00:00\u001b[0m\n",
            "\u001b[2K     \u001b[90m━━━━━━━━━━━━━━━━━━━━━━━━━━━━━━━━━━━━━━━━\u001b[0m \u001b[32m43.6/43.6 kB\u001b[0m \u001b[31m5.5 MB/s\u001b[0m eta \u001b[36m0:00:00\u001b[0m\n",
            "\u001b[?25h  Preparing metadata (setup.py) ... \u001b[?25l\u001b[?25hdone\n",
            "\u001b[2K     \u001b[90m━━━━━━━━━━━━━━━━━━━━━━━━━━━━━━━━━━━━━━\u001b[0m \u001b[32m212.2/212.2 kB\u001b[0m \u001b[31m24.0 MB/s\u001b[0m eta \u001b[36m0:00:00\u001b[0m\n",
            "\u001b[2K     \u001b[90m━━━━━━━━━━━━━━━━━━━━━━━━━━━━━━━━━━━━━━━━\u001b[0m \u001b[32m1.0/1.0 MB\u001b[0m \u001b[31m7.8 MB/s\u001b[0m eta \u001b[36m0:00:00\u001b[0m\n",
            "\u001b[2K     \u001b[90m━━━━━━━━━━━━━━━━━━━━━━━━━━━━━━━━━━━━━━\u001b[0m \u001b[32m132.9/132.9 kB\u001b[0m \u001b[31m14.1 MB/s\u001b[0m eta \u001b[36m0:00:00\u001b[0m\n",
            "\u001b[2K     \u001b[90m━━━━━━━━━━━━━━━━━━━━━━━━━━━━━━━━━━━━━━\u001b[0m \u001b[32m110.5/110.5 kB\u001b[0m \u001b[31m12.5 MB/s\u001b[0m eta \u001b[36m0:00:00\u001b[0m\n",
            "\u001b[2K     \u001b[90m━━━━━━━━━━━━━━━━━━━━━━━━━━━━━━━━━━━━━━\u001b[0m \u001b[32m264.6/264.6 kB\u001b[0m \u001b[31m25.8 MB/s\u001b[0m eta \u001b[36m0:00:00\u001b[0m\n",
            "\u001b[2K     \u001b[90m━━━━━━━━━━━━━━━━━━━━━━━━━━━━━━━━━━━━━━━\u001b[0m \u001b[32m114.2/114.2 kB\u001b[0m \u001b[31m7.7 MB/s\u001b[0m eta \u001b[36m0:00:00\u001b[0m\n",
            "\u001b[2K     \u001b[90m━━━━━━━━━━━━━━━━━━━━━━━━━━━━━━━━━━━━━━\u001b[0m \u001b[32m158.8/158.8 kB\u001b[0m \u001b[31m15.3 MB/s\u001b[0m eta \u001b[36m0:00:00\u001b[0m\n",
            "\u001b[?25h  Building wheel for seqeval (setup.py) ... \u001b[?25l\u001b[?25hdone\n"
          ]
        }
      ],
      "source": [
        "#!pip install -q datasets seqeval"
      ]
    },
    {
      "cell_type": "code",
      "execution_count": 5,
      "metadata": {
        "colab": {
          "base_uri": "https://localhost:8080/"
        },
        "id": "B1CNb7_MP2Z-",
        "outputId": "2a0adcb7-48f6-4fab-e680-85ef88f82758"
      },
      "outputs": [
        {
          "name": "stderr",
          "output_type": "stream",
          "text": [
            "\n",
            "[notice] A new release of pip is available: 23.0.1 -> 23.1\n",
            "[notice] To update, run: python.exe -m pip install --upgrade pip\n",
            "ERROR: Can not perform a '--user' install. User site-packages are not visible in this virtualenv.\n"
          ]
        }
      ],
      "source": [
        "#!pip install -q pyyaml==5.1\n",
        "# workaround: install old version of pytorch since detectron2 hasn't released packages for pytorch 1.9 (issue: https://github.com/facebookresearch/detectron2/issues/3158)\n",
        "!pip install -q torch==1.8.0+cu101 torchvision==0.9.0+cu101 -f https://download.pytorch.org/whl/torch_stable.html"
      ]
    },
    {
      "cell_type": "code",
      "execution_count": 1,
      "metadata": {},
      "outputs": [
        {
          "name": "stdout",
          "output_type": "stream",
          "text": [
            "Collecting git+https://github.com/facebookresearch/detectron2.git\n",
            "  Cloning https://github.com/facebookresearch/detectron2.git to c:\\users\\joaoo\\appdata\\local\\temp\\pip-req-build-rbk8fgw0\n",
            "  Resolved https://github.com/facebookresearch/detectron2.git to commit 4e447553eb32b6e3784df0b8fca286935107b2fd\n",
            "  Preparing metadata (setup.py): started\n",
            "  Preparing metadata (setup.py): finished with status 'done'\n",
            "Requirement already satisfied: Pillow>=7.1 in c:\\users\\joaoo\\appdata\\local\\pypoetry\\cache\\virtualenvs\\newssonar-sgi27wlv-py3.9\\lib\\site-packages (from detectron2==0.6) (9.3.0)\n",
            "Requirement already satisfied: matplotlib in c:\\users\\joaoo\\appdata\\local\\pypoetry\\cache\\virtualenvs\\newssonar-sgi27wlv-py3.9\\lib\\site-packages (from detectron2==0.6) (3.7.1)\n",
            "Collecting pycocotools>=2.0.2\n",
            "  Using cached pycocotools-2.0.6.tar.gz (24 kB)\n",
            "  Installing build dependencies: started\n",
            "  Installing build dependencies: finished with status 'done'\n",
            "  Getting requirements to build wheel: started\n",
            "  Getting requirements to build wheel: finished with status 'done'\n",
            "  Preparing metadata (pyproject.toml): started\n",
            "  Preparing metadata (pyproject.toml): finished with status 'done'\n",
            "Collecting termcolor>=1.1\n",
            "  Using cached termcolor-2.2.0-py3-none-any.whl (6.6 kB)\n",
            "Collecting yacs>=0.1.8\n",
            "  Using cached yacs-0.1.8-py3-none-any.whl (14 kB)\n",
            "Collecting tabulate\n",
            "  Using cached tabulate-0.9.0-py3-none-any.whl (35 kB)\n",
            "Collecting cloudpickle\n",
            "  Using cached cloudpickle-2.2.1-py3-none-any.whl (25 kB)\n",
            "Requirement already satisfied: tqdm>4.29.0 in c:\\users\\joaoo\\appdata\\local\\pypoetry\\cache\\virtualenvs\\newssonar-sgi27wlv-py3.9\\lib\\site-packages (from detectron2==0.6) (4.65.0)\n",
            "Collecting tensorboard\n",
            "  Using cached tensorboard-2.12.2-py3-none-any.whl (5.6 MB)\n",
            "Collecting fvcore<0.1.6,>=0.1.5\n",
            "  Using cached fvcore-0.1.5.post20221221-py3-none-any.whl\n",
            "Collecting iopath<0.1.10,>=0.1.7\n",
            "  Using cached iopath-0.1.9-py3-none-any.whl (27 kB)\n",
            "Collecting omegaconf>=2.1\n",
            "  Using cached omegaconf-2.3.0-py3-none-any.whl (79 kB)\n",
            "Collecting hydra-core>=1.1\n",
            "  Using cached hydra_core-1.3.2-py3-none-any.whl (154 kB)\n",
            "Requirement already satisfied: black in c:\\users\\joaoo\\appdata\\local\\pypoetry\\cache\\virtualenvs\\newssonar-sgi27wlv-py3.9\\lib\\site-packages (from detectron2==0.6) (23.3.0)\n",
            "Requirement already satisfied: packaging in c:\\users\\joaoo\\appdata\\local\\pypoetry\\cache\\virtualenvs\\newssonar-sgi27wlv-py3.9\\lib\\site-packages (from detectron2==0.6) (23.1)\n",
            "Requirement already satisfied: numpy in c:\\users\\joaoo\\appdata\\local\\pypoetry\\cache\\virtualenvs\\newssonar-sgi27wlv-py3.9\\lib\\site-packages (from fvcore<0.1.6,>=0.1.5->detectron2==0.6) (1.21.6)\n",
            "Requirement already satisfied: pyyaml>=5.1 in c:\\users\\joaoo\\appdata\\local\\pypoetry\\cache\\virtualenvs\\newssonar-sgi27wlv-py3.9\\lib\\site-packages (from fvcore<0.1.6,>=0.1.5->detectron2==0.6) (6.0)\n",
            "Collecting antlr4-python3-runtime==4.9.*\n",
            "  Using cached antlr4_python3_runtime-4.9.3-py3-none-any.whl\n",
            "Collecting portalocker\n",
            "  Using cached portalocker-2.7.0-py2.py3-none-any.whl (15 kB)\n",
            "Requirement already satisfied: pyparsing>=2.3.1 in c:\\users\\joaoo\\appdata\\local\\pypoetry\\cache\\virtualenvs\\newssonar-sgi27wlv-py3.9\\lib\\site-packages (from matplotlib->detectron2==0.6) (3.0.9)\n",
            "Requirement already satisfied: fonttools>=4.22.0 in c:\\users\\joaoo\\appdata\\local\\pypoetry\\cache\\virtualenvs\\newssonar-sgi27wlv-py3.9\\lib\\site-packages (from matplotlib->detectron2==0.6) (4.39.3)\n",
            "Requirement already satisfied: importlib-resources>=3.2.0 in c:\\users\\joaoo\\appdata\\local\\pypoetry\\cache\\virtualenvs\\newssonar-sgi27wlv-py3.9\\lib\\site-packages (from matplotlib->detectron2==0.6) (5.12.0)\n",
            "Requirement already satisfied: kiwisolver>=1.0.1 in c:\\users\\joaoo\\appdata\\local\\pypoetry\\cache\\virtualenvs\\newssonar-sgi27wlv-py3.9\\lib\\site-packages (from matplotlib->detectron2==0.6) (1.4.4)\n",
            "Requirement already satisfied: python-dateutil>=2.7 in c:\\users\\joaoo\\appdata\\local\\pypoetry\\cache\\virtualenvs\\newssonar-sgi27wlv-py3.9\\lib\\site-packages (from matplotlib->detectron2==0.6) (2.8.1)\n",
            "Requirement already satisfied: contourpy>=1.0.1 in c:\\users\\joaoo\\appdata\\local\\pypoetry\\cache\\virtualenvs\\newssonar-sgi27wlv-py3.9\\lib\\site-packages (from matplotlib->detectron2==0.6) (1.0.7)\n",
            "Requirement already satisfied: cycler>=0.10 in c:\\users\\joaoo\\appdata\\local\\pypoetry\\cache\\virtualenvs\\newssonar-sgi27wlv-py3.9\\lib\\site-packages (from matplotlib->detectron2==0.6) (0.11.0)\n",
            "Requirement already satisfied: colorama in c:\\users\\joaoo\\appdata\\local\\pypoetry\\cache\\virtualenvs\\newssonar-sgi27wlv-py3.9\\lib\\site-packages (from tqdm>4.29.0->detectron2==0.6) (0.4.6)\n",
            "Requirement already satisfied: click>=8.0.0 in c:\\users\\joaoo\\appdata\\local\\pypoetry\\cache\\virtualenvs\\newssonar-sgi27wlv-py3.9\\lib\\site-packages (from black->detectron2==0.6) (8.1.3)\n",
            "Requirement already satisfied: typing-extensions>=3.10.0.0 in c:\\users\\joaoo\\appdata\\local\\pypoetry\\cache\\virtualenvs\\newssonar-sgi27wlv-py3.9\\lib\\site-packages (from black->detectron2==0.6) (4.5.0)\n",
            "Requirement already satisfied: tomli>=1.1.0 in c:\\users\\joaoo\\appdata\\local\\pypoetry\\cache\\virtualenvs\\newssonar-sgi27wlv-py3.9\\lib\\site-packages (from black->detectron2==0.6) (2.0.1)\n",
            "Requirement already satisfied: mypy-extensions>=0.4.3 in c:\\users\\joaoo\\appdata\\local\\pypoetry\\cache\\virtualenvs\\newssonar-sgi27wlv-py3.9\\lib\\site-packages (from black->detectron2==0.6) (0.4.4)\n",
            "Requirement already satisfied: platformdirs>=2 in c:\\users\\joaoo\\appdata\\local\\pypoetry\\cache\\virtualenvs\\newssonar-sgi27wlv-py3.9\\lib\\site-packages (from black->detectron2==0.6) (3.2.0)\n",
            "Requirement already satisfied: pathspec>=0.9.0 in c:\\users\\joaoo\\appdata\\local\\pypoetry\\cache\\virtualenvs\\newssonar-sgi27wlv-py3.9\\lib\\site-packages (from black->detectron2==0.6) (0.11.1)\n",
            "Collecting tensorboard-data-server<0.8.0,>=0.7.0\n",
            "  Using cached tensorboard_data_server-0.7.0-py3-none-any.whl (2.4 kB)\n",
            "Requirement already satisfied: google-auth<3,>=1.6.3 in c:\\users\\joaoo\\appdata\\local\\pypoetry\\cache\\virtualenvs\\newssonar-sgi27wlv-py3.9\\lib\\site-packages (from tensorboard->detectron2==0.6) (2.11.0)\n",
            "Requirement already satisfied: requests<3,>=2.21.0 in c:\\users\\joaoo\\appdata\\local\\pypoetry\\cache\\virtualenvs\\newssonar-sgi27wlv-py3.9\\lib\\site-packages (from tensorboard->detectron2==0.6) (2.27.1)\n",
            "Requirement already satisfied: setuptools>=41.0.0 in c:\\users\\joaoo\\appdata\\local\\pypoetry\\cache\\virtualenvs\\newssonar-sgi27wlv-py3.9\\lib\\site-packages (from tensorboard->detectron2==0.6) (67.6.1)\n",
            "Requirement already satisfied: wheel>=0.26 in c:\\users\\joaoo\\appdata\\local\\pypoetry\\cache\\virtualenvs\\newssonar-sgi27wlv-py3.9\\lib\\site-packages (from tensorboard->detectron2==0.6) (0.40.0)\n",
            "Requirement already satisfied: protobuf>=3.19.6 in c:\\users\\joaoo\\appdata\\local\\pypoetry\\cache\\virtualenvs\\newssonar-sgi27wlv-py3.9\\lib\\site-packages (from tensorboard->detectron2==0.6) (3.20.3)\n",
            "Collecting werkzeug>=1.0.1\n",
            "  Using cached Werkzeug-2.2.3-py3-none-any.whl (233 kB)\n",
            "Requirement already satisfied: grpcio>=1.48.2 in c:\\users\\joaoo\\appdata\\local\\pypoetry\\cache\\virtualenvs\\newssonar-sgi27wlv-py3.9\\lib\\site-packages (from tensorboard->detectron2==0.6) (1.54.0)\n",
            "Collecting markdown>=2.6.8\n",
            "  Using cached Markdown-3.4.3-py3-none-any.whl (93 kB)\n",
            "Collecting google-auth-oauthlib<1.1,>=0.5\n",
            "  Using cached google_auth_oauthlib-1.0.0-py2.py3-none-any.whl (18 kB)\n",
            "Collecting absl-py>=0.4\n",
            "  Using cached absl_py-1.4.0-py3-none-any.whl (126 kB)\n",
            "Collecting tensorboard-plugin-wit>=1.6.0\n",
            "  Using cached tensorboard_plugin_wit-1.8.1-py3-none-any.whl (781 kB)\n",
            "Requirement already satisfied: six>=1.9.0 in c:\\users\\joaoo\\appdata\\local\\pypoetry\\cache\\virtualenvs\\newssonar-sgi27wlv-py3.9\\lib\\site-packages (from google-auth<3,>=1.6.3->tensorboard->detectron2==0.6) (1.16.0)\n",
            "Requirement already satisfied: rsa<5,>=3.1.4 in c:\\users\\joaoo\\appdata\\local\\pypoetry\\cache\\virtualenvs\\newssonar-sgi27wlv-py3.9\\lib\\site-packages (from google-auth<3,>=1.6.3->tensorboard->detectron2==0.6) (4.9)\n",
            "Requirement already satisfied: pyasn1-modules>=0.2.1 in c:\\users\\joaoo\\appdata\\local\\pypoetry\\cache\\virtualenvs\\newssonar-sgi27wlv-py3.9\\lib\\site-packages (from google-auth<3,>=1.6.3->tensorboard->detectron2==0.6) (0.2.8)\n",
            "Requirement already satisfied: cachetools<6.0,>=2.0.0 in c:\\users\\joaoo\\appdata\\local\\pypoetry\\cache\\virtualenvs\\newssonar-sgi27wlv-py3.9\\lib\\site-packages (from google-auth<3,>=1.6.3->tensorboard->detectron2==0.6) (5.3.0)\n",
            "Collecting google-auth<3,>=1.6.3\n",
            "  Using cached google_auth-2.17.3-py2.py3-none-any.whl (178 kB)\n",
            "Collecting requests-oauthlib>=0.7.0\n",
            "  Using cached requests_oauthlib-1.3.1-py2.py3-none-any.whl (23 kB)\n",
            "Requirement already satisfied: zipp>=3.1.0 in c:\\users\\joaoo\\appdata\\local\\pypoetry\\cache\\virtualenvs\\newssonar-sgi27wlv-py3.9\\lib\\site-packages (from importlib-resources>=3.2.0->matplotlib->detectron2==0.6) (3.15.0)\n",
            "Requirement already satisfied: importlib-metadata>=4.4 in c:\\users\\joaoo\\appdata\\local\\pypoetry\\cache\\virtualenvs\\newssonar-sgi27wlv-py3.9\\lib\\site-packages (from markdown>=2.6.8->tensorboard->detectron2==0.6) (6.4.1)\n",
            "Requirement already satisfied: charset-normalizer~=2.0.0 in c:\\users\\joaoo\\appdata\\local\\pypoetry\\cache\\virtualenvs\\newssonar-sgi27wlv-py3.9\\lib\\site-packages (from requests<3,>=2.21.0->tensorboard->detectron2==0.6) (2.0.12)\n",
            "Requirement already satisfied: urllib3<1.27,>=1.21.1 in c:\\users\\joaoo\\appdata\\local\\pypoetry\\cache\\virtualenvs\\newssonar-sgi27wlv-py3.9\\lib\\site-packages (from requests<3,>=2.21.0->tensorboard->detectron2==0.6) (1.26.15)\n",
            "Requirement already satisfied: idna<4,>=2.5 in c:\\users\\joaoo\\appdata\\local\\pypoetry\\cache\\virtualenvs\\newssonar-sgi27wlv-py3.9\\lib\\site-packages (from requests<3,>=2.21.0->tensorboard->detectron2==0.6) (3.4)\n",
            "Requirement already satisfied: certifi>=2017.4.17 in c:\\users\\joaoo\\appdata\\local\\pypoetry\\cache\\virtualenvs\\newssonar-sgi27wlv-py3.9\\lib\\site-packages (from requests<3,>=2.21.0->tensorboard->detectron2==0.6) (2022.12.7)\n",
            "Requirement already satisfied: MarkupSafe>=2.1.1 in c:\\users\\joaoo\\appdata\\local\\pypoetry\\cache\\virtualenvs\\newssonar-sgi27wlv-py3.9\\lib\\site-packages (from werkzeug>=1.0.1->tensorboard->detectron2==0.6) (2.1.2)\n",
            "Requirement already satisfied: pywin32>=226 in c:\\users\\joaoo\\appdata\\local\\pypoetry\\cache\\virtualenvs\\newssonar-sgi27wlv-py3.9\\lib\\site-packages (from portalocker->iopath<0.1.10,>=0.1.7->detectron2==0.6) (306)\n",
            "Requirement already satisfied: pyasn1<0.5.0,>=0.4.6 in c:\\users\\joaoo\\appdata\\local\\pypoetry\\cache\\virtualenvs\\newssonar-sgi27wlv-py3.9\\lib\\site-packages (from pyasn1-modules>=0.2.1->google-auth<3,>=1.6.3->tensorboard->detectron2==0.6) (0.4.8)\n",
            "Collecting oauthlib>=3.0.0\n",
            "  Using cached oauthlib-3.2.2-py3-none-any.whl (151 kB)\n",
            "Building wheels for collected packages: detectron2, pycocotools\n",
            "  Building wheel for detectron2 (setup.py): started\n",
            "  Building wheel for detectron2 (setup.py): finished with status 'error'\n",
            "  Running setup.py clean for detectron2\n",
            "  Building wheel for pycocotools (pyproject.toml): started\n",
            "  Building wheel for pycocotools (pyproject.toml): finished with status 'error'\n",
            "Failed to build detectron2 pycocotools\n"
          ]
        },
        {
          "name": "stderr",
          "output_type": "stream",
          "text": [
            "  Running command git clone --filter=blob:none --quiet https://github.com/facebookresearch/detectron2.git 'C:\\Users\\joaoo\\AppData\\Local\\Temp\\pip-req-build-rbk8fgw0'\n",
            "  error: subprocess-exited-with-error\n",
            "  \n",
            "  × python setup.py bdist_wheel did not run successfully.\n",
            "  │ exit code: 1\n",
            "  ╰─> [370 lines of output]\n",
            "      running bdist_wheel\n",
            "      c:\\Users\\joaoo\\AppData\\Local\\pypoetry\\Cache\\virtualenvs\\newssonar-sgI27Wlv-py3.9\\lib\\site-packages\\torch\\utils\\cpp_extension.py:369: UserWarning: Attempted to use ninja as the BuildExtension backend but we could not find ninja.. Falling back to using the slow distutils backend.\n",
            "        warnings.warn(msg.format('we could not find ninja.'))\n",
            "      running build\n",
            "      running build_py\n",
            "      creating build\n",
            "      creating build\\lib.win-amd64-cpython-39\n",
            "      creating build\\lib.win-amd64-cpython-39\\detectron2\n",
            "      copying detectron2\\__init__.py -> build\\lib.win-amd64-cpython-39\\detectron2\n",
            "      creating build\\lib.win-amd64-cpython-39\\tools\n",
            "      copying tools\\analyze_model.py -> build\\lib.win-amd64-cpython-39\\tools\n",
            "      copying tools\\benchmark.py -> build\\lib.win-amd64-cpython-39\\tools\n",
            "      copying tools\\convert-torchvision-to-d2.py -> build\\lib.win-amd64-cpython-39\\tools\n",
            "      copying tools\\lazyconfig_train_net.py -> build\\lib.win-amd64-cpython-39\\tools\n",
            "      copying tools\\lightning_train_net.py -> build\\lib.win-amd64-cpython-39\\tools\n",
            "      copying tools\\plain_train_net.py -> build\\lib.win-amd64-cpython-39\\tools\n",
            "      copying tools\\train_net.py -> build\\lib.win-amd64-cpython-39\\tools\n",
            "      copying tools\\visualize_data.py -> build\\lib.win-amd64-cpython-39\\tools\n",
            "      copying tools\\visualize_json_results.py -> build\\lib.win-amd64-cpython-39\\tools\n",
            "      copying tools\\__init__.py -> build\\lib.win-amd64-cpython-39\\tools\n",
            "      creating build\\lib.win-amd64-cpython-39\\detectron2\\checkpoint\n",
            "      copying detectron2\\checkpoint\\c2_model_loading.py -> build\\lib.win-amd64-cpython-39\\detectron2\\checkpoint\n",
            "      copying detectron2\\checkpoint\\catalog.py -> build\\lib.win-amd64-cpython-39\\detectron2\\checkpoint\n",
            "      copying detectron2\\checkpoint\\detection_checkpoint.py -> build\\lib.win-amd64-cpython-39\\detectron2\\checkpoint\n",
            "      copying detectron2\\checkpoint\\__init__.py -> build\\lib.win-amd64-cpython-39\\detectron2\\checkpoint\n",
            "      creating build\\lib.win-amd64-cpython-39\\detectron2\\config\n",
            "      copying detectron2\\config\\compat.py -> build\\lib.win-amd64-cpython-39\\detectron2\\config\n",
            "      copying detectron2\\config\\config.py -> build\\lib.win-amd64-cpython-39\\detectron2\\config\n",
            "      copying detectron2\\config\\defaults.py -> build\\lib.win-amd64-cpython-39\\detectron2\\config\n",
            "      copying detectron2\\config\\instantiate.py -> build\\lib.win-amd64-cpython-39\\detectron2\\config\n",
            "      copying detectron2\\config\\lazy.py -> build\\lib.win-amd64-cpython-39\\detectron2\\config\n",
            "      copying detectron2\\config\\__init__.py -> build\\lib.win-amd64-cpython-39\\detectron2\\config\n",
            "      creating build\\lib.win-amd64-cpython-39\\detectron2\\data\n",
            "      copying detectron2\\data\\benchmark.py -> build\\lib.win-amd64-cpython-39\\detectron2\\data\n",
            "      copying detectron2\\data\\build.py -> build\\lib.win-amd64-cpython-39\\detectron2\\data\n",
            "      copying detectron2\\data\\catalog.py -> build\\lib.win-amd64-cpython-39\\detectron2\\data\n",
            "      copying detectron2\\data\\common.py -> build\\lib.win-amd64-cpython-39\\detectron2\\data\n",
            "      copying detectron2\\data\\dataset_mapper.py -> build\\lib.win-amd64-cpython-39\\detectron2\\data\n",
            "      copying detectron2\\data\\detection_utils.py -> build\\lib.win-amd64-cpython-39\\detectron2\\data\n",
            "      copying detectron2\\data\\__init__.py -> build\\lib.win-amd64-cpython-39\\detectron2\\data\n",
            "      creating build\\lib.win-amd64-cpython-39\\detectron2\\engine\n",
            "      copying detectron2\\engine\\defaults.py -> build\\lib.win-amd64-cpython-39\\detectron2\\engine\n",
            "      copying detectron2\\engine\\hooks.py -> build\\lib.win-amd64-cpython-39\\detectron2\\engine\n",
            "      copying detectron2\\engine\\launch.py -> build\\lib.win-amd64-cpython-39\\detectron2\\engine\n",
            "      copying detectron2\\engine\\train_loop.py -> build\\lib.win-amd64-cpython-39\\detectron2\\engine\n",
            "      copying detectron2\\engine\\__init__.py -> build\\lib.win-amd64-cpython-39\\detectron2\\engine\n",
            "      creating build\\lib.win-amd64-cpython-39\\detectron2\\evaluation\n",
            "      copying detectron2\\evaluation\\cityscapes_evaluation.py -> build\\lib.win-amd64-cpython-39\\detectron2\\evaluation\n",
            "      copying detectron2\\evaluation\\coco_evaluation.py -> build\\lib.win-amd64-cpython-39\\detectron2\\evaluation\n",
            "      copying detectron2\\evaluation\\evaluator.py -> build\\lib.win-amd64-cpython-39\\detectron2\\evaluation\n",
            "      copying detectron2\\evaluation\\fast_eval_api.py -> build\\lib.win-amd64-cpython-39\\detectron2\\evaluation\n",
            "      copying detectron2\\evaluation\\lvis_evaluation.py -> build\\lib.win-amd64-cpython-39\\detectron2\\evaluation\n",
            "      copying detectron2\\evaluation\\panoptic_evaluation.py -> build\\lib.win-amd64-cpython-39\\detectron2\\evaluation\n",
            "      copying detectron2\\evaluation\\pascal_voc_evaluation.py -> build\\lib.win-amd64-cpython-39\\detectron2\\evaluation\n",
            "      copying detectron2\\evaluation\\rotated_coco_evaluation.py -> build\\lib.win-amd64-cpython-39\\detectron2\\evaluation\n",
            "      copying detectron2\\evaluation\\sem_seg_evaluation.py -> build\\lib.win-amd64-cpython-39\\detectron2\\evaluation\n",
            "      copying detectron2\\evaluation\\testing.py -> build\\lib.win-amd64-cpython-39\\detectron2\\evaluation\n",
            "      copying detectron2\\evaluation\\__init__.py -> build\\lib.win-amd64-cpython-39\\detectron2\\evaluation\n",
            "      creating build\\lib.win-amd64-cpython-39\\detectron2\\export\n",
            "      copying detectron2\\export\\api.py -> build\\lib.win-amd64-cpython-39\\detectron2\\export\n",
            "      copying detectron2\\export\\c10.py -> build\\lib.win-amd64-cpython-39\\detectron2\\export\n",
            "      copying detectron2\\export\\caffe2_export.py -> build\\lib.win-amd64-cpython-39\\detectron2\\export\n",
            "      copying detectron2\\export\\caffe2_inference.py -> build\\lib.win-amd64-cpython-39\\detectron2\\export\n",
            "      copying detectron2\\export\\caffe2_modeling.py -> build\\lib.win-amd64-cpython-39\\detectron2\\export\n",
            "      copying detectron2\\export\\caffe2_patch.py -> build\\lib.win-amd64-cpython-39\\detectron2\\export\n",
            "      copying detectron2\\export\\flatten.py -> build\\lib.win-amd64-cpython-39\\detectron2\\export\n",
            "      copying detectron2\\export\\shared.py -> build\\lib.win-amd64-cpython-39\\detectron2\\export\n",
            "      copying detectron2\\export\\torchscript.py -> build\\lib.win-amd64-cpython-39\\detectron2\\export\n",
            "      copying detectron2\\export\\torchscript_patch.py -> build\\lib.win-amd64-cpython-39\\detectron2\\export\n",
            "      copying detectron2\\export\\__init__.py -> build\\lib.win-amd64-cpython-39\\detectron2\\export\n",
            "      creating build\\lib.win-amd64-cpython-39\\detectron2\\layers\n",
            "      copying detectron2\\layers\\aspp.py -> build\\lib.win-amd64-cpython-39\\detectron2\\layers\n",
            "      copying detectron2\\layers\\batch_norm.py -> build\\lib.win-amd64-cpython-39\\detectron2\\layers\n",
            "      copying detectron2\\layers\\blocks.py -> build\\lib.win-amd64-cpython-39\\detectron2\\layers\n",
            "      copying detectron2\\layers\\deform_conv.py -> build\\lib.win-amd64-cpython-39\\detectron2\\layers\n",
            "      copying detectron2\\layers\\losses.py -> build\\lib.win-amd64-cpython-39\\detectron2\\layers\n",
            "      copying detectron2\\layers\\mask_ops.py -> build\\lib.win-amd64-cpython-39\\detectron2\\layers\n",
            "      copying detectron2\\layers\\nms.py -> build\\lib.win-amd64-cpython-39\\detectron2\\layers\n",
            "      copying detectron2\\layers\\roi_align.py -> build\\lib.win-amd64-cpython-39\\detectron2\\layers\n",
            "      copying detectron2\\layers\\roi_align_rotated.py -> build\\lib.win-amd64-cpython-39\\detectron2\\layers\n",
            "      copying detectron2\\layers\\rotated_boxes.py -> build\\lib.win-amd64-cpython-39\\detectron2\\layers\n",
            "      copying detectron2\\layers\\shape_spec.py -> build\\lib.win-amd64-cpython-39\\detectron2\\layers\n",
            "      copying detectron2\\layers\\wrappers.py -> build\\lib.win-amd64-cpython-39\\detectron2\\layers\n",
            "      copying detectron2\\layers\\__init__.py -> build\\lib.win-amd64-cpython-39\\detectron2\\layers\n",
            "      creating build\\lib.win-amd64-cpython-39\\detectron2\\modeling\n",
            "      copying detectron2\\modeling\\anchor_generator.py -> build\\lib.win-amd64-cpython-39\\detectron2\\modeling\n",
            "      copying detectron2\\modeling\\box_regression.py -> build\\lib.win-amd64-cpython-39\\detectron2\\modeling\n",
            "      copying detectron2\\modeling\\matcher.py -> build\\lib.win-amd64-cpython-39\\detectron2\\modeling\n",
            "      copying detectron2\\modeling\\mmdet_wrapper.py -> build\\lib.win-amd64-cpython-39\\detectron2\\modeling\n",
            "      copying detectron2\\modeling\\poolers.py -> build\\lib.win-amd64-cpython-39\\detectron2\\modeling\n",
            "      copying detectron2\\modeling\\postprocessing.py -> build\\lib.win-amd64-cpython-39\\detectron2\\modeling\n",
            "      copying detectron2\\modeling\\sampling.py -> build\\lib.win-amd64-cpython-39\\detectron2\\modeling\n",
            "      copying detectron2\\modeling\\test_time_augmentation.py -> build\\lib.win-amd64-cpython-39\\detectron2\\modeling\n",
            "      copying detectron2\\modeling\\__init__.py -> build\\lib.win-amd64-cpython-39\\detectron2\\modeling\n",
            "      creating build\\lib.win-amd64-cpython-39\\detectron2\\model_zoo\n",
            "      copying detectron2\\model_zoo\\model_zoo.py -> build\\lib.win-amd64-cpython-39\\detectron2\\model_zoo\n",
            "      copying detectron2\\model_zoo\\__init__.py -> build\\lib.win-amd64-cpython-39\\detectron2\\model_zoo\n",
            "      creating build\\lib.win-amd64-cpython-39\\detectron2\\projects\n",
            "      copying detectron2\\projects\\__init__.py -> build\\lib.win-amd64-cpython-39\\detectron2\\projects\n",
            "      creating build\\lib.win-amd64-cpython-39\\detectron2\\solver\n",
            "      copying detectron2\\solver\\build.py -> build\\lib.win-amd64-cpython-39\\detectron2\\solver\n",
            "      copying detectron2\\solver\\lr_scheduler.py -> build\\lib.win-amd64-cpython-39\\detectron2\\solver\n",
            "      copying detectron2\\solver\\__init__.py -> build\\lib.win-amd64-cpython-39\\detectron2\\solver\n",
            "      creating build\\lib.win-amd64-cpython-39\\detectron2\\structures\n",
            "      copying detectron2\\structures\\boxes.py -> build\\lib.win-amd64-cpython-39\\detectron2\\structures\n",
            "      copying detectron2\\structures\\image_list.py -> build\\lib.win-amd64-cpython-39\\detectron2\\structures\n",
            "      copying detectron2\\structures\\instances.py -> build\\lib.win-amd64-cpython-39\\detectron2\\structures\n",
            "      copying detectron2\\structures\\keypoints.py -> build\\lib.win-amd64-cpython-39\\detectron2\\structures\n",
            "      copying detectron2\\structures\\masks.py -> build\\lib.win-amd64-cpython-39\\detectron2\\structures\n",
            "      copying detectron2\\structures\\rotated_boxes.py -> build\\lib.win-amd64-cpython-39\\detectron2\\structures\n",
            "      copying detectron2\\structures\\__init__.py -> build\\lib.win-amd64-cpython-39\\detectron2\\structures\n",
            "      creating build\\lib.win-amd64-cpython-39\\detectron2\\tracking\n",
            "      copying detectron2\\tracking\\base_tracker.py -> build\\lib.win-amd64-cpython-39\\detectron2\\tracking\n",
            "      copying detectron2\\tracking\\bbox_iou_tracker.py -> build\\lib.win-amd64-cpython-39\\detectron2\\tracking\n",
            "      copying detectron2\\tracking\\hungarian_tracker.py -> build\\lib.win-amd64-cpython-39\\detectron2\\tracking\n",
            "      copying detectron2\\tracking\\iou_weighted_hungarian_bbox_iou_tracker.py -> build\\lib.win-amd64-cpython-39\\detectron2\\tracking\n",
            "      copying detectron2\\tracking\\utils.py -> build\\lib.win-amd64-cpython-39\\detectron2\\tracking\n",
            "      copying detectron2\\tracking\\vanilla_hungarian_bbox_iou_tracker.py -> build\\lib.win-amd64-cpython-39\\detectron2\\tracking\n",
            "      copying detectron2\\tracking\\__init__.py -> build\\lib.win-amd64-cpython-39\\detectron2\\tracking\n",
            "      creating build\\lib.win-amd64-cpython-39\\detectron2\\utils\n",
            "      copying detectron2\\utils\\analysis.py -> build\\lib.win-amd64-cpython-39\\detectron2\\utils\n",
            "      copying detectron2\\utils\\collect_env.py -> build\\lib.win-amd64-cpython-39\\detectron2\\utils\n",
            "      copying detectron2\\utils\\colormap.py -> build\\lib.win-amd64-cpython-39\\detectron2\\utils\n",
            "      copying detectron2\\utils\\comm.py -> build\\lib.win-amd64-cpython-39\\detectron2\\utils\n",
            "      copying detectron2\\utils\\develop.py -> build\\lib.win-amd64-cpython-39\\detectron2\\utils\n",
            "      copying detectron2\\utils\\env.py -> build\\lib.win-amd64-cpython-39\\detectron2\\utils\n",
            "      copying detectron2\\utils\\events.py -> build\\lib.win-amd64-cpython-39\\detectron2\\utils\n",
            "      copying detectron2\\utils\\file_io.py -> build\\lib.win-amd64-cpython-39\\detectron2\\utils\n",
            "      copying detectron2\\utils\\logger.py -> build\\lib.win-amd64-cpython-39\\detectron2\\utils\n",
            "      copying detectron2\\utils\\memory.py -> build\\lib.win-amd64-cpython-39\\detectron2\\utils\n",
            "      copying detectron2\\utils\\registry.py -> build\\lib.win-amd64-cpython-39\\detectron2\\utils\n",
            "      copying detectron2\\utils\\serialize.py -> build\\lib.win-amd64-cpython-39\\detectron2\\utils\n",
            "      copying detectron2\\utils\\testing.py -> build\\lib.win-amd64-cpython-39\\detectron2\\utils\n",
            "      copying detectron2\\utils\\tracing.py -> build\\lib.win-amd64-cpython-39\\detectron2\\utils\n",
            "      copying detectron2\\utils\\video_visualizer.py -> build\\lib.win-amd64-cpython-39\\detectron2\\utils\n",
            "      copying detectron2\\utils\\visualizer.py -> build\\lib.win-amd64-cpython-39\\detectron2\\utils\n",
            "      copying detectron2\\utils\\__init__.py -> build\\lib.win-amd64-cpython-39\\detectron2\\utils\n",
            "      creating build\\lib.win-amd64-cpython-39\\detectron2\\data\\datasets\n",
            "      copying detectron2\\data\\datasets\\builtin.py -> build\\lib.win-amd64-cpython-39\\detectron2\\data\\datasets\n",
            "      copying detectron2\\data\\datasets\\builtin_meta.py -> build\\lib.win-amd64-cpython-39\\detectron2\\data\\datasets\n",
            "      copying detectron2\\data\\datasets\\cityscapes.py -> build\\lib.win-amd64-cpython-39\\detectron2\\data\\datasets\n",
            "      copying detectron2\\data\\datasets\\cityscapes_panoptic.py -> build\\lib.win-amd64-cpython-39\\detectron2\\data\\datasets\n",
            "      copying detectron2\\data\\datasets\\coco.py -> build\\lib.win-amd64-cpython-39\\detectron2\\data\\datasets\n",
            "      copying detectron2\\data\\datasets\\coco_panoptic.py -> build\\lib.win-amd64-cpython-39\\detectron2\\data\\datasets\n",
            "      copying detectron2\\data\\datasets\\lvis.py -> build\\lib.win-amd64-cpython-39\\detectron2\\data\\datasets\n",
            "      copying detectron2\\data\\datasets\\lvis_v0_5_categories.py -> build\\lib.win-amd64-cpython-39\\detectron2\\data\\datasets\n",
            "      copying detectron2\\data\\datasets\\lvis_v1_categories.py -> build\\lib.win-amd64-cpython-39\\detectron2\\data\\datasets\n",
            "      copying detectron2\\data\\datasets\\lvis_v1_category_image_count.py -> build\\lib.win-amd64-cpython-39\\detectron2\\data\\datasets\n",
            "      copying detectron2\\data\\datasets\\pascal_voc.py -> build\\lib.win-amd64-cpython-39\\detectron2\\data\\datasets\n",
            "      copying detectron2\\data\\datasets\\register_coco.py -> build\\lib.win-amd64-cpython-39\\detectron2\\data\\datasets\n",
            "      copying detectron2\\data\\datasets\\__init__.py -> build\\lib.win-amd64-cpython-39\\detectron2\\data\\datasets\n",
            "      creating build\\lib.win-amd64-cpython-39\\detectron2\\data\\samplers\n",
            "      copying detectron2\\data\\samplers\\distributed_sampler.py -> build\\lib.win-amd64-cpython-39\\detectron2\\data\\samplers\n",
            "      copying detectron2\\data\\samplers\\grouped_batch_sampler.py -> build\\lib.win-amd64-cpython-39\\detectron2\\data\\samplers\n",
            "      copying detectron2\\data\\samplers\\__init__.py -> build\\lib.win-amd64-cpython-39\\detectron2\\data\\samplers\n",
            "      creating build\\lib.win-amd64-cpython-39\\detectron2\\data\\transforms\n",
            "      copying detectron2\\data\\transforms\\augmentation.py -> build\\lib.win-amd64-cpython-39\\detectron2\\data\\transforms\n",
            "      copying detectron2\\data\\transforms\\augmentation_impl.py -> build\\lib.win-amd64-cpython-39\\detectron2\\data\\transforms\n",
            "      copying detectron2\\data\\transforms\\transform.py -> build\\lib.win-amd64-cpython-39\\detectron2\\data\\transforms\n",
            "      copying detectron2\\data\\transforms\\__init__.py -> build\\lib.win-amd64-cpython-39\\detectron2\\data\\transforms\n",
            "      creating build\\lib.win-amd64-cpython-39\\detectron2\\modeling\\backbone\n",
            "      copying detectron2\\modeling\\backbone\\backbone.py -> build\\lib.win-amd64-cpython-39\\detectron2\\modeling\\backbone\n",
            "      copying detectron2\\modeling\\backbone\\build.py -> build\\lib.win-amd64-cpython-39\\detectron2\\modeling\\backbone\n",
            "      copying detectron2\\modeling\\backbone\\fpn.py -> build\\lib.win-amd64-cpython-39\\detectron2\\modeling\\backbone\n",
            "      copying detectron2\\modeling\\backbone\\mvit.py -> build\\lib.win-amd64-cpython-39\\detectron2\\modeling\\backbone\n",
            "      copying detectron2\\modeling\\backbone\\regnet.py -> build\\lib.win-amd64-cpython-39\\detectron2\\modeling\\backbone\n",
            "      copying detectron2\\modeling\\backbone\\resnet.py -> build\\lib.win-amd64-cpython-39\\detectron2\\modeling\\backbone\n",
            "      copying detectron2\\modeling\\backbone\\swin.py -> build\\lib.win-amd64-cpython-39\\detectron2\\modeling\\backbone\n",
            "      copying detectron2\\modeling\\backbone\\utils.py -> build\\lib.win-amd64-cpython-39\\detectron2\\modeling\\backbone\n",
            "      copying detectron2\\modeling\\backbone\\vit.py -> build\\lib.win-amd64-cpython-39\\detectron2\\modeling\\backbone\n",
            "      copying detectron2\\modeling\\backbone\\__init__.py -> build\\lib.win-amd64-cpython-39\\detectron2\\modeling\\backbone\n",
            "      creating build\\lib.win-amd64-cpython-39\\detectron2\\modeling\\meta_arch\n",
            "      copying detectron2\\modeling\\meta_arch\\build.py -> build\\lib.win-amd64-cpython-39\\detectron2\\modeling\\meta_arch\n",
            "      copying detectron2\\modeling\\meta_arch\\dense_detector.py -> build\\lib.win-amd64-cpython-39\\detectron2\\modeling\\meta_arch\n",
            "      copying detectron2\\modeling\\meta_arch\\fcos.py -> build\\lib.win-amd64-cpython-39\\detectron2\\modeling\\meta_arch\n",
            "      copying detectron2\\modeling\\meta_arch\\panoptic_fpn.py -> build\\lib.win-amd64-cpython-39\\detectron2\\modeling\\meta_arch\n",
            "      copying detectron2\\modeling\\meta_arch\\rcnn.py -> build\\lib.win-amd64-cpython-39\\detectron2\\modeling\\meta_arch\n",
            "      copying detectron2\\modeling\\meta_arch\\retinanet.py -> build\\lib.win-amd64-cpython-39\\detectron2\\modeling\\meta_arch\n",
            "      copying detectron2\\modeling\\meta_arch\\semantic_seg.py -> build\\lib.win-amd64-cpython-39\\detectron2\\modeling\\meta_arch\n",
            "      copying detectron2\\modeling\\meta_arch\\__init__.py -> build\\lib.win-amd64-cpython-39\\detectron2\\modeling\\meta_arch\n",
            "      creating build\\lib.win-amd64-cpython-39\\detectron2\\modeling\\proposal_generator\n",
            "      copying detectron2\\modeling\\proposal_generator\\build.py -> build\\lib.win-amd64-cpython-39\\detectron2\\modeling\\proposal_generator\n",
            "      copying detectron2\\modeling\\proposal_generator\\proposal_utils.py -> build\\lib.win-amd64-cpython-39\\detectron2\\modeling\\proposal_generator\n",
            "      copying detectron2\\modeling\\proposal_generator\\rpn.py -> build\\lib.win-amd64-cpython-39\\detectron2\\modeling\\proposal_generator\n",
            "      copying detectron2\\modeling\\proposal_generator\\rrpn.py -> build\\lib.win-amd64-cpython-39\\detectron2\\modeling\\proposal_generator\n",
            "      copying detectron2\\modeling\\proposal_generator\\__init__.py -> build\\lib.win-amd64-cpython-39\\detectron2\\modeling\\proposal_generator\n",
            "      creating build\\lib.win-amd64-cpython-39\\detectron2\\modeling\\roi_heads\n",
            "      copying detectron2\\modeling\\roi_heads\\box_head.py -> build\\lib.win-amd64-cpython-39\\detectron2\\modeling\\roi_heads\n",
            "      copying detectron2\\modeling\\roi_heads\\cascade_rcnn.py -> build\\lib.win-amd64-cpython-39\\detectron2\\modeling\\roi_heads\n",
            "      copying detectron2\\modeling\\roi_heads\\fast_rcnn.py -> build\\lib.win-amd64-cpython-39\\detectron2\\modeling\\roi_heads\n",
            "      copying detectron2\\modeling\\roi_heads\\keypoint_head.py -> build\\lib.win-amd64-cpython-39\\detectron2\\modeling\\roi_heads\n",
            "      copying detectron2\\modeling\\roi_heads\\mask_head.py -> build\\lib.win-amd64-cpython-39\\detectron2\\modeling\\roi_heads\n",
            "      copying detectron2\\modeling\\roi_heads\\roi_heads.py -> build\\lib.win-amd64-cpython-39\\detectron2\\modeling\\roi_heads\n",
            "      copying detectron2\\modeling\\roi_heads\\rotated_fast_rcnn.py -> build\\lib.win-amd64-cpython-39\\detectron2\\modeling\\roi_heads\n",
            "      copying detectron2\\modeling\\roi_heads\\__init__.py -> build\\lib.win-amd64-cpython-39\\detectron2\\modeling\\roi_heads\n",
            "      creating build\\lib.win-amd64-cpython-39\\detectron2\\projects\\point_rend\n",
            "      copying projects\\PointRend\\point_rend\\color_augmentation.py -> build\\lib.win-amd64-cpython-39\\detectron2\\projects\\point_rend\n",
            "      copying projects\\PointRend\\point_rend\\config.py -> build\\lib.win-amd64-cpython-39\\detectron2\\projects\\point_rend\n",
            "      copying projects\\PointRend\\point_rend\\mask_head.py -> build\\lib.win-amd64-cpython-39\\detectron2\\projects\\point_rend\n",
            "      copying projects\\PointRend\\point_rend\\point_features.py -> build\\lib.win-amd64-cpython-39\\detectron2\\projects\\point_rend\n",
            "      copying projects\\PointRend\\point_rend\\point_head.py -> build\\lib.win-amd64-cpython-39\\detectron2\\projects\\point_rend\n",
            "      copying projects\\PointRend\\point_rend\\roi_heads.py -> build\\lib.win-amd64-cpython-39\\detectron2\\projects\\point_rend\n",
            "      copying projects\\PointRend\\point_rend\\semantic_seg.py -> build\\lib.win-amd64-cpython-39\\detectron2\\projects\\point_rend\n",
            "      copying projects\\PointRend\\point_rend\\__init__.py -> build\\lib.win-amd64-cpython-39\\detectron2\\projects\\point_rend\n",
            "      creating build\\lib.win-amd64-cpython-39\\detectron2\\projects\\deeplab\n",
            "      copying projects\\DeepLab\\deeplab\\build_solver.py -> build\\lib.win-amd64-cpython-39\\detectron2\\projects\\deeplab\n",
            "      copying projects\\DeepLab\\deeplab\\config.py -> build\\lib.win-amd64-cpython-39\\detectron2\\projects\\deeplab\n",
            "      copying projects\\DeepLab\\deeplab\\loss.py -> build\\lib.win-amd64-cpython-39\\detectron2\\projects\\deeplab\n",
            "      copying projects\\DeepLab\\deeplab\\lr_scheduler.py -> build\\lib.win-amd64-cpython-39\\detectron2\\projects\\deeplab\n",
            "      copying projects\\DeepLab\\deeplab\\resnet.py -> build\\lib.win-amd64-cpython-39\\detectron2\\projects\\deeplab\n",
            "      copying projects\\DeepLab\\deeplab\\semantic_seg.py -> build\\lib.win-amd64-cpython-39\\detectron2\\projects\\deeplab\n",
            "      copying projects\\DeepLab\\deeplab\\__init__.py -> build\\lib.win-amd64-cpython-39\\detectron2\\projects\\deeplab\n",
            "      creating build\\lib.win-amd64-cpython-39\\detectron2\\projects\\panoptic_deeplab\n",
            "      copying projects\\Panoptic-DeepLab\\panoptic_deeplab\\config.py -> build\\lib.win-amd64-cpython-39\\detectron2\\projects\\panoptic_deeplab\n",
            "      copying projects\\Panoptic-DeepLab\\panoptic_deeplab\\dataset_mapper.py -> build\\lib.win-amd64-cpython-39\\detectron2\\projects\\panoptic_deeplab\n",
            "      copying projects\\Panoptic-DeepLab\\panoptic_deeplab\\panoptic_seg.py -> build\\lib.win-amd64-cpython-39\\detectron2\\projects\\panoptic_deeplab\n",
            "      copying projects\\Panoptic-DeepLab\\panoptic_deeplab\\post_processing.py -> build\\lib.win-amd64-cpython-39\\detectron2\\projects\\panoptic_deeplab\n",
            "      copying projects\\Panoptic-DeepLab\\panoptic_deeplab\\target_generator.py -> build\\lib.win-amd64-cpython-39\\detectron2\\projects\\panoptic_deeplab\n",
            "      copying projects\\Panoptic-DeepLab\\panoptic_deeplab\\__init__.py -> build\\lib.win-amd64-cpython-39\\detectron2\\projects\\panoptic_deeplab\n",
            "      creating build\\lib.win-amd64-cpython-39\\detectron2\\model_zoo\\configs\n",
            "      copying detectron2\\model_zoo\\configs\\Base-RCNN-C4.yaml -> build\\lib.win-amd64-cpython-39\\detectron2\\model_zoo\\configs\n",
            "      copying detectron2\\model_zoo\\configs\\Base-RCNN-DilatedC5.yaml -> build\\lib.win-amd64-cpython-39\\detectron2\\model_zoo\\configs\n",
            "      copying detectron2\\model_zoo\\configs\\Base-RCNN-FPN.yaml -> build\\lib.win-amd64-cpython-39\\detectron2\\model_zoo\\configs\n",
            "      copying detectron2\\model_zoo\\configs\\Base-RetinaNet.yaml -> build\\lib.win-amd64-cpython-39\\detectron2\\model_zoo\\configs\n",
            "      creating build\\lib.win-amd64-cpython-39\\detectron2\\model_zoo\\configs\\Cityscapes\n",
            "      copying detectron2\\model_zoo\\configs\\Cityscapes\\mask_rcnn_R_50_FPN.yaml -> build\\lib.win-amd64-cpython-39\\detectron2\\model_zoo\\configs\\Cityscapes\n",
            "      creating build\\lib.win-amd64-cpython-39\\detectron2\\model_zoo\\configs\\COCO-Detection\n",
            "      copying detectron2\\model_zoo\\configs\\COCO-Detection\\faster_rcnn_R_101_C4_3x.yaml -> build\\lib.win-amd64-cpython-39\\detectron2\\model_zoo\\configs\\COCO-Detection\n",
            "      copying detectron2\\model_zoo\\configs\\COCO-Detection\\faster_rcnn_R_101_DC5_3x.yaml -> build\\lib.win-amd64-cpython-39\\detectron2\\model_zoo\\configs\\COCO-Detection\n",
            "      copying detectron2\\model_zoo\\configs\\COCO-Detection\\faster_rcnn_R_101_FPN_3x.yaml -> build\\lib.win-amd64-cpython-39\\detectron2\\model_zoo\\configs\\COCO-Detection\n",
            "      copying detectron2\\model_zoo\\configs\\COCO-Detection\\faster_rcnn_R_50_C4_1x.yaml -> build\\lib.win-amd64-cpython-39\\detectron2\\model_zoo\\configs\\COCO-Detection\n",
            "      copying detectron2\\model_zoo\\configs\\COCO-Detection\\faster_rcnn_R_50_C4_3x.yaml -> build\\lib.win-amd64-cpython-39\\detectron2\\model_zoo\\configs\\COCO-Detection\n",
            "      copying detectron2\\model_zoo\\configs\\COCO-Detection\\faster_rcnn_R_50_DC5_1x.yaml -> build\\lib.win-amd64-cpython-39\\detectron2\\model_zoo\\configs\\COCO-Detection\n",
            "      copying detectron2\\model_zoo\\configs\\COCO-Detection\\faster_rcnn_R_50_DC5_3x.yaml -> build\\lib.win-amd64-cpython-39\\detectron2\\model_zoo\\configs\\COCO-Detection\n",
            "      copying detectron2\\model_zoo\\configs\\COCO-Detection\\faster_rcnn_R_50_FPN_1x.yaml -> build\\lib.win-amd64-cpython-39\\detectron2\\model_zoo\\configs\\COCO-Detection\n",
            "      copying detectron2\\model_zoo\\configs\\COCO-Detection\\faster_rcnn_R_50_FPN_3x.yaml -> build\\lib.win-amd64-cpython-39\\detectron2\\model_zoo\\configs\\COCO-Detection\n",
            "      copying detectron2\\model_zoo\\configs\\COCO-Detection\\faster_rcnn_X_101_32x8d_FPN_3x.yaml -> build\\lib.win-amd64-cpython-39\\detectron2\\model_zoo\\configs\\COCO-Detection\n",
            "      copying detectron2\\model_zoo\\configs\\COCO-Detection\\fast_rcnn_R_50_FPN_1x.yaml -> build\\lib.win-amd64-cpython-39\\detectron2\\model_zoo\\configs\\COCO-Detection\n",
            "      copying detectron2\\model_zoo\\configs\\COCO-Detection\\retinanet_R_101_FPN_3x.yaml -> build\\lib.win-amd64-cpython-39\\detectron2\\model_zoo\\configs\\COCO-Detection\n",
            "      copying detectron2\\model_zoo\\configs\\COCO-Detection\\retinanet_R_50_FPN_1x.yaml -> build\\lib.win-amd64-cpython-39\\detectron2\\model_zoo\\configs\\COCO-Detection\n",
            "      copying detectron2\\model_zoo\\configs\\COCO-Detection\\retinanet_R_50_FPN_3x.yaml -> build\\lib.win-amd64-cpython-39\\detectron2\\model_zoo\\configs\\COCO-Detection\n",
            "      copying detectron2\\model_zoo\\configs\\COCO-Detection\\rpn_R_50_C4_1x.yaml -> build\\lib.win-amd64-cpython-39\\detectron2\\model_zoo\\configs\\COCO-Detection\n",
            "      copying detectron2\\model_zoo\\configs\\COCO-Detection\\rpn_R_50_FPN_1x.yaml -> build\\lib.win-amd64-cpython-39\\detectron2\\model_zoo\\configs\\COCO-Detection\n",
            "      creating build\\lib.win-amd64-cpython-39\\detectron2\\model_zoo\\configs\\COCO-InstanceSegmentation\n",
            "      copying detectron2\\model_zoo\\configs\\COCO-InstanceSegmentation\\mask_rcnn_R_101_C4_3x.yaml -> build\\lib.win-amd64-cpython-39\\detectron2\\model_zoo\\configs\\COCO-InstanceSegmentation\n",
            "      copying detectron2\\model_zoo\\configs\\COCO-InstanceSegmentation\\mask_rcnn_R_101_DC5_3x.yaml -> build\\lib.win-amd64-cpython-39\\detectron2\\model_zoo\\configs\\COCO-InstanceSegmentation\n",
            "      copying detectron2\\model_zoo\\configs\\COCO-InstanceSegmentation\\mask_rcnn_R_101_FPN_3x.yaml -> build\\lib.win-amd64-cpython-39\\detectron2\\model_zoo\\configs\\COCO-InstanceSegmentation\n",
            "      copying detectron2\\model_zoo\\configs\\COCO-InstanceSegmentation\\mask_rcnn_R_50_C4_1x.yaml -> build\\lib.win-amd64-cpython-39\\detectron2\\model_zoo\\configs\\COCO-InstanceSegmentation\n",
            "      copying detectron2\\model_zoo\\configs\\COCO-InstanceSegmentation\\mask_rcnn_R_50_C4_3x.yaml -> build\\lib.win-amd64-cpython-39\\detectron2\\model_zoo\\configs\\COCO-InstanceSegmentation\n",
            "      copying detectron2\\model_zoo\\configs\\COCO-InstanceSegmentation\\mask_rcnn_R_50_DC5_1x.yaml -> build\\lib.win-amd64-cpython-39\\detectron2\\model_zoo\\configs\\COCO-InstanceSegmentation\n",
            "      copying detectron2\\model_zoo\\configs\\COCO-InstanceSegmentation\\mask_rcnn_R_50_DC5_3x.yaml -> build\\lib.win-amd64-cpython-39\\detectron2\\model_zoo\\configs\\COCO-InstanceSegmentation\n",
            "      copying detectron2\\model_zoo\\configs\\COCO-InstanceSegmentation\\mask_rcnn_R_50_FPN_1x.yaml -> build\\lib.win-amd64-cpython-39\\detectron2\\model_zoo\\configs\\COCO-InstanceSegmentation\n",
            "      copying detectron2\\model_zoo\\configs\\COCO-InstanceSegmentation\\mask_rcnn_R_50_FPN_1x_giou.yaml -> build\\lib.win-amd64-cpython-39\\detectron2\\model_zoo\\configs\\COCO-InstanceSegmentation\n",
            "      copying detectron2\\model_zoo\\configs\\COCO-InstanceSegmentation\\mask_rcnn_R_50_FPN_3x.yaml -> build\\lib.win-amd64-cpython-39\\detectron2\\model_zoo\\configs\\COCO-InstanceSegmentation\n",
            "      copying detectron2\\model_zoo\\configs\\COCO-InstanceSegmentation\\mask_rcnn_X_101_32x8d_FPN_3x.yaml -> build\\lib.win-amd64-cpython-39\\detectron2\\model_zoo\\configs\\COCO-InstanceSegmentation\n",
            "      creating build\\lib.win-amd64-cpython-39\\detectron2\\model_zoo\\configs\\COCO-Keypoints\n",
            "      copying detectron2\\model_zoo\\configs\\COCO-Keypoints\\Base-Keypoint-RCNN-FPN.yaml -> build\\lib.win-amd64-cpython-39\\detectron2\\model_zoo\\configs\\COCO-Keypoints\n",
            "      copying detectron2\\model_zoo\\configs\\COCO-Keypoints\\keypoint_rcnn_R_101_FPN_3x.yaml -> build\\lib.win-amd64-cpython-39\\detectron2\\model_zoo\\configs\\COCO-Keypoints\n",
            "      copying detectron2\\model_zoo\\configs\\COCO-Keypoints\\keypoint_rcnn_R_50_FPN_1x.yaml -> build\\lib.win-amd64-cpython-39\\detectron2\\model_zoo\\configs\\COCO-Keypoints\n",
            "      copying detectron2\\model_zoo\\configs\\COCO-Keypoints\\keypoint_rcnn_R_50_FPN_3x.yaml -> build\\lib.win-amd64-cpython-39\\detectron2\\model_zoo\\configs\\COCO-Keypoints\n",
            "      copying detectron2\\model_zoo\\configs\\COCO-Keypoints\\keypoint_rcnn_X_101_32x8d_FPN_3x.yaml -> build\\lib.win-amd64-cpython-39\\detectron2\\model_zoo\\configs\\COCO-Keypoints\n",
            "      creating build\\lib.win-amd64-cpython-39\\detectron2\\model_zoo\\configs\\COCO-PanopticSegmentation\n",
            "      copying detectron2\\model_zoo\\configs\\COCO-PanopticSegmentation\\Base-Panoptic-FPN.yaml -> build\\lib.win-amd64-cpython-39\\detectron2\\model_zoo\\configs\\COCO-PanopticSegmentation\n",
            "      copying detectron2\\model_zoo\\configs\\COCO-PanopticSegmentation\\panoptic_fpn_R_101_3x.yaml -> build\\lib.win-amd64-cpython-39\\detectron2\\model_zoo\\configs\\COCO-PanopticSegmentation\n",
            "      copying detectron2\\model_zoo\\configs\\COCO-PanopticSegmentation\\panoptic_fpn_R_50_1x.yaml -> build\\lib.win-amd64-cpython-39\\detectron2\\model_zoo\\configs\\COCO-PanopticSegmentation\n",
            "      copying detectron2\\model_zoo\\configs\\COCO-PanopticSegmentation\\panoptic_fpn_R_50_3x.yaml -> build\\lib.win-amd64-cpython-39\\detectron2\\model_zoo\\configs\\COCO-PanopticSegmentation\n",
            "      creating build\\lib.win-amd64-cpython-39\\detectron2\\model_zoo\\configs\\Detectron1-Comparisons\n",
            "      copying detectron2\\model_zoo\\configs\\Detectron1-Comparisons\\faster_rcnn_R_50_FPN_noaug_1x.yaml -> build\\lib.win-amd64-cpython-39\\detectron2\\model_zoo\\configs\\Detectron1-Comparisons\n",
            "      copying detectron2\\model_zoo\\configs\\Detectron1-Comparisons\\keypoint_rcnn_R_50_FPN_1x.yaml -> build\\lib.win-amd64-cpython-39\\detectron2\\model_zoo\\configs\\Detectron1-Comparisons\n",
            "      copying detectron2\\model_zoo\\configs\\Detectron1-Comparisons\\mask_rcnn_R_50_FPN_noaug_1x.yaml -> build\\lib.win-amd64-cpython-39\\detectron2\\model_zoo\\configs\\Detectron1-Comparisons\n",
            "      creating build\\lib.win-amd64-cpython-39\\detectron2\\model_zoo\\configs\\LVISv0.5-InstanceSegmentation\n",
            "      copying detectron2\\model_zoo\\configs\\LVISv0.5-InstanceSegmentation\\mask_rcnn_R_101_FPN_1x.yaml -> build\\lib.win-amd64-cpython-39\\detectron2\\model_zoo\\configs\\LVISv0.5-InstanceSegmentation\n",
            "      copying detectron2\\model_zoo\\configs\\LVISv0.5-InstanceSegmentation\\mask_rcnn_R_50_FPN_1x.yaml -> build\\lib.win-amd64-cpython-39\\detectron2\\model_zoo\\configs\\LVISv0.5-InstanceSegmentation\n",
            "      copying detectron2\\model_zoo\\configs\\LVISv0.5-InstanceSegmentation\\mask_rcnn_X_101_32x8d_FPN_1x.yaml -> build\\lib.win-amd64-cpython-39\\detectron2\\model_zoo\\configs\\LVISv0.5-InstanceSegmentation\n",
            "      creating build\\lib.win-amd64-cpython-39\\detectron2\\model_zoo\\configs\\LVISv1-InstanceSegmentation\n",
            "      copying detectron2\\model_zoo\\configs\\LVISv1-InstanceSegmentation\\mask_rcnn_R_101_FPN_1x.yaml -> build\\lib.win-amd64-cpython-39\\detectron2\\model_zoo\\configs\\LVISv1-InstanceSegmentation\n",
            "      copying detectron2\\model_zoo\\configs\\LVISv1-InstanceSegmentation\\mask_rcnn_R_50_FPN_1x.yaml -> build\\lib.win-amd64-cpython-39\\detectron2\\model_zoo\\configs\\LVISv1-InstanceSegmentation\n",
            "      copying detectron2\\model_zoo\\configs\\LVISv1-InstanceSegmentation\\mask_rcnn_X_101_32x8d_FPN_1x.yaml -> build\\lib.win-amd64-cpython-39\\detectron2\\model_zoo\\configs\\LVISv1-InstanceSegmentation\n",
            "      creating build\\lib.win-amd64-cpython-39\\detectron2\\model_zoo\\configs\\Misc\n",
            "      copying detectron2\\model_zoo\\configs\\Misc\\cascade_mask_rcnn_R_50_FPN_1x.yaml -> build\\lib.win-amd64-cpython-39\\detectron2\\model_zoo\\configs\\Misc\n",
            "      copying detectron2\\model_zoo\\configs\\Misc\\cascade_mask_rcnn_R_50_FPN_3x.yaml -> build\\lib.win-amd64-cpython-39\\detectron2\\model_zoo\\configs\\Misc\n",
            "      copying detectron2\\model_zoo\\configs\\Misc\\cascade_mask_rcnn_X_152_32x8d_FPN_IN5k_gn_dconv.yaml -> build\\lib.win-amd64-cpython-39\\detectron2\\model_zoo\\configs\\Misc\n",
            "      copying detectron2\\model_zoo\\configs\\Misc\\mask_rcnn_R_50_FPN_1x_cls_agnostic.yaml -> build\\lib.win-amd64-cpython-39\\detectron2\\model_zoo\\configs\\Misc\n",
            "      copying detectron2\\model_zoo\\configs\\Misc\\mask_rcnn_R_50_FPN_1x_dconv_c3-c5.yaml -> build\\lib.win-amd64-cpython-39\\detectron2\\model_zoo\\configs\\Misc\n",
            "      copying detectron2\\model_zoo\\configs\\Misc\\mask_rcnn_R_50_FPN_3x_dconv_c3-c5.yaml -> build\\lib.win-amd64-cpython-39\\detectron2\\model_zoo\\configs\\Misc\n",
            "      copying detectron2\\model_zoo\\configs\\Misc\\mask_rcnn_R_50_FPN_3x_gn.yaml -> build\\lib.win-amd64-cpython-39\\detectron2\\model_zoo\\configs\\Misc\n",
            "      copying detectron2\\model_zoo\\configs\\Misc\\mask_rcnn_R_50_FPN_3x_syncbn.yaml -> build\\lib.win-amd64-cpython-39\\detectron2\\model_zoo\\configs\\Misc\n",
            "      copying detectron2\\model_zoo\\configs\\Misc\\panoptic_fpn_R_101_dconv_cascade_gn_3x.yaml -> build\\lib.win-amd64-cpython-39\\detectron2\\model_zoo\\configs\\Misc\n",
            "      copying detectron2\\model_zoo\\configs\\Misc\\scratch_mask_rcnn_R_50_FPN_3x_gn.yaml -> build\\lib.win-amd64-cpython-39\\detectron2\\model_zoo\\configs\\Misc\n",
            "      copying detectron2\\model_zoo\\configs\\Misc\\scratch_mask_rcnn_R_50_FPN_9x_gn.yaml -> build\\lib.win-amd64-cpython-39\\detectron2\\model_zoo\\configs\\Misc\n",
            "      copying detectron2\\model_zoo\\configs\\Misc\\scratch_mask_rcnn_R_50_FPN_9x_syncbn.yaml -> build\\lib.win-amd64-cpython-39\\detectron2\\model_zoo\\configs\\Misc\n",
            "      copying detectron2\\model_zoo\\configs\\Misc\\semantic_R_50_FPN_1x.yaml -> build\\lib.win-amd64-cpython-39\\detectron2\\model_zoo\\configs\\Misc\n",
            "      creating build\\lib.win-amd64-cpython-39\\detectron2\\model_zoo\\configs\\PascalVOC-Detection\n",
            "      copying detectron2\\model_zoo\\configs\\PascalVOC-Detection\\faster_rcnn_R_50_C4.yaml -> build\\lib.win-amd64-cpython-39\\detectron2\\model_zoo\\configs\\PascalVOC-Detection\n",
            "      copying detectron2\\model_zoo\\configs\\PascalVOC-Detection\\faster_rcnn_R_50_FPN.yaml -> build\\lib.win-amd64-cpython-39\\detectron2\\model_zoo\\configs\\PascalVOC-Detection\n",
            "      creating build\\lib.win-amd64-cpython-39\\detectron2\\model_zoo\\configs\\quick_schedules\n",
            "      copying detectron2\\model_zoo\\configs\\quick_schedules\\cascade_mask_rcnn_R_50_FPN_inference_acc_test.yaml -> build\\lib.win-amd64-cpython-39\\detectron2\\model_zoo\\configs\\quick_schedules\n",
            "      copying detectron2\\model_zoo\\configs\\quick_schedules\\cascade_mask_rcnn_R_50_FPN_instant_test.yaml -> build\\lib.win-amd64-cpython-39\\detectron2\\model_zoo\\configs\\quick_schedules\n",
            "      copying detectron2\\model_zoo\\configs\\quick_schedules\\fast_rcnn_R_50_FPN_inference_acc_test.yaml -> build\\lib.win-amd64-cpython-39\\detectron2\\model_zoo\\configs\\quick_schedules\n",
            "      copying detectron2\\model_zoo\\configs\\quick_schedules\\fast_rcnn_R_50_FPN_instant_test.yaml -> build\\lib.win-amd64-cpython-39\\detectron2\\model_zoo\\configs\\quick_schedules\n",
            "      copying detectron2\\model_zoo\\configs\\quick_schedules\\keypoint_rcnn_R_50_FPN_inference_acc_test.yaml -> build\\lib.win-amd64-cpython-39\\detectron2\\model_zoo\\configs\\quick_schedules\n",
            "      copying detectron2\\model_zoo\\configs\\quick_schedules\\keypoint_rcnn_R_50_FPN_instant_test.yaml -> build\\lib.win-amd64-cpython-39\\detectron2\\model_zoo\\configs\\quick_schedules\n",
            "      copying detectron2\\model_zoo\\configs\\quick_schedules\\keypoint_rcnn_R_50_FPN_normalized_training_acc_test.yaml -> build\\lib.win-amd64-cpython-39\\detectron2\\model_zoo\\configs\\quick_schedules\n",
            "      copying detectron2\\model_zoo\\configs\\quick_schedules\\keypoint_rcnn_R_50_FPN_training_acc_test.yaml -> build\\lib.win-amd64-cpython-39\\detectron2\\model_zoo\\configs\\quick_schedules\n",
            "      copying detectron2\\model_zoo\\configs\\quick_schedules\\mask_rcnn_R_50_C4_GCV_instant_test.yaml -> build\\lib.win-amd64-cpython-39\\detectron2\\model_zoo\\configs\\quick_schedules\n",
            "      copying detectron2\\model_zoo\\configs\\quick_schedules\\mask_rcnn_R_50_C4_inference_acc_test.yaml -> build\\lib.win-amd64-cpython-39\\detectron2\\model_zoo\\configs\\quick_schedules\n",
            "      copying detectron2\\model_zoo\\configs\\quick_schedules\\mask_rcnn_R_50_C4_instant_test.yaml -> build\\lib.win-amd64-cpython-39\\detectron2\\model_zoo\\configs\\quick_schedules\n",
            "      copying detectron2\\model_zoo\\configs\\quick_schedules\\mask_rcnn_R_50_C4_training_acc_test.yaml -> build\\lib.win-amd64-cpython-39\\detectron2\\model_zoo\\configs\\quick_schedules\n",
            "      copying detectron2\\model_zoo\\configs\\quick_schedules\\mask_rcnn_R_50_DC5_inference_acc_test.yaml -> build\\lib.win-amd64-cpython-39\\detectron2\\model_zoo\\configs\\quick_schedules\n",
            "      copying detectron2\\model_zoo\\configs\\quick_schedules\\mask_rcnn_R_50_FPN_inference_acc_test.yaml -> build\\lib.win-amd64-cpython-39\\detectron2\\model_zoo\\configs\\quick_schedules\n",
            "      copying detectron2\\model_zoo\\configs\\quick_schedules\\mask_rcnn_R_50_FPN_instant_test.yaml -> build\\lib.win-amd64-cpython-39\\detectron2\\model_zoo\\configs\\quick_schedules\n",
            "      copying detectron2\\model_zoo\\configs\\quick_schedules\\mask_rcnn_R_50_FPN_pred_boxes_training_acc_test.yaml -> build\\lib.win-amd64-cpython-39\\detectron2\\model_zoo\\configs\\quick_schedules\n",
            "      copying detectron2\\model_zoo\\configs\\quick_schedules\\mask_rcnn_R_50_FPN_training_acc_test.yaml -> build\\lib.win-amd64-cpython-39\\detectron2\\model_zoo\\configs\\quick_schedules\n",
            "      copying detectron2\\model_zoo\\configs\\quick_schedules\\panoptic_fpn_R_50_inference_acc_test.yaml -> build\\lib.win-amd64-cpython-39\\detectron2\\model_zoo\\configs\\quick_schedules\n",
            "      copying detectron2\\model_zoo\\configs\\quick_schedules\\panoptic_fpn_R_50_instant_test.yaml -> build\\lib.win-amd64-cpython-39\\detectron2\\model_zoo\\configs\\quick_schedules\n",
            "      copying detectron2\\model_zoo\\configs\\quick_schedules\\panoptic_fpn_R_50_training_acc_test.yaml -> build\\lib.win-amd64-cpython-39\\detectron2\\model_zoo\\configs\\quick_schedules\n",
            "      copying detectron2\\model_zoo\\configs\\quick_schedules\\retinanet_R_50_FPN_inference_acc_test.yaml -> build\\lib.win-amd64-cpython-39\\detectron2\\model_zoo\\configs\\quick_schedules\n",
            "      copying detectron2\\model_zoo\\configs\\quick_schedules\\retinanet_R_50_FPN_instant_test.yaml -> build\\lib.win-amd64-cpython-39\\detectron2\\model_zoo\\configs\\quick_schedules\n",
            "      copying detectron2\\model_zoo\\configs\\quick_schedules\\rpn_R_50_FPN_inference_acc_test.yaml -> build\\lib.win-amd64-cpython-39\\detectron2\\model_zoo\\configs\\quick_schedules\n",
            "      copying detectron2\\model_zoo\\configs\\quick_schedules\\rpn_R_50_FPN_instant_test.yaml -> build\\lib.win-amd64-cpython-39\\detectron2\\model_zoo\\configs\\quick_schedules\n",
            "      copying detectron2\\model_zoo\\configs\\quick_schedules\\semantic_R_50_FPN_inference_acc_test.yaml -> build\\lib.win-amd64-cpython-39\\detectron2\\model_zoo\\configs\\quick_schedules\n",
            "      copying detectron2\\model_zoo\\configs\\quick_schedules\\semantic_R_50_FPN_instant_test.yaml -> build\\lib.win-amd64-cpython-39\\detectron2\\model_zoo\\configs\\quick_schedules\n",
            "      copying detectron2\\model_zoo\\configs\\quick_schedules\\semantic_R_50_FPN_training_acc_test.yaml -> build\\lib.win-amd64-cpython-39\\detectron2\\model_zoo\\configs\\quick_schedules\n",
            "      copying detectron2\\model_zoo\\configs\\COCO-Detection\\fcos_R_50_FPN_1x.py -> build\\lib.win-amd64-cpython-39\\detectron2\\model_zoo\\configs\\COCO-Detection\n",
            "      copying detectron2\\model_zoo\\configs\\COCO-Detection\\retinanet_R_50_FPN_1x.py -> build\\lib.win-amd64-cpython-39\\detectron2\\model_zoo\\configs\\COCO-Detection\n",
            "      copying detectron2\\model_zoo\\configs\\COCO-InstanceSegmentation\\mask_rcnn_regnetx_4gf_dds_fpn_1x.py -> build\\lib.win-amd64-cpython-39\\detectron2\\model_zoo\\configs\\COCO-InstanceSegmentation\n",
            "      copying detectron2\\model_zoo\\configs\\COCO-InstanceSegmentation\\mask_rcnn_regnety_4gf_dds_fpn_1x.py -> build\\lib.win-amd64-cpython-39\\detectron2\\model_zoo\\configs\\COCO-InstanceSegmentation\n",
            "      copying detectron2\\model_zoo\\configs\\COCO-InstanceSegmentation\\mask_rcnn_R_50_C4_1x.py -> build\\lib.win-amd64-cpython-39\\detectron2\\model_zoo\\configs\\COCO-InstanceSegmentation\n",
            "      copying detectron2\\model_zoo\\configs\\COCO-InstanceSegmentation\\mask_rcnn_R_50_FPN_1x.py -> build\\lib.win-amd64-cpython-39\\detectron2\\model_zoo\\configs\\COCO-InstanceSegmentation\n",
            "      copying detectron2\\model_zoo\\configs\\COCO-Keypoints\\keypoint_rcnn_R_50_FPN_1x.py -> build\\lib.win-amd64-cpython-39\\detectron2\\model_zoo\\configs\\COCO-Keypoints\n",
            "      copying detectron2\\model_zoo\\configs\\COCO-PanopticSegmentation\\panoptic_fpn_R_50_1x.py -> build\\lib.win-amd64-cpython-39\\detectron2\\model_zoo\\configs\\COCO-PanopticSegmentation\n",
            "      creating build\\lib.win-amd64-cpython-39\\detectron2\\model_zoo\\configs\\common\n",
            "      copying detectron2\\model_zoo\\configs\\common\\coco_schedule.py -> build\\lib.win-amd64-cpython-39\\detectron2\\model_zoo\\configs\\common\n",
            "      copying detectron2\\model_zoo\\configs\\common\\optim.py -> build\\lib.win-amd64-cpython-39\\detectron2\\model_zoo\\configs\\common\n",
            "      copying detectron2\\model_zoo\\configs\\common\\train.py -> build\\lib.win-amd64-cpython-39\\detectron2\\model_zoo\\configs\\common\n",
            "      creating build\\lib.win-amd64-cpython-39\\detectron2\\model_zoo\\configs\\common\\data\n",
            "      copying detectron2\\model_zoo\\configs\\common\\data\\coco.py -> build\\lib.win-amd64-cpython-39\\detectron2\\model_zoo\\configs\\common\\data\n",
            "      copying detectron2\\model_zoo\\configs\\common\\data\\coco_keypoint.py -> build\\lib.win-amd64-cpython-39\\detectron2\\model_zoo\\configs\\common\\data\n",
            "      copying detectron2\\model_zoo\\configs\\common\\data\\coco_panoptic_separated.py -> build\\lib.win-amd64-cpython-39\\detectron2\\model_zoo\\configs\\common\\data\n",
            "      copying detectron2\\model_zoo\\configs\\common\\data\\constants.py -> build\\lib.win-amd64-cpython-39\\detectron2\\model_zoo\\configs\\common\\data\n",
            "      creating build\\lib.win-amd64-cpython-39\\detectron2\\model_zoo\\configs\\common\\models\n",
            "      copying detectron2\\model_zoo\\configs\\common\\models\\cascade_rcnn.py -> build\\lib.win-amd64-cpython-39\\detectron2\\model_zoo\\configs\\common\\models\n",
            "      copying detectron2\\model_zoo\\configs\\common\\models\\fcos.py -> build\\lib.win-amd64-cpython-39\\detectron2\\model_zoo\\configs\\common\\models\n",
            "      copying detectron2\\model_zoo\\configs\\common\\models\\keypoint_rcnn_fpn.py -> build\\lib.win-amd64-cpython-39\\detectron2\\model_zoo\\configs\\common\\models\n",
            "      copying detectron2\\model_zoo\\configs\\common\\models\\mask_rcnn_c4.py -> build\\lib.win-amd64-cpython-39\\detectron2\\model_zoo\\configs\\common\\models\n",
            "      copying detectron2\\model_zoo\\configs\\common\\models\\mask_rcnn_fpn.py -> build\\lib.win-amd64-cpython-39\\detectron2\\model_zoo\\configs\\common\\models\n",
            "      copying detectron2\\model_zoo\\configs\\common\\models\\mask_rcnn_vitdet.py -> build\\lib.win-amd64-cpython-39\\detectron2\\model_zoo\\configs\\common\\models\n",
            "      copying detectron2\\model_zoo\\configs\\common\\models\\panoptic_fpn.py -> build\\lib.win-amd64-cpython-39\\detectron2\\model_zoo\\configs\\common\\models\n",
            "      copying detectron2\\model_zoo\\configs\\common\\models\\retinanet.py -> build\\lib.win-amd64-cpython-39\\detectron2\\model_zoo\\configs\\common\\models\n",
            "      copying detectron2\\model_zoo\\configs\\Misc\\mmdet_mask_rcnn_R_50_FPN_1x.py -> build\\lib.win-amd64-cpython-39\\detectron2\\model_zoo\\configs\\Misc\n",
            "      copying detectron2\\model_zoo\\configs\\Misc\\torchvision_imagenet_R_50.py -> build\\lib.win-amd64-cpython-39\\detectron2\\model_zoo\\configs\\Misc\n",
            "      creating build\\lib.win-amd64-cpython-39\\detectron2\\model_zoo\\configs\\new_baselines\n",
            "      copying detectron2\\model_zoo\\configs\\new_baselines\\mask_rcnn_regnetx_4gf_dds_FPN_100ep_LSJ.py -> build\\lib.win-amd64-cpython-39\\detectron2\\model_zoo\\configs\\new_baselines\n",
            "      copying detectron2\\model_zoo\\configs\\new_baselines\\mask_rcnn_regnetx_4gf_dds_FPN_200ep_LSJ.py -> build\\lib.win-amd64-cpython-39\\detectron2\\model_zoo\\configs\\new_baselines\n",
            "      copying detectron2\\model_zoo\\configs\\new_baselines\\mask_rcnn_regnetx_4gf_dds_FPN_400ep_LSJ.py -> build\\lib.win-amd64-cpython-39\\detectron2\\model_zoo\\configs\\new_baselines\n",
            "      copying detectron2\\model_zoo\\configs\\new_baselines\\mask_rcnn_regnety_4gf_dds_FPN_100ep_LSJ.py -> build\\lib.win-amd64-cpython-39\\detectron2\\model_zoo\\configs\\new_baselines\n",
            "      copying detectron2\\model_zoo\\configs\\new_baselines\\mask_rcnn_regnety_4gf_dds_FPN_200ep_LSJ.py -> build\\lib.win-amd64-cpython-39\\detectron2\\model_zoo\\configs\\new_baselines\n",
            "      copying detectron2\\model_zoo\\configs\\new_baselines\\mask_rcnn_regnety_4gf_dds_FPN_400ep_LSJ.py -> build\\lib.win-amd64-cpython-39\\detectron2\\model_zoo\\configs\\new_baselines\n",
            "      copying detectron2\\model_zoo\\configs\\new_baselines\\mask_rcnn_R_101_FPN_100ep_LSJ.py -> build\\lib.win-amd64-cpython-39\\detectron2\\model_zoo\\configs\\new_baselines\n",
            "      copying detectron2\\model_zoo\\configs\\new_baselines\\mask_rcnn_R_101_FPN_200ep_LSJ.py -> build\\lib.win-amd64-cpython-39\\detectron2\\model_zoo\\configs\\new_baselines\n",
            "      copying detectron2\\model_zoo\\configs\\new_baselines\\mask_rcnn_R_101_FPN_400ep_LSJ.py -> build\\lib.win-amd64-cpython-39\\detectron2\\model_zoo\\configs\\new_baselines\n",
            "      copying detectron2\\model_zoo\\configs\\new_baselines\\mask_rcnn_R_50_FPN_100ep_LSJ.py -> build\\lib.win-amd64-cpython-39\\detectron2\\model_zoo\\configs\\new_baselines\n",
            "      copying detectron2\\model_zoo\\configs\\new_baselines\\mask_rcnn_R_50_FPN_200ep_LSJ.py -> build\\lib.win-amd64-cpython-39\\detectron2\\model_zoo\\configs\\new_baselines\n",
            "      copying detectron2\\model_zoo\\configs\\new_baselines\\mask_rcnn_R_50_FPN_400ep_LSJ.py -> build\\lib.win-amd64-cpython-39\\detectron2\\model_zoo\\configs\\new_baselines\n",
            "      copying detectron2\\model_zoo\\configs\\new_baselines\\mask_rcnn_R_50_FPN_50ep_LSJ.py -> build\\lib.win-amd64-cpython-39\\detectron2\\model_zoo\\configs\\new_baselines\n",
            "      running build_ext\n",
            "      c:\\Users\\joaoo\\AppData\\Local\\pypoetry\\Cache\\virtualenvs\\newssonar-sgI27Wlv-py3.9\\lib\\site-packages\\torch\\utils\\cpp_extension.py:304: UserWarning: Error checking compiler version for cl: [WinError 2] The system cannot find the file specified\n",
            "        warnings.warn(f'Error checking compiler version for {compiler}: {error}')\n",
            "      building 'detectron2._C' extension\n",
            "      error: Microsoft Visual C++ 14.0 or greater is required. Get it with \"Microsoft C++ Build Tools\": https://visualstudio.microsoft.com/visual-cpp-build-tools/\n",
            "      [end of output]\n",
            "  \n",
            "  note: This error originates from a subprocess, and is likely not a problem with pip.\n",
            "  ERROR: Failed building wheel for detectron2\n",
            "  error: subprocess-exited-with-error\n",
            "  \n",
            "  × Building wheel for pycocotools (pyproject.toml) did not run successfully.\n",
            "  │ exit code: 1\n",
            "  ╰─> [16 lines of output]\n",
            "      running bdist_wheel\n",
            "      running build\n",
            "      running build_py\n",
            "      creating build\n",
            "      creating build\\lib.win-amd64-cpython-39\n",
            "      creating build\\lib.win-amd64-cpython-39\\pycocotools\n",
            "      copying pycocotools\\coco.py -> build\\lib.win-amd64-cpython-39\\pycocotools\n",
            "      copying pycocotools\\cocoeval.py -> build\\lib.win-amd64-cpython-39\\pycocotools\n",
            "      copying pycocotools\\mask.py -> build\\lib.win-amd64-cpython-39\\pycocotools\n",
            "      copying pycocotools\\__init__.py -> build\\lib.win-amd64-cpython-39\\pycocotools\n",
            "      running build_ext\n",
            "      cythoning pycocotools/_mask.pyx to pycocotools\\_mask.c\n",
            "      C:\\Users\\joaoo\\AppData\\Local\\Temp\\pip-build-env-uu0gar9m\\overlay\\Lib\\site-packages\\Cython\\Compiler\\Main.py:369: FutureWarning: Cython directive 'language_level' not set, using 2 for now (Py2). This will change in a later release! File: C:\\Users\\joaoo\\AppData\\Local\\Temp\\pip-install-9e8renqc\\pycocotools_e623a3da5e24465ebef88ac290e10af2\\pycocotools\\_mask.pyx\n",
            "        tree = Parsing.p_module(s, pxd, full_module_name)\n",
            "      building 'pycocotools._mask' extension\n",
            "      error: Microsoft Visual C++ 14.0 or greater is required. Get it with \"Microsoft C++ Build Tools\": https://visualstudio.microsoft.com/visual-cpp-build-tools/\n",
            "      [end of output]\n",
            "  \n",
            "  note: This error originates from a subprocess, and is likely not a problem with pip.\n",
            "  ERROR: Failed building wheel for pycocotools\n",
            "ERROR: Could not build wheels for pycocotools, which is required to install pyproject.toml-based projects\n"
          ]
        }
      ],
      "source": [
        "# install detectron2 that matches pytorch 1.8\n",
        "# See https://detectron2.readthedocs.io/tutorials/install.html for instructions\n",
        "#!pip install -q detectron2 -f https://dl.fbaipublicfiles.com/detectron2/wheels/cu101/torch1.8/index.html\n",
        "!python -m pip install git+https://github.com/facebookresearch/detectron2.git"
      ]
    },
    {
      "cell_type": "markdown",
      "metadata": {
        "id": "SedlLnHKZLAc"
      },
      "source": [
        "To be able to share your model with the community on the HuggingFace hub, there are a few more steps to follow.\n",
        "\n",
        "First you have to store your authentication token from the Hugging Face website (sign up [here](https://huggingface.co/welcome) if you haven't already!) then uncomment the following cell and input your username and password (this only works on Colab, in a regular notebook, you need to do this in a terminal):"
      ]
    },
    {
      "cell_type": "code",
      "execution_count": 5,
      "metadata": {
        "colab": {
          "base_uri": "https://localhost:8080/"
        },
        "id": "Jq4RNnzzZ_C6",
        "outputId": "509641a3-ef2b-470d-81b0-bb5c5057334b"
      },
      "outputs": [
        {
          "name": "stdout",
          "output_type": "stream",
          "text": [
            "\n",
            "    _|    _|  _|    _|    _|_|_|    _|_|_|  _|_|_|  _|      _|    _|_|_|      _|_|_|_|    _|_|      _|_|_|  _|_|_|_|\n",
            "    _|    _|  _|    _|  _|        _|          _|    _|_|    _|  _|            _|        _|    _|  _|        _|\n",
            "    _|_|_|_|  _|    _|  _|  _|_|  _|  _|_|    _|    _|  _|  _|  _|  _|_|      _|_|_|    _|_|_|_|  _|        _|_|_|\n",
            "    _|    _|  _|    _|  _|    _|  _|    _|    _|    _|    _|_|  _|    _|      _|        _|    _|  _|        _|\n",
            "    _|    _|    _|_|      _|_|_|    _|_|_|  _|_|_|  _|      _|    _|_|_|      _|        _|    _|    _|_|_|  _|_|_|_|\n",
            "    \n",
            "    To login, `huggingface_hub` requires a token generated from https://huggingface.co/settings/tokens .\n",
            "Token: \n",
            "Add token as git credential? (Y/n) n\n",
            "Token is valid.\n",
            "Your token has been saved to /root/.cache/huggingface/token\n",
            "Login successful\n"
          ]
        }
      ],
      "source": [
        "!huggingface-cli login"
      ]
    },
    {
      "cell_type": "markdown",
      "metadata": {
        "id": "XbGrla95aZHB"
      },
      "source": [
        "Then you need to install Git-LFS (which is used by the hub) and setup Git if you haven't already. Uncomment the following instructions and adapt with your name and email:"
      ]
    },
    {
      "cell_type": "code",
      "execution_count": null,
      "metadata": {
        "id": "LYn8o5r9cLmW"
      },
      "outputs": [],
      "source": [
        "#!apt install git-lfs\n",
        "#!git config --global user.email \"example@gmail.com\"\n",
        "#!git config --global user.name \"your name\""
      ]
    },
    {
      "cell_type": "markdown",
      "metadata": {
        "id": "iOxLV0JnQJWJ"
      },
      "source": [
        "## Prepare the data\n",
        "\n",
        "Let's load the FUNSD dataset from the HuggingFace hub."
      ]
    },
    {
      "cell_type": "code",
      "execution_count": 1,
      "metadata": {
        "colab": {
          "base_uri": "https://localhost:8080/",
          "height": 86,
          "referenced_widgets": [
            "428ee4fef1dd4dc3934a64069e416773",
            "1072f77ff1314f11a5c05f4de833703b",
            "73a29c652c534bc38e9096f2fcee99c4",
            "b149d07d8f8a482a8d14ba101e69c5e9",
            "84f4101571024fa6985f1d9844e0aeac",
            "637b373c0ed841258e6695cf303fabc7",
            "4a12a2a400c14c78a9bdf241997526a0",
            "1588a60467fa41f896893a8323b55efa",
            "00284dabd64a4a7f8502fcd9d9872c1f",
            "2d40efd607aa48e19ca3a335dd09669d",
            "6abed6a07fdb4a1aa267bcc07ff6e159"
          ]
        },
        "id": "Gq5CmIRZUy9O",
        "outputId": "5fb50ec1-2906-4ecf-a442-7f69dc8a71b6"
      },
      "outputs": [
        {
          "name": "stderr",
          "output_type": "stream",
          "text": [
            "WARNING:datasets.builder:Found cached dataset parquet (/root/.cache/huggingface/datasets/jfecunha___parquet/jfecunha--arquivo_news-f812c16a1225c237/0.0.0/2a3b91fbd88a2c90d1dbbb32b460cf621d31bd5b05b934492fdef7d8d6f236ec)\n"
          ]
        },
        {
          "data": {
            "application/vnd.jupyter.widget-view+json": {
              "model_id": "428ee4fef1dd4dc3934a64069e416773",
              "version_major": 2,
              "version_minor": 0
            },
            "text/plain": [
              "  0%|          | 0/2 [00:00<?, ?it/s]"
            ]
          },
          "metadata": {},
          "output_type": "display_data"
        }
      ],
      "source": [
        "from datasets import load_dataset\n",
        "\n",
        "datasets = load_dataset(\"jfecunha/arquivo_news\")"
      ]
    },
    {
      "cell_type": "markdown",
      "metadata": {
        "id": "5ZY71l6aHrDS"
      },
      "source": [
        "As we can see, it contains a training and test split. Each example consists of an id, tokens, bounding boxes, NER tags (in IOB format) and a document image. Note: tokens might be a bit misleading here, because these are still words. We need to convert them to actual tokens (word pieces) using the tokenizer. "
      ]
    },
    {
      "cell_type": "code",
      "execution_count": 2,
      "metadata": {
        "colab": {
          "base_uri": "https://localhost:8080/"
        },
        "id": "BKSADVSir0n-",
        "outputId": "25ca5e8c-fac0-4416-fb0f-329e3a5e6afd"
      },
      "outputs": [
        {
          "data": {
            "text/plain": [
              "DatasetDict({\n",
              "    train: Dataset({\n",
              "        features: ['id', 'words', 'bboxes', 'labels', 'image', 'image_path', 'source', '__index_level_0__'],\n",
              "        num_rows: 320\n",
              "    })\n",
              "    test: Dataset({\n",
              "        features: ['id', 'words', 'bboxes', 'labels', 'image', 'image_path', 'source', '__index_level_0__'],\n",
              "        num_rows: 80\n",
              "    })\n",
              "})"
            ]
          },
          "execution_count": 2,
          "metadata": {},
          "output_type": "execute_result"
        }
      ],
      "source": [
        "datasets"
      ]
    },
    {
      "cell_type": "code",
      "execution_count": 3,
      "metadata": {
        "colab": {
          "base_uri": "https://localhost:8080/"
        },
        "id": "c1wr351oItuI",
        "outputId": "a8309b8d-b09e-41df-c444-6b2479813721"
      },
      "outputs": [
        {
          "data": {
            "text/plain": [
              "{'id': Value(dtype='int64', id=None),\n",
              " 'words': Sequence(feature=Value(dtype='string', id=None), length=-1, id=None),\n",
              " 'bboxes': Sequence(feature=Sequence(feature=Value(dtype='int64', id=None), length=-1, id=None), length=-1, id=None),\n",
              " 'labels': Sequence(feature=Value(dtype='float64', id=None), length=-1, id=None),\n",
              " 'image': Value(dtype='binary', id=None),\n",
              " 'image_path': Value(dtype='string', id=None),\n",
              " 'source': Value(dtype='string', id=None),\n",
              " '__index_level_0__': Value(dtype='int64', id=None)}"
            ]
          },
          "execution_count": 3,
          "metadata": {},
          "output_type": "execute_result"
        }
      ],
      "source": [
        "datasets['train'].features"
      ]
    },
    {
      "cell_type": "markdown",
      "metadata": {
        "id": "DCAkABOGfrXZ"
      },
      "source": [
        "## Preprocess data\n",
        "\n",
        "First, let's store the labels in a list, and create dictionaries that let us map from labels to integer indices and vice versa. The latter will be useful when evaluating the model."
      ]
    },
    {
      "cell_type": "code",
      "execution_count": 4,
      "metadata": {
        "colab": {
          "base_uri": "https://localhost:8080/"
        },
        "id": "KmX1lk8D_hQ2",
        "outputId": "a63990a2-f366-4628-8c62-97a0e21b254a"
      },
      "outputs": [
        {
          "data": {
            "text/plain": [
              "{'None': 0, 'Title': 1, 'SubTitle': 2, 'Category': 3}"
            ]
          },
          "execution_count": 4,
          "metadata": {},
          "output_type": "execute_result"
        }
      ],
      "source": [
        "label2id = {\n",
        "    'None': 0,\n",
        "    'Title': 1,\n",
        "    'SubTitle': 2,\n",
        "    'Category': 3\n",
        "}\n",
        "\n",
        "label2id"
      ]
    },
    {
      "cell_type": "code",
      "execution_count": 5,
      "metadata": {
        "colab": {
          "base_uri": "https://localhost:8080/"
        },
        "id": "r7SKl039fUWr",
        "outputId": "c70b270d-0fe3-42f2-8430-7c5d1a3816fc"
      },
      "outputs": [
        {
          "data": {
            "text/plain": [
              "{0: 'None', 1: 'Title', 2: 'SubTitle', 3: 'Category'}"
            ]
          },
          "execution_count": 5,
          "metadata": {},
          "output_type": "execute_result"
        }
      ],
      "source": [
        "id2label = {v: k for v, k in enumerate(label2id)}\n",
        "id2label"
      ]
    },
    {
      "cell_type": "markdown",
      "metadata": {
        "id": "aP1GQ51QLym-"
      },
      "source": [
        "Next, let's use `LayoutLMv2Processor` to prepare the data for the model."
      ]
    },
    {
      "cell_type": "code",
      "execution_count": 6,
      "metadata": {
        "colab": {
          "base_uri": "https://localhost:8080/",
          "height": 176,
          "referenced_widgets": [
            "fc9f6ceceb9d455cb770dc6a770f7edd",
            "dd6f31560c8341f8bf7e4934bf4d38f6",
            "3947f3c3f59e43eebffb0581be34aea1",
            "1212e2516d554a089eddc60bee2f03a9",
            "a3c6a40d7f4f4703950bc26a8e6a1271",
            "153e7ef38bd24537a7a7084a7dbc244f",
            "13e5af46c6d54ba393c4d8ee4470e3c9",
            "5445e8225f134823a21e77676a4ecea4",
            "f7c5d971b0dd4f0484caca502b9a1e31",
            "f7e6789fb66a4125adaac63794a49a74",
            "a05fb876a5ef4e2cbbd0bbb7595492b8",
            "b35d9aff5709409d8188ffcfb1474689",
            "7ab0d04bd0b44908bb598b8d3bac80e4",
            "5a1155e4e7274ff89ed6edabb37168d8",
            "c5ef89736fb8480cbf610612b57c7021",
            "19b050678cfb47659a1b1d645d9c88a2",
            "634e58d837c24b7389dbab89689cdf90",
            "6f1d70f9487c4721b77e5cf3613c482a",
            "16654c8a9c6e4bcf862d6ee626c4b163",
            "0099ec24dfc2418e831f32d40652322e",
            "5e3206c548a44d0180ef80d898bf3b6c",
            "fdbf2ea0c0814e24ad96fecd06819c3e"
          ]
        },
        "id": "oYlbGDFg_wkh",
        "outputId": "d1c8572d-f1cd-41a0-a129-23faa31425c4"
      },
      "outputs": [
        {
          "name": "stderr",
          "output_type": "stream",
          "text": [
            "/usr/local/lib/python3.9/dist-packages/transformers/models/layoutlmv2/feature_extraction_layoutlmv2.py:30: FutureWarning: The class LayoutLMv2FeatureExtractor is deprecated and will be removed in version 5 of Transformers. Please use LayoutLMv2ImageProcessor instead.\n",
            "  warnings.warn(\n"
          ]
        },
        {
          "data": {
            "application/vnd.jupyter.widget-view+json": {
              "model_id": "fc9f6ceceb9d455cb770dc6a770f7edd",
              "version_major": 2,
              "version_minor": 0
            },
            "text/plain": [
              "Map:   0%|          | 0/320 [00:00<?, ? examples/s]"
            ]
          },
          "metadata": {},
          "output_type": "display_data"
        },
        {
          "name": "stdout",
          "output_type": "stream",
          "text": [
            "[0.0, 0.0, 0.0, 0.0, 0.0, 0.0, 0.0, 0.0, 0.0, 0.0, 0.0, 0.0, 0.0, 0.0, 0.0, 0.0, 0.0, 0.0, 0.0, 0.0, 0.0, 0.0, 0.0, 0.0, 0.0, 0.0, 0.0, 0.0, 0.0, 0.0, 0.0, 0.0, 0.0, 0.0, 0.0, 0.0, 0.0, 0.0, 0.0, 0.0, 0.0, 0.0, 0.0, 0.0, 0.0, 0.0, 0.0, 0.0, 0.0, 0.0, 0.0, 0.0, 0.0, 0.0, 0.0, 0.0, 0.0, 0.0, 0.0, 0.0, 0.0, 0.0, 0.0, 0.0, 0.0, 0.0, 0.0, 0.0, 0.0, 0.0, 0.0, 0.0, 0.0, 0.0, 0.0, 0.0, 0.0, 0.0, 0.0, 0.0, 0.0, 0.0, 0.0, 0.0, 0.0, 0.0, 0.0, 0.0, 0.0, 0.0, 0.0, 0.0, 0.0, 0.0, 0.0, 0.0, 0.0, 0.0, 0.0, 0.0, 0.0, 0.0, 0.0, 0.0, 0.0, 0.0, 0.0, 0.0, 0.0, 0.0, 0.0, 0.0, 0.0, 0.0, 0.0, 0.0, 0.0, 0.0, 0.0, 0.0, 0.0, 0.0, 0.0, 0.0, 0.0, 0.0, 0.0, 0.0, 0.0, 0.0, 0.0, 0.0, 0.0, 0.0, 0.0, 0.0, 0.0, 0.0, 0.0, 0.0, 0.0, 0.0, 0.0, 0.0, 0.0, 0.0, 0.0, 0.0, 0.0, 0.0, 0.0, 0.0, 0.0, 0.0, 2.0, 2.0, 2.0, 2.0, 2.0, 2.0, 2.0, 2.0, 2.0, 2.0, 2.0, 2.0, 2.0, 2.0, 2.0, 2.0, 2.0, 2.0, 2.0, 2.0, 2.0, 2.0, 0.0, 1.0, 1.0, 1.0, 0.0, 0.0, 1.0, 0.0, 0.0, 0.0, 1.0, 1.0, 1.0, 1.0, 1.0, 0.0, 1.0, 1.0, 1.0, 0.0, 1.0, 0.0, 0.0, 0.0, 0.0, 0.0, 0.0, 0.0, 0.0, 0.0, 1.0, 1.0, 1.0, 0.0, 0.0, 0.0, 1.0, 1.0, 1.0, 1.0, 1.0, 1.0, 1.0, 0.0, 1.0, 0.0, 0.0, 1.0, 0.0, 1.0, 1.0, 1.0, 1.0, 1.0, 1.0, 1.0, 1.0, 1.0, 1.0, 1.0, 0.0, 0.0, 0.0, 1.0, 1.0, 1.0, 1.0, 1.0, 1.0, 1.0, 1.0, 1.0, 1.0, 1.0, 1.0, 1.0, 1.0, 1.0, 1.0, 1.0, 1.0, 1.0, 1.0, 1.0, 1.0, 1.0, 1.0, 1.0, 1.0, 0.0]\n",
            "[[6, 7, 17, 8], [185, 8, 191, 17], [33, 8, 100, 21], [164, 8, 171, 17], [43, 47, 70, 53], [77, 49, 78, 53], [98, 50, 99, 53], [139, 71, 145, 75], [139, 81, 150, 92], [40, 89, 62, 95], [65, 89, 73, 95], [82, 91, 89, 95], [152, 102, 182, 118], [83, 108, 89, 109], [103, 110, 120, 112], [182, 124, 189, 126], [75, 133, 80, 145], [43, 135, 78, 141], [55, 144, 67, 148], [106, 177, 133, 182], [33, 177, 67, 189], [75, 177, 99, 182], [0, 183, 22, 205], [30, 184, 67, 205], [21, 185, 28, 205], [71, 195, 149, 208], [17, 209, 47, 218], [50, 209, 103, 218], [10, 210, 17, 218], [106, 212, 119, 218], [10, 222, 82, 235], [31, 246, 41, 250], [44, 246, 69, 250], [73, 246, 92, 250], [91, 246, 104, 258], [105, 246, 109, 250], [111, 246, 148, 250], [106, 246, 190, 261], [19, 247, 21, 249], [54, 250, 80, 258], [31, 252, 51, 259], [83, 252, 94, 261], [83, 263, 119, 275], [40, 263, 65, 272], [68, 263, 79, 272], [57, 274, 65, 280], [75, 274, 90, 280], [164, 274, 172, 280], [29, 275, 54, 280], [93, 276, 96, 281], [136, 276, 137, 280], [140, 276, 150, 281], [82, 283, 122, 289], [145, 284, 160, 289], [52, 285, 64, 289], [68, 285, 74, 289], [125, 285, 131, 289], [48, 292, 56, 298], [117, 292, 124, 298], [127, 292, 158, 299], [166, 292, 177, 298], [21, 294, 28, 298], [37, 294, 46, 298], [99, 294, 114, 298], [160, 294, 163, 298], [10, 301, 38, 308], [98, 301, 119, 308], [129, 301, 157, 307], [68, 302, 72, 307], [82, 302, 84, 307], [89, 303, 89, 306], [53, 303, 57, 307], [97, 310, 108, 316], [149, 310, 170, 316], [26, 312, 37, 316], [82, 312, 89, 316], [110, 312, 125, 316], [127, 312, 133, 316], [137, 317, 161, 340], [166, 317, 178, 340], [30, 319, 37, 325], [46, 319, 177, 335], [14, 321, 17, 323], [7, 325, 17, 339], [21, 325, 30, 339], [33, 327, 44, 336], [32, 333, 72, 345], [127, 335, 158, 345], [91, 336, 99, 346], [73, 337, 87, 345], [10, 337, 30, 343], [103, 338, 123, 345], [40, 349, 81, 362], [83, 359, 95, 374], [98, 363, 129, 369], [42, 364, 45, 369], [47, 364, 66, 371], [134, 364, 137, 369], [10, 365, 35, 369], [69, 365, 80, 370], [140, 365, 158, 369], [160, 365, 163, 369], [10, 373, 41, 380], [43, 373, 62, 378], [77, 373, 115, 380], [131, 373, 157, 378], [160, 373, 186, 378], [64, 374, 75, 378], [117, 374, 129, 380], [10, 382, 36, 388], [130, 403, 142, 419], [144, 403, 169, 419], [65, 404, 72, 418], [101, 404, 106, 418], [49, 407, 70, 414], [105, 408, 128, 414], [88, 409, 104, 416], [71, 410, 95, 425], [172, 410, 180, 414], [31, 410, 35, 414], [65, 415, 71, 425], [105, 418, 123, 425], [26, 419, 33, 423], [17, 423, 24, 428], [48, 444, 71, 449], [87, 444, 110, 449], [129, 444, 176, 449], [41, 444, 45, 449], [18, 445, 35, 449], [73, 445, 85, 451], [113, 445, 126, 449], [178, 445, 186, 449], [104, 488, 140, 497], [40, 488, 68, 497], [143, 488, 172, 499], [72, 490, 88, 500], [92, 490, 101, 497], [24, 505, 35, 513], [76, 505, 128, 516], [0, 505, 20, 513], [132, 507, 188, 513], [121, 517, 133, 526], [0, 520, 33, 526], [36, 520, 46, 526], [50, 520, 80, 526], [83, 520, 117, 528], [136, 520, 162, 526], [165, 520, 182, 528], [41, 530, 76, 538], [0, 532, 20, 538], [23, 532, 38, 538], [0, 547, 6, 552], [15, 548, 33, 552], [38, 548, 51, 552], [56, 564, 61, 578], [4, 569, 22, 573], [33, 569, 59, 575], [69, 569, 74, 573], [171, 570, 180, 573], [65, 578, 71, 584], [74, 578, 97, 585], [159, 578, 165, 584], [30, 579, 52, 584], [104, 579, 119, 585], [137, 579, 143, 584], [0, 580, 19, 584], [128, 580, 134, 584], [136, 585, 143, 599], [32, 589, 44, 594], [126, 589, 141, 594], [46, 589, 51, 594], [0, 590, 14, 594], [23, 590, 30, 594], [91, 590, 97, 594], [114, 590, 120, 594], [152, 590, 162, 594], [156, 632, 164, 637], [2, 645, 27, 652], [68, 645, 89, 652], [92, 645, 133, 652], [165, 645, 173, 650], [175, 645, 179, 650], [30, 646, 65, 654], [169, 652, 180, 656], [164, 653, 166, 654], [189, 653, 192, 656], [0, 655, 9, 662], [11, 655, 45, 662], [48, 655, 74, 662], [84, 655, 125, 664], [77, 657, 81, 662], [180, 665, 186, 669], [17, 665, 62, 672], [65, 665, 79, 672], [81, 665, 105, 672], [172, 666, 178, 669], [0, 667, 14, 672], [96, 675, 107, 689], [19, 681, 37, 685], [40, 681, 55, 685], [58, 681, 60, 685], [63, 681, 75, 685], [77, 681, 93, 685], [8, 681, 15, 685], [155, 718, 177, 723], [168, 726, 173, 729], [5, 731, 32, 739], [94, 731, 128, 737], [131, 731, 139, 737], [172, 731, 179, 735], [147, 732, 150, 735], [157, 732, 170, 735], [35, 733, 67, 737], [69, 733, 91, 739], [0, 741, 45, 747], [54, 741, 101, 749], [124, 742, 131, 748], [48, 743, 51, 747], [103, 743, 121, 749], [188, 745, 193, 748], [0, 751, 9, 757], [165, 751, 183, 755], [148, 752, 154, 755], [11, 753, 40, 759], [18, 766, 23, 770], [38, 820, 49, 829], [52, 820, 89, 829], [158, 820, 186, 829], [7, 821, 35, 829], [114, 821, 151, 829], [92, 823, 110, 829], [14, 833, 65, 844], [98, 833, 109, 841], [68, 834, 94, 841], [112, 834, 169, 844], [0, 835, 11, 841], [0, 850, 15, 855], [18, 851, 33, 855], [37, 851, 54, 855], [159, 902, 192, 913], [3, 905, 18, 911], [21, 905, 62, 913], [67, 905, 77, 911], [99, 906, 132, 913], [79, 907, 97, 911], [0, 915, 9, 921], [46, 915, 74, 921], [107, 915, 131, 921], [79, 915, 88, 921], [11, 916, 43, 921], [91, 917, 105, 921], [3, 925, 41, 933], [112, 925, 120, 931], [44, 927, 61, 931], [63, 927, 80, 931], [83, 927, 109, 933], [0, 935, 26, 941], [65, 935, 94, 941], [155, 935, 177, 941], [31, 935, 46, 941], [48, 937, 63, 941], [97, 937, 109, 941], [111, 937, 130, 941], [133, 937, 137, 941], [140, 937, 153, 941], [17, 950, 46, 954]]\n",
            "['=', 'Ss', 'XDFESSO.', 'D', 'Excwusio', '+', 't', '—', 'lle', 'Daniel', 'Oli', '‘ira', 'al', 'm', '2G', '—~', '~', 'Excwusivo', 'ps', 'Coutinho', '4_Louwenco', 'Pereira', 'ure', 'aed', 'i', 'Orcamento.do', 'Stado', 'aprovado', 'E', 'na', 'generalidade', 'ILIANA', 'COELHO,', 'MARIAN)', 'old', 'WA', 'CUNHAEMIGUI', 'éaimperturbdvel', 'a', 'VISLOS', 'xr063S', 'GO', 'negécio', 'alma', 'do', 'do', 'tado', 'do', 'amento', 'py', 'i', 'apr', 'generalidade', 'votos', 'eira', 'na', 'com', 'do', 'da', 'esquerda', 'dos', 'or', 'eis', 'ncao', 'e', 'deputad', 'partid', 'adireita', 'D-', 'A.', 'C', 'lo', 'de', 'onade', 'ram', 'ongo', 'uma', 'm', 'ace', 'ae', 'de', 'Ita', '=', 'GH', 're', 'deb', 'siaxteéden', 'direita', '(e', 'te', 'Pedro', 'uma', 'perdida)', 'uma', 'obsessao.', 'A', 'opgao', 'E', '09.01.2020', 'por', 'como', 'a', 'esquerda', 'aceita', 'Orcamento', 'adireita', 'adorava', 'um', 'que', 'terfeito', 'nao', '(dentro', 'jd', 'C', '505', 'enteno', 'ou,', 'ft', 'ou', '20', '‘V)', 'onga?', '40', 'te', 'debate', 'acabou', 'Costasentado', 'O', '01.2020', 'que', 'com', 'ao', 'abutres', 'Q.som', 'fazem', 'que', 'os', 'de', 'pecialistas', 'Irao', 'ucranianos', 'do', 'acesso', 'as', 'Calxas', 'hegras', 'aviao', 'que', 'Teerao', 'caiu', 'em', 'ha', 'minutos', 'LUSA', 'j', '‘Anos:', 'equipa', 'ev', 'dis', 'de', 'imprensa,', 'ik', 'nferéncia', 'Va', 'Pr', 'numa', 'm', 'uc', 'dos', 'da', 'Ne', 'mini', '10', 'ral', '10!', 'nia', 'Adi', 'Adiada', 'sobre', 'homicidio', 'idio', 'a', 'sentenca', 'devi', 'ia', 'a', 'de', 'triatleta', 'devido', '“alteracao', 'a', 'do’', 'substancial', 'dos', \"factos'\", 'ial', 'nao', 'BARI', 'HELENA', 'BENTO', 'E', 'JOKO', 'PEDRO', 'n02', 'Fenprot', '/oc', 'enprof', 'nacional', 'de', 'de', 'i', '‘onal', 'convoca', 'greve', 'educadores', 'professores', '31', 'e', 'para', 'va', 'de', 'janeiro', '31', 'janeiro', 'ww', 'de', 'Setibal', 'todos', 'itéria', 'treinou:', 'nao', 'jogadores', 'de', 'estao', 'quarentena', 'os', '12h18', 'DIOGO', 'POMBO', '{Pm', '{lio', 'Velazquez:', '“E', 'situacio', 'uma', 'de', 'mundo.', 'tenho', 'Se', 'terceiro', 'nao', 'jogadores,', 'de', 'ser', 'uma', 'equipa', 'merda.', 'colocar', 'satide', 'Nao', 'vou', 'em', 'risco', 'a', 'sua', 'TRIBUNAEX']\n"
          ]
        },
        {
          "data": {
            "application/vnd.jupyter.widget-view+json": {
              "model_id": "b35d9aff5709409d8188ffcfb1474689",
              "version_major": 2,
              "version_minor": 0
            },
            "text/plain": [
              "Map:   0%|          | 0/80 [00:00<?, ? examples/s]"
            ]
          },
          "metadata": {},
          "output_type": "display_data"
        },
        {
          "name": "stdout",
          "output_type": "stream",
          "text": [
            "[0.0, 0.0, 0.0, 0.0, 0.0, 0.0, 0.0, 0.0, 0.0, 0.0, 0.0, 0.0, 0.0, 0.0, 0.0, 0.0, 0.0, 0.0, 0.0, 0.0, 0.0, 0.0, 0.0, 0.0, 0.0, 0.0, 0.0, 0.0, 0.0, 0.0, 0.0, 0.0, 0.0, 0.0, 0.0, 0.0, 0.0, 0.0, 0.0, 0.0, 0.0, 0.0, 0.0, 0.0, 0.0, 0.0, 0.0, 0.0, 0.0, 0.0, 0.0, 0.0, 0.0, 0.0, 0.0, 0.0, 0.0, 0.0, 0.0, 0.0, 0.0, 0.0, 0.0, 0.0, 0.0, 0.0, 0.0, 0.0, 0.0, 0.0, 0.0, 0.0, 0.0, 0.0, 0.0, 0.0, 0.0, 0.0, 3.0, 0.0, 0.0, 0.0, 1.0, 1.0, 1.0, 1.0, 1.0, 1.0, 1.0, 1.0, 1.0, 0.0, 1.0, 1.0, 1.0, 0.0, 0.0, 0.0, 0.0, 0.0, 0.0, 0.0, 0.0, 3.0, 1.0, 1.0, 1.0, 1.0, 0.0, 1.0, 1.0, 1.0, 1.0, 1.0, 1.0, 1.0, 1.0, 0.0, 0.0, 0.0, 0.0, 0.0, 0.0, 0.0, 2.0, 2.0, 2.0, 2.0, 0.0, 0.0, 0.0, 0.0, 0.0, 2.0, 2.0, 2.0, 0.0, 0.0, 2.0, 2.0, 2.0, 2.0, 2.0, 3.0, 3.0, 3.0, 1.0, 1.0, 1.0, 1.0, 1.0, 3.0, 3.0, 3.0, 1.0, 1.0, 1.0, 1.0, 1.0, 1.0, 1.0, 1.0, 1.0, 1.0, 2.0, 2.0, 2.0, 2.0, 2.0, 2.0, 2.0, 2.0, 2.0, 2.0, 2.0, 1.0, 1.0, 1.0, 2.0, 1.0, 3.0, 2.0, 2.0, 2.0, 2.0, 2.0, 2.0, 2.0, 2.0, 1.0, 1.0, 1.0, 1.0, 2.0, 2.0, 2.0, 2.0, 2.0, 2.0, 2.0, 2.0, 2.0, 2.0, 2.0, 1.0, 1.0, 1.0, 1.0, 2.0, 2.0, 2.0, 2.0, 2.0, 2.0, 2.0, 2.0, 2.0, 2.0, 2.0, 2.0, 1.0, 3.0, 0.0, 0.0, 0.0, 1.0, 1.0, 1.0, 1.0, 1.0, 1.0, 1.0, 0.0, 1.0, 1.0, 1.0, 1.0, 1.0, 1.0, 1.0, 1.0, 1.0, 1.0, 1.0, 1.0, 1.0, 0.0, 1.0, 1.0, 1.0, 1.0, 1.0, 1.0, 1.0, 2.0, 2.0, 2.0, 2.0, 2.0, 2.0, 1.0, 1.0, 1.0, 2.0, 2.0, 0.0, 1.0, 1.0, 1.0, 2.0, 2.0, 2.0, 2.0, 2.0, 2.0, 1.0, 1.0, 1.0, 1.0, 2.0, 2.0, 2.0, 2.0, 2.0, 2.0, 3.0, 3.0, 2.0, 2.0, 2.0, 2.0, 1.0, 1.0, 1.0, 0.0, 1.0, 1.0, 2.0, 2.0, 1.0, 1.0, 1.0, 1.0, 1.0, 1.0, 1.0, 1.0, 1.0, 1.0, 1.0, 1.0, 1.0, 1.0, 1.0, 1.0, 1.0, 1.0, 1.0, 1.0, 1.0, 1.0, 1.0, 1.0, 1.0, 1.0, 0.0, 1.0, 1.0, 1.0, 1.0, 1.0, 1.0, 3.0, 3.0, 3.0, 3.0, 3.0, 3.0, 1.0, 1.0, 1.0, 1.0, 1.0, 1.0, 1.0, 1.0, 1.0, 1.0, 1.0, 1.0, 1.0, 1.0, 1.0, 1.0, 1.0, 1.0, 1.0, 1.0, 1.0, 1.0, 1.0, 1.0, 1.0, 1.0, 1.0, 1.0, 1.0, 1.0, 1.0, 1.0, 1.0, 1.0, 1.0, 1.0, 1.0, 0.0, 0.0, 0.0]\n",
            "[[158, 2, 164, 16], [7, 8, 11, 14], [27, 8, 31, 12], [36, 8, 43, 12], [47, 8, 56, 12], [61, 8, 79, 12], [98, 8, 117, 12], [122, 8, 135, 13], [141, 8, 163, 12], [168, 8, 176, 12], [184, 8, 197, 12], [229, 8, 242, 12], [249, 8, 265, 12], [294, 8, 309, 12], [316, 8, 323, 12], [328, 8, 338, 12], [345, 8, 354, 12], [276, 8, 284, 12], [84, 9, 91, 12], [210, 9, 221, 12], [287, 9, 290, 12], [708, 28, 739, 33], [768, 28, 773, 33], [178, 29, 213, 55], [727, 40, 761, 57], [463, 41, 476, 56], [481, 43, 494, 54], [593, 46, 620, 52], [622, 68, 623, 80], [165, 70, 199, 76], [209, 70, 242, 76], [252, 70, 273, 76], [283, 70, 308, 78], [318, 70, 345, 76], [355, 70, 392, 76], [402, 70, 437, 78], [447, 70, 476, 76], [486, 70, 519, 78], [530, 70, 557, 76], [568, 70, 598, 78], [608, 70, 621, 76], [631, 70, 661, 76], [671, 70, 686, 76], [735, 71, 741, 76], [757, 71, 771, 77], [551, 120, 558, 122], [559, 129, 569, 133], [553, 139, 577, 145], [185, 144, 252, 155], [530, 151, 543, 156], [556, 151, 571, 158], [525, 160, 577, 168], [591, 160, 597, 162], [185, 160, 258, 190], [592, 167, 608, 172], [263, 170, 371, 188], [426, 171, 502, 188], [376, 171, 415, 184], [592, 172, 604, 179], [541, 173, 562, 176], [541, 178, 567, 184], [185, 190, 251, 203], [305, 190, 385, 203], [581, 190, 587, 192], [579, 193, 585, 197], [256, 194, 266, 203], [271, 194, 300, 203], [529, 196, 550, 202], [540, 204, 554, 208], [561, 208, 576, 212], [598, 212, 603, 214], [526, 214, 561, 222], [590, 214, 596, 216], [564, 220, 567, 225], [577, 221, 599, 224], [551, 223, 555, 226], [569, 226, 578, 232], [594, 233, 604, 238], [495, 265, 520, 272], [651, 269, 655, 273], [658, 269, 662, 273], [665, 269, 683, 273], [496, 276, 531, 283], [563, 276, 598, 285], [533, 278, 561, 283], [601, 278, 611, 283], [496, 286, 521, 293], [535, 286, 560, 293], [524, 288, 533, 293], [562, 288, 601, 293], [604, 288, 617, 293], [723, 289, 793, 308], [495, 297, 518, 306], [521, 297, 531, 304], [534, 297, 569, 304], [337, 303, 369, 311], [697, 305, 703, 310], [721, 307, 726, 311], [647, 308, 668, 323], [737, 308, 779, 320], [672, 322, 688, 326], [729, 324, 777, 347], [671, 327, 713, 347], [496, 336, 527, 343], [496, 347, 534, 356], [564, 347, 602, 356], [536, 349, 562, 354], [605, 349, 609, 354], [749, 352, 766, 355], [557, 355, 561, 368], [566, 357, 586, 364], [589, 357, 599, 364], [495, 359, 535, 366], [537, 359, 557, 366], [496, 368, 534, 377], [536, 368, 547, 375], [549, 368, 578, 375], [653, 370, 670, 376], [673, 370, 680, 376], [682, 370, 709, 377], [711, 370, 718, 376], [721, 370, 734, 376], [737, 370, 744, 376], [746, 370, 774, 376], [501, 379, 533, 384], [544, 379, 577, 384], [580, 379, 585, 384], [587, 379, 615, 386], [681, 379, 688, 385], [690, 379, 708, 385], [711, 379, 729, 385], [743, 379, 752, 385], [755, 379, 786, 386], [535, 380, 542, 384], [616, 380, 624, 384], [497, 381, 499, 383], [653, 381, 678, 386], [731, 381, 741, 385], [501, 387, 515, 392], [517, 387, 524, 392], [555, 387, 562, 392], [564, 387, 583, 392], [526, 387, 553, 394], [495, 407, 529, 416], [532, 407, 559, 414], [561, 407, 580, 414], [496, 418, 520, 425], [522, 418, 533, 425], [535, 418, 573, 427], [576, 418, 586, 425], [588, 418, 607, 425], [170, 423, 174, 442], [208, 423, 212, 442], [172, 425, 210, 436], [495, 428, 520, 435], [522, 428, 563, 435], [575, 428, 598, 437], [601, 430, 617, 437], [525, 439, 563, 448], [495, 439, 511, 446], [514, 441, 523, 446], [173, 441, 236, 457], [240, 441, 295, 457], [299, 445, 362, 457], [501, 450, 526, 455], [556, 450, 582, 455], [602, 450, 609, 455], [611, 450, 626, 455], [533, 450, 554, 457], [528, 451, 531, 455], [584, 451, 600, 455], [497, 452, 499, 454], [501, 458, 521, 463], [522, 458, 550, 463], [561, 458, 594, 465], [173, 459, 245, 471], [249, 459, 319, 471], [323, 459, 342, 471], [552, 459, 559, 463], [346, 460, 378, 471], [496, 478, 525, 485], [232, 482, 246, 489], [265, 482, 274, 488], [277, 482, 286, 488], [294, 482, 306, 488], [330, 483, 363, 489], [187, 484, 196, 488], [288, 484, 291, 488], [322, 484, 327, 488], [495, 489, 524, 496], [527, 489, 564, 498], [566, 489, 586, 496], [588, 489, 622, 496], [291, 493, 323, 499], [207, 493, 218, 499], [227, 493, 235, 499], [238, 493, 265, 499], [327, 493, 336, 499], [344, 493, 351, 499], [173, 495, 198, 500], [201, 495, 204, 499], [268, 495, 278, 499], [361, 495, 368, 500], [375, 495, 378, 499], [495, 499, 534, 506], [536, 499, 547, 506], [549, 499, 602, 508], [605, 499, 615, 506], [221, 504, 245, 510], [248, 504, 255, 510], [270, 504, 292, 510], [297, 504, 305, 510], [307, 504, 314, 510], [334, 504, 341, 510], [343, 504, 352, 510], [360, 504, 375, 510], [173, 506, 196, 510], [199, 506, 213, 511], [215, 506, 218, 510], [328, 506, 331, 510], [495, 512, 516, 519], [485, 549, 516, 555], [688, 553, 702, 567], [650, 557, 677, 563], [705, 558, 727, 563], [485, 561, 547, 571], [551, 562, 594, 571], [698, 573, 710, 587], [712, 573, 739, 587], [485, 575, 520, 585], [547, 575, 589, 585], [673, 577, 696, 584], [653, 577, 670, 582], [524, 578, 544, 585], [742, 578, 766, 582], [673, 586, 710, 593], [728, 586, 749, 592], [713, 588, 726, 592], [485, 589, 529, 599], [533, 589, 548, 599], [552, 589, 589, 599], [705, 602, 708, 616], [485, 603, 551, 616], [672, 606, 704, 611], [716, 606, 749, 611], [751, 606, 758, 611], [653, 606, 669, 611], [711, 607, 714, 611], [672, 615, 700, 622], [711, 615, 725, 621], [727, 615, 734, 621], [765, 615, 772, 621], [736, 616, 763, 622], [701, 617, 709, 621], [483, 624, 487, 640], [562, 628, 572, 635], [590, 628, 628, 637], [491, 629, 532, 635], [534, 629, 560, 635], [574, 629, 587, 635], [706, 631, 736, 645], [739, 631, 765, 645], [768, 635, 775, 640], [581, 635, 592, 651], [596, 635, 599, 651], [653, 635, 668, 640], [673, 635, 703, 640], [673, 640, 691, 655], [754, 640, 775, 655], [524, 640, 531, 646], [548, 640, 630, 648], [603, 640, 630, 648], [490, 641, 521, 646], [485, 642, 487, 646], [535, 642, 546, 648], [741, 644, 751, 650], [694, 645, 715, 651], [717, 646, 724, 650], [726, 646, 738, 650], [485, 652, 492, 658], [554, 652, 589, 658], [591, 652, 623, 660], [494, 652, 530, 660], [532, 653, 546, 660], [549, 653, 551, 658], [165, 655, 193, 663], [325, 655, 350, 661], [501, 663, 537, 670], [540, 663, 556, 671], [558, 663, 576, 669], [579, 663, 598, 670], [690, 664, 716, 669], [718, 664, 732, 669], [733, 664, 758, 669], [653, 664, 668, 669], [673, 664, 688, 669], [165, 665, 213, 676], [485, 665, 498, 671], [600, 665, 610, 669], [217, 665, 230, 674], [270, 665, 309, 676], [325, 665, 372, 674], [233, 666, 267, 674], [375, 666, 406, 674], [409, 668, 433, 674], [672, 673, 699, 679], [706, 673, 726, 679], [728, 673, 761, 679], [701, 675, 704, 679], [165, 677, 182, 686], [325, 677, 373, 686], [205, 677, 250, 686], [253, 677, 301, 686], [413, 677, 459, 686], [185, 680, 202, 686], [375, 680, 401, 688], [404, 680, 410, 686], [325, 689, 383, 700], [165, 689, 178, 698], [182, 690, 211, 700], [224, 690, 278, 700], [215, 692, 220, 698], [672, 693, 706, 698], [708, 693, 731, 698], [733, 693, 741, 698], [653, 693, 668, 698], [744, 694, 755, 700], [725, 698, 733, 712], [735, 702, 762, 708], [706, 703, 722, 708], [673, 703, 699, 708], [701, 704, 704, 708], [326, 844, 368, 850], [486, 844, 518, 850], [520, 844, 552, 850], [647, 844, 653, 850], [662, 844, 668, 850], [165, 844, 197, 853], [326, 856, 349, 863], [352, 856, 385, 863], [399, 856, 436, 865], [486, 856, 497, 863], [500, 856, 539, 863], [542, 856, 552, 863], [555, 856, 580, 863], [583, 856, 594, 863], [596, 856, 622, 863], [647, 856, 681, 863], [683, 856, 718, 865], [165, 856, 207, 863], [209, 856, 299, 863], [439, 857, 468, 863], [721, 857, 748, 863], [387, 858, 396, 863], [750, 858, 764, 863], [326, 866, 370, 873], [392, 866, 396, 873], [398, 866, 446, 875], [487, 866, 497, 873], [500, 866, 532, 873], [534, 866, 580, 875], [647, 866, 685, 875], [725, 866, 762, 875], [765, 866, 776, 873], [165, 867, 187, 876], [212, 867, 250, 876], [252, 867, 300, 876], [302, 867, 313, 874], [373, 867, 389, 873], [694, 868, 722, 875], [687, 868, 692, 873], [190, 869, 203, 874], [205, 869, 210, 874], [647, 877, 703, 884], [165, 877, 177, 884], [165, 907, 173, 913], [176, 907, 189, 913], [191, 907, 212, 913]]\n",
            "['24', '«', 'IN', 'DN', 'TSF', 'Dinheiro', 'VDigital', 'OJogo', 'Motor', 'Men', 'Heatth', 'Health', 'Evasbe', 'Mundo', 'NM.', 'N-TV', 'Dela', 'ita', 'Vive', 'jomen', 'ae', 'NEWSLETTER', 'EB', 'JN', 'i:', '(a)', 'TSF', 'Pesquisar', '_', 'INDireto', 'Nacional', 'Local', 'Justic¢a)', 'Mundo', 'Economia', 'Desporto', 'Pessoas', 'Inovacao', 'Cultura', 'Opiniao', 'NM', 'Historia', 'TAG', 'Mi', 'eco', '~', 'oo', 'mee', 'Interativo', '+4', 'oc', 'Nae', 'rod', 'Especial', 'Comte', 'Autarquicas', 'Conhec¢a', '2021:', 'oS', 'Wayen', 'aves', 'melhor', 'concelho', 'a', 'a', 'o', 'seu', '+43', 'Oe', 'os', '&', 'Soe', '&', 'vt', 'BIND', '=', 'Mel', 'iil', 'Mafra', '(@', 'JN', 'DIRETO', 'Homem', 'afogado', 'morre', 'ao', 'salvar', 'filhas', 'as', 'menores', 'em', 'ee', 'praia', 'da', 'Ericeira', '“Cees', '=]', '%!', 'a', 'Sa', 'io', 'wT', '=', 'Futebol', 'Portugal', 'Espanha', 'vence', 'e', '=', 'a', 'final', 'do', 'apura-se', 'para', 'Europeu', 'de', 'sub-21', 'Saida', 'de', 'Portugal', 'da', 'lista', 'de', 'destinos', 'Alemanha', 'adverséria', 'de', 'Portugal', 'do', 'Reino', 'Unido', '60', 'segundos', 'éa', 'na', '+', 'seguros', 'em', 'final', 'do', 'de', 'sub-21', 'Europeu', 'Augusto', 'Santos', 'Silva', 'Saida', 'de', 'Portugal', 'da', 'lista', '|', '|', 'exciusivo', 'verde', 'britanica:', 'jogica', 'que', 'alcanca\"', 'nao', 'se', 'Sancdes', 'podem', 'aquecer', 'Madeira', 'também', 'da', '“lista', 'Acores', 'e', 'saem', '+', 'verde\"', 'britanica', 'terca-feira', 'Conselho', 'Nacional', 'do', 'na', 'PSD', 'Huelva', 'plinal', 'Rui', 'Rio', 'Ada', 'prometem', 'roc', 'e', 'va', 'Auriol', 'Dongmo', 'bate', 'recorde', 'exta-feira,', 'Con', 'Iho', 'Nacional', 'doi', 'dia:', 'aquecer', 'o', 'des', 'pos', '0', 'nacional', 'do', 'lancamento', 'do', 'Tribunal', 'Co', 'tucional.', 'Na', 'det', 'da', 'Jur', 'dicdo,', 'recurso', 'para', 'o', '0', 'peso', 'Futebol', 'MAIS', 'ULTIMAS', 'VISTAS', 'Fernando', 'Santos', 'lusa', 'feminina', 'deixa', 'aberto', 'Selecao', '22.04', 'em', 'arranca', 'qualificacao', 'triunfo', 'com', 'estreia', 'de', 'Pedro', 'é', 'Gongalves', 'Alemanha', 'adversaria', 'de', '2154', 'a', 'Portugal', 'final', 'do', 'de', 'Europeu', 'na', 'O', 'fez', 'quinta-feira', 'selecionador', 'nacional', 'esta', 'descobrem', 'floresta', 'de', 'com', 'a', '2152', 'Cientistas', 'corais', 'Acores', 'do', 'particular', 'Espanha', 'antevisao', 'a', 'jogo', 'dos', 'negros', 'no', 'mar', 'de', 'Euro2020,', 'agendado', 'preparacao', 'para', '0', 'Franca', 'Satide', 'sexta-feira,', 'pelas', '18.30', 'horas,', 'Azevedo', 'bate', 'recorde', '21:38', 'Catia', 'Suspeito', 'para', 'em', 'de', 'Maélys', 'Governo', 'matar', 'conta', 'com', 'nacional', 'coloca', 'velocidade.', 'e', 'vai', 'médicos', 'acusado', 'também', 'reforma', 'ser', 'para', 'a', 'hospitalar', 'de', 'rapto', 'sequestro', 'e', 'Presidente', 'francés', 'diz', '21:30', 'que', 'em', 'Bruxelas', 'virus', 'contraiu', 'o', 'Pandemia', 'Aurélio', 'Pereira', 'N', 'Vv', 'Aviagio', 'OMS:', 'vacinar', 'criancas', 'As', 'historias', 'do', '\"Olho', 'de', 'Ouro\"', 'Gordon', 'Ramsay', 'Christine', 'Ourmiéres-Widener', 'contra', 'esteve', 'as', 'em', 'acovid-19', 'é', 'prioritario', 'do', 'futebol', 'portugués', 'Portugal', 'episédio', 'de', 'pode', 'proxima', 'presidente', 'da', 'nao', 'gravar', 'a', 'ser', 'a', '\"Uncharted\"', 'TA', 'JN', '133', 'ANOS']\n"
          ]
        }
      ],
      "source": [
        "from PIL import Image\n",
        "from transformers import LayoutLMv2Processor, LayoutXLMProcessor, LayoutXLMTokenizer\n",
        "from datasets import Features, Sequence, ClassLabel, Value, Array2D, Array3D\n",
        "\n",
        "import io\n",
        "\n",
        "#processor = LayoutLMv2Processor.from_pretrained(\"microsoft/layoutlmv2-base-uncased\", revision=\"no_ocr\")\n",
        "processor = LayoutXLMProcessor.from_pretrained(\"microsoft/layoutxlm-base\", apply_ocr=False)\n",
        "\n",
        "from transformers import LayoutLMv2FeatureExtractor, LayoutLMv2TokenizerFast, LayoutLMv2Processor\n",
        "\n",
        "# we need to define custom features\n",
        "features = Features({\n",
        "    'image': Array3D(dtype=\"int64\", shape=(3, 224, 224)),\n",
        "    'input_ids': Sequence(feature=Value(dtype='int64')),\n",
        "    'attention_mask': Sequence(Value(dtype='int64')),\n",
        "    'token_type_ids': Sequence(Value(dtype='int64')),\n",
        "    'bbox': Array2D(dtype=\"int64\", shape=(512, 4)),\n",
        "    'labels': Sequence(ClassLabel(names=list(label2id.keys()))),\n",
        "})\n",
        "\n",
        "def process_image(image_bytes):\n",
        "  \"\"\"Decode byte image.\"\"\"\n",
        "  with io.BytesIO(image_bytes) as f:\n",
        "    img = Image.open(f).convert(\"RGB\")\n",
        "    return img \n",
        "    \n",
        "def preprocess_data(examples):\n",
        "  images = [process_image(img) for img in examples['image']]\n",
        "  words = examples['words']\n",
        "  boxes = examples['bboxes']\n",
        "  word_labels =  examples['labels']\n",
        "\n",
        "  print(word_labels[0])  \n",
        "  print(boxes[0]) \n",
        "  print(words[0])   \n",
        "  \n",
        "  encoded_inputs = processor(images, words, boxes=boxes, word_labels=word_labels,\n",
        "                             padding=\"max_length\", truncation=True, return_token_type_ids=True, max_length=512)\n",
        "  \n",
        "  return encoded_inputs\n",
        "\n",
        "train_dataset = datasets['train'].map(preprocess_data, batched=True, remove_columns=datasets['train'].column_names,\n",
        "                                      features=features)\n",
        "test_dataset = datasets['test'].map(preprocess_data, batched=True, remove_columns=datasets['test'].column_names,\n",
        "                                      features=features)"
      ]
    },
    {
      "cell_type": "code",
      "execution_count": 7,
      "metadata": {
        "colab": {
          "base_uri": "https://localhost:8080/"
        },
        "id": "IG3EOTKL4Vs0",
        "outputId": "10562220-3506-4fc4-bd51-db66c9e40fcc"
      },
      "outputs": [
        {
          "data": {
            "text/plain": [
              "{'image': Array3D(shape=(3, 224, 224), dtype='int64', id=None),\n",
              " 'input_ids': Sequence(feature=Value(dtype='int64', id=None), length=-1, id=None),\n",
              " 'attention_mask': Sequence(feature=Value(dtype='int64', id=None), length=-1, id=None),\n",
              " 'token_type_ids': Sequence(feature=Value(dtype='int64', id=None), length=-1, id=None),\n",
              " 'bbox': Array2D(shape=(512, 4), dtype='int64', id=None),\n",
              " 'labels': Sequence(feature=ClassLabel(names=['None', 'Title', 'SubTitle', 'Category'], id=None), length=-1, id=None)}"
            ]
          },
          "execution_count": 7,
          "metadata": {},
          "output_type": "execute_result"
        }
      ],
      "source": [
        "features"
      ]
    },
    {
      "cell_type": "code",
      "execution_count": 8,
      "metadata": {
        "colab": {
          "base_uri": "https://localhost:8080/"
        },
        "id": "NmqR9gTxArll",
        "outputId": "a7e1215f-cc38-461e-d845-760728948981"
      },
      "outputs": [
        {
          "data": {
            "text/plain": [
              "Dataset({\n",
              "    features: ['image', 'input_ids', 'attention_mask', 'token_type_ids', 'bbox', 'labels'],\n",
              "    num_rows: 320\n",
              "})"
            ]
          },
          "execution_count": 8,
          "metadata": {},
          "output_type": "execute_result"
        }
      ],
      "source": [
        "train_dataset"
      ]
    },
    {
      "cell_type": "code",
      "execution_count": 9,
      "metadata": {
        "colab": {
          "base_uri": "https://localhost:8080/"
        },
        "id": "bgZbUiiWLcaW",
        "outputId": "de9ae278-a333-4050-e0b7-591c5a5f9a6a"
      },
      "outputs": [
        {
          "data": {
            "text/plain": [
              "3"
            ]
          },
          "execution_count": 9,
          "metadata": {},
          "output_type": "execute_result"
        }
      ],
      "source": [
        "len(train_dataset['image'][0])"
      ]
    },
    {
      "cell_type": "markdown",
      "metadata": {
        "id": "77IDA2OSawRv"
      },
      "source": [
        "Let's verify the first example:"
      ]
    },
    {
      "cell_type": "code",
      "execution_count": 10,
      "metadata": {
        "colab": {
          "base_uri": "https://localhost:8080/",
          "height": 122
        },
        "id": "3MxEPMBaD7OY",
        "outputId": "7e533441-9dce-4b69-d17e-f3b30dda03c1"
      },
      "outputs": [
        {
          "data": {
            "application/vnd.google.colaboratory.intrinsic+json": {
              "type": "string"
            },
            "text/plain": [
              "\"<s> = Ss XDFESSO. D Excwusio + t — lle Daniel Oli ‘ira al m 2G —~ ~ Excwusivo ps Coutinho 4_Louwenco Pereira ure aed i Orcamento.do Stado aprovado E na generalidade ILIANA COELHO, MARIAN) old WA CUNHAEMIGUI éaimperturbdvel a VISLOS xr063S GO negécio alma do do tado do amento py i apr generalidade votos eira na com do da esquerda dos or eis ncao e deputad partid adireita D- A. C lo de onade ram ongo uma m ace ae de Ita = GH re deb siaxteéden direita (e te Pedro uma perdida) uma obsessao. A opgao E 09.01.2020 por como a esquerda aceita Orcamento adireita adorava um que terfeito nao (dentro jd C 505 enteno ou, ft ou 20 ‘V) onga? 40 te debate acabou Costasentado O 01.2020 que com ao abutres Q.som fazem que os de pecialistas Irao ucranianos do acesso as Calxas hegras aviao que Teerao caiu em ha minutos LUSA j ‘Anos: equipa ev dis de imprensa, ik nferéncia Va Pr numa m uc dos da Ne mini 10 ral 10! nia Adi Adiada sobre homicidio idio a sentenca devi ia a de triatleta devido “alteracao a do’ substancial dos factos' ial nao BARI HELENA BENTO E JOKO PEDRO n02 Fenprot /oc enprof nacional de de i ‘onal convoca greve educadores professores 31 e para va de janeiro 31 janeiro ww de Setibal todos itéria treinou: nao jogadores de estao quarentena os 12h18 DIOGO POMBO {Pm {lio Velazquez: “E situacio uma de mundo. tenho Se terceiro nao jogadores, de ser uma equipa merda. colocar satide Nao vou em risco a sua TRIBUNAEX</s><pad><pad><pad><pad><pad><pad><pad><pad><pad><pad><pad><pad><pad><pad><pad><pad><pad><pad><pad><pad><pad><pad><pad><pad><pad><pad><pad><pad><pad><pad><pad><pad><pad><pad><pad><pad><pad><pad><pad><pad><pad><pad><pad><pad><pad><pad><pad><pad><pad><pad><pad><pad><pad><pad><pad><pad><pad><pad><pad><pad>\""
            ]
          },
          "execution_count": 10,
          "metadata": {},
          "output_type": "execute_result"
        }
      ],
      "source": [
        "processor.tokenizer.decode(train_dataset['input_ids'][0])"
      ]
    },
    {
      "cell_type": "code",
      "execution_count": 11,
      "metadata": {
        "colab": {
          "base_uri": "https://localhost:8080/"
        },
        "id": "8UPbt6cPElD3",
        "outputId": "1de221cb-f4f4-4483-e282-85efee3d8067"
      },
      "outputs": [
        {
          "name": "stdout",
          "output_type": "stream",
          "text": [
            "[-100, 0, 0, -100, 0, -100, -100, -100, -100, 0, 0, -100, -100, 0, 0, 0, 0, 0, 0, 0, -100, 0, 0, 0, -100, 0, -100, 0, 0, -100, -100, -100, 0, 0, -100, -100, 0, -100, -100, -100, -100, 0, 0, 0, -100, 0, 0, -100, -100, -100, -100, 0, -100, 0, 0, 0, 0, -100, 0, 0, -100, 0, -100, -100, -100, 0, -100, -100, 0, 0, 0, -100, -100, -100, -100, -100, 0, -100, -100, -100, -100, -100, 0, 0, -100, 0, -100, -100, -100, -100, 0, 0, -100, -100, 0, 0, 0, 0, 0, 0, 0, 0, 0, 0, 0, 0, -100, 0, 0, 0, 0, 0, 0, 0, 0, 0, 0, 0, 0, 0, -100, 0, 0, -100, -100, 0, 0, -100, 0, -100, 0, -100, 0, 0, 0, 0, -100, 0, 0, 0, 0, 0, 0, -100, 0, -100, 0, 0, 0, 0, 0, 0, 0, 0, -100, -100, -100, -100, 0, -100, 0, -100, 0, 0, 0, 0, -100, 0, 0, -100, -100, -100, 0, 0, -100, -100, 0, 0, -100, -100, 0, 0, 0, 0, 0, 0, -100, -100, 0, -100, 0, -100, 0, 0, 0, -100, 0, -100, 0, -100, -100, 0, 0, 0, 0, -100, 0, -100, 0, -100, 0, 0, 0, 0, 0, -100, -100, 0, -100, -100, 0, 0, 0, 0, 0, -100, -100, 0, 0, -100, 0, 0, 0, 0, -100, 0, -100, -100, 0, 0, 0, 0, 0, -100, -100, 0, -100, 0, -100, -100, 0, 0, 0, 0, -100, 0, -100, -100, 0, -100, 0, 0, -100, 0, -100, 0, 0, 0, 0, -100, 2, 2, -100, -100, -100, 2, 2, 2, 2, 2, -100, 2, 2, -100, -100, -100, 2, 2, 2, 2, 2, 2, 2, 2, 2, 2, 2, 2, 2, -100, 2, 0, 1, -100, 1, 1, -100, 0, 0, 0, 1, -100, 0, 0, 0, 1, 1, -100, -100, 1, 1, -100, -100, -100, 1, 0, -100, 1, -100, 1, 1, -100, -100, 0, -100, 1, -100, 0, -100, 0, -100, 0, -100, 0, 0, -100, 0, -100, 0, -100, 0, -100, 0, -100, 1, -100, -100, 1, 1, 0, 0, 0, -100, 1, 1, -100, 1, -100, 1, 1, 1, 1, 0, 1, 0, 0, 1, 0, -100, 1, 1, -100, -100, 1, 1, -100, 1, -100, -100, 1, -100, 1, 1, 1, -100, 1, -100, -100, 1, 0, -100, -100, 0, 0, -100, 0, -100, 1, -100, -100, 1, -100, 1, -100, -100, -100, 1, -100, 1, 1, 1, 1, -100, 1, 1, 1, 1, -100, 1, -100, 1, 1, 1, 1, 1, -100, -100, 1, 1, -100, 1, -100, 1, 1, 1, 1, 1, 0, -100, -100, -100, -100, -100, -100, -100, -100, -100, -100, -100, -100, -100, -100, -100, -100, -100, -100, -100, -100, -100, -100, -100, -100, -100, -100, -100, -100, -100, -100, -100, -100, -100, -100, -100, -100, -100, -100, -100, -100, -100, -100, -100, -100, -100, -100, -100, -100, -100, -100, -100, -100, -100, -100, -100, -100, -100, -100, -100, -100, -100, -100, -100, -100]\n"
          ]
        }
      ],
      "source": [
        "print(train_dataset['labels'][0])"
      ]
    },
    {
      "cell_type": "markdown",
      "metadata": {
        "id": "Hu-sSNWJEpqq"
      },
      "source": [
        "Finally, let's set the format to PyTorch."
      ]
    },
    {
      "cell_type": "code",
      "execution_count": 12,
      "metadata": {
        "id": "WzfixeABEpXq"
      },
      "outputs": [],
      "source": [
        "train_dataset.set_format(type=\"torch\")\n",
        "test_dataset.set_format(type=\"torch\")"
      ]
    },
    {
      "cell_type": "code",
      "execution_count": 13,
      "metadata": {
        "colab": {
          "base_uri": "https://localhost:8080/"
        },
        "id": "xKuWaJNSIEfE",
        "outputId": "462bd7ae-de72-49a8-e717-0e2ca88f2430"
      },
      "outputs": [
        {
          "data": {
            "text/plain": [
              "dict_keys(['image', 'input_ids', 'attention_mask', 'token_type_ids', 'bbox', 'labels'])"
            ]
          },
          "execution_count": 13,
          "metadata": {},
          "output_type": "execute_result"
        }
      ],
      "source": [
        "train_dataset.features.keys()"
      ]
    },
    {
      "cell_type": "markdown",
      "metadata": {
        "id": "PAQJLuPPf27V"
      },
      "source": [
        "Next, we create corresponding dataloaders."
      ]
    },
    {
      "cell_type": "code",
      "execution_count": 14,
      "metadata": {
        "id": "XI-eM0m4fmfF"
      },
      "outputs": [],
      "source": [
        "from torch.utils.data import DataLoader\n",
        "\n",
        "train_dataloader = DataLoader(train_dataset, batch_size=4, shuffle=True)\n",
        "test_dataloader = DataLoader(test_dataset, batch_size=2)"
      ]
    },
    {
      "cell_type": "markdown",
      "metadata": {
        "id": "8H4hYJcgI_Z-"
      },
      "source": [
        "Let's verify a batch:"
      ]
    },
    {
      "cell_type": "code",
      "execution_count": 15,
      "metadata": {
        "colab": {
          "base_uri": "https://localhost:8080/"
        },
        "id": "KorjtbhnIgb7",
        "outputId": "a3d1248a-acd4-44e5-d661-c1cf4946fdf2"
      },
      "outputs": [
        {
          "name": "stdout",
          "output_type": "stream",
          "text": [
            "image torch.Size([4, 3, 224, 224])\n",
            "input_ids torch.Size([4, 512])\n",
            "attention_mask torch.Size([4, 512])\n",
            "token_type_ids torch.Size([4, 512])\n",
            "bbox torch.Size([4, 512, 4])\n",
            "labels torch.Size([4, 512])\n"
          ]
        }
      ],
      "source": [
        "batch = next(iter(train_dataloader))\n",
        "\n",
        "for k,v in batch.items():\n",
        "  print(k, v.shape)"
      ]
    },
    {
      "cell_type": "markdown",
      "metadata": {
        "id": "hHgKGixHgIIC"
      },
      "source": [
        "## Train the model\n",
        "\n",
        "Here we train the model using HuggingFace's Trainer. We need to overwrite a few methods, namely those that return the PyTorch dataloaders, as we defined custom dataloaders above.\n",
        "\n",
        "We can initialize a `Trainer` by passing our model as well as `TrainingArguments`. See the [docs](https://huggingface.co/transformers/main_classes/trainer.html) for all possible arguments.."
      ]
    },
    {
      "cell_type": "code",
      "execution_count": 16,
      "metadata": {
        "colab": {
          "base_uri": "https://localhost:8080/"
        },
        "id": "bEkkxXBcm9yU",
        "outputId": "03443e56-c2c6-45b9-90af-19328f28e4df"
      },
      "outputs": [
        {
          "name": "stderr",
          "output_type": "stream",
          "text": [
            "Some weights of the model checkpoint at microsoft/layoutxlm-base were not used when initializing LayoutLMv2ForTokenClassification: ['layoutlmv2.visual.backbone.bottom_up.res4.20.conv1.norm.num_batches_tracked', 'layoutlmv2.visual.backbone.bottom_up.res3.3.conv3.norm.num_batches_tracked', 'layoutlmv2.visual.backbone.bottom_up.res4.0.conv2.norm.num_batches_tracked', 'layoutlmv2.visual.backbone.bottom_up.res2.0.conv2.norm.num_batches_tracked', 'layoutlmv2.visual.backbone.bottom_up.res4.18.conv1.norm.num_batches_tracked', 'layoutlmv2.visual.backbone.bottom_up.res4.5.conv3.norm.num_batches_tracked', 'layoutlmv2.visual.backbone.bottom_up.res4.8.conv1.norm.num_batches_tracked', 'layoutlmv2.visual.backbone.bottom_up.res4.11.conv2.norm.num_batches_tracked', 'layoutlmv2.visual.backbone.bottom_up.res4.15.conv1.norm.num_batches_tracked', 'layoutlmv2.visual.backbone.bottom_up.res4.12.conv3.norm.num_batches_tracked', 'layoutlmv2.visual.backbone.bottom_up.res4.17.conv3.norm.num_batches_tracked', 'layoutlmv2.visual.backbone.bottom_up.res4.7.conv3.norm.num_batches_tracked', 'layoutlmv2.visual.backbone.bottom_up.res4.16.conv2.norm.num_batches_tracked', 'layoutlmv2.visual.backbone.bottom_up.res3.2.conv1.norm.num_batches_tracked', 'layoutlmv2.visual.backbone.bottom_up.res4.21.conv2.norm.num_batches_tracked', 'layoutlmv2.visual.backbone.bottom_up.res4.4.conv3.norm.num_batches_tracked', 'layoutlmv2.visual.backbone.bottom_up.res5.0.conv2.norm.num_batches_tracked', 'layoutlmv2.visual.backbone.bottom_up.res4.3.conv2.norm.num_batches_tracked', 'layoutlmv2.visual.backbone.bottom_up.res4.16.conv1.norm.num_batches_tracked', 'layoutlmv2.visual.backbone.bottom_up.res4.15.conv2.norm.num_batches_tracked', 'layoutlmv2.visual.backbone.bottom_up.res4.12.conv2.norm.num_batches_tracked', 'layoutlmv2.visual.backbone.bottom_up.res3.3.conv1.norm.num_batches_tracked', 'layoutlmv2.visual.backbone.bottom_up.res4.11.conv1.norm.num_batches_tracked', 'layoutlmv2.visual.backbone.bottom_up.res4.3.conv3.norm.num_batches_tracked', 'layoutlmv2.visual.backbone.bottom_up.res4.20.conv3.norm.num_batches_tracked', 'layoutlmv2.visual.backbone.bottom_up.res5.0.conv3.norm.num_batches_tracked', 'layoutlmv2.visual.backbone.bottom_up.res4.3.conv1.norm.num_batches_tracked', 'layoutlmv2.visual.backbone.bottom_up.res3.2.conv2.norm.num_batches_tracked', 'layoutlmv2.visual.backbone.bottom_up.res4.17.conv1.norm.num_batches_tracked', 'layoutlmv2.visual.backbone.bottom_up.res3.3.conv2.norm.num_batches_tracked', 'layoutlmv2.visual.backbone.bottom_up.res4.21.conv1.norm.num_batches_tracked', 'layoutlmv2.visual.backbone.bottom_up.res4.14.conv3.norm.num_batches_tracked', 'layoutlmv2.visual.backbone.bottom_up.res2.2.conv1.norm.num_batches_tracked', 'layoutlmv2.visual.backbone.bottom_up.res4.21.conv3.norm.num_batches_tracked', 'layoutlmv2.visual.backbone.bottom_up.res5.2.conv1.norm.num_batches_tracked', 'layoutlmv2.visual.backbone.bottom_up.res4.5.conv2.norm.num_batches_tracked', 'layoutlmv2.visual.backbone.bottom_up.res4.8.conv2.norm.num_batches_tracked', 'layoutlmv2.visual.backbone.bottom_up.res4.7.conv1.norm.num_batches_tracked', 'layoutlmv2.visual.backbone.bottom_up.res3.2.conv3.norm.num_batches_tracked', 'layoutlmv2.visual.backbone.bottom_up.res4.10.conv2.norm.num_batches_tracked', 'layoutlmv2.visual.backbone.bottom_up.res4.0.conv3.norm.num_batches_tracked', 'layoutlmv2.visual.backbone.bottom_up.res4.2.conv2.norm.num_batches_tracked', 'layoutlmv2.visual.backbone.bottom_up.res4.22.conv2.norm.num_batches_tracked', 'layoutlmv2.visual.backbone.bottom_up.res4.1.conv1.norm.num_batches_tracked', 'layoutlmv2.visual.backbone.bottom_up.res4.19.conv2.norm.num_batches_tracked', 'layoutlmv2.visual.backbone.bottom_up.res4.14.conv1.norm.num_batches_tracked', 'layoutlmv2.visual.backbone.bottom_up.res5.1.conv2.norm.num_batches_tracked', 'layoutlmv2.visual.backbone.bottom_up.res4.19.conv1.norm.num_batches_tracked', 'layoutlmv2.visual.backbone.bottom_up.res5.1.conv1.norm.num_batches_tracked', 'layoutlmv2.visual.backbone.bottom_up.res5.0.shortcut.norm.num_batches_tracked', 'layoutlmv2.visual.backbone.bottom_up.res4.6.conv3.norm.num_batches_tracked', 'layoutlmv2.visual.backbone.bottom_up.res2.2.conv3.norm.num_batches_tracked', 'layoutlmv2.visual.backbone.bottom_up.res3.0.conv3.norm.num_batches_tracked', 'layoutlmv2.visual.backbone.bottom_up.res4.0.conv1.norm.num_batches_tracked', 'layoutlmv2.visual.backbone.bottom_up.res4.15.conv3.norm.num_batches_tracked', 'layoutlmv2.visual.backbone.bottom_up.res4.1.conv2.norm.num_batches_tracked', 'layoutlmv2.visual.backbone.bottom_up.res4.18.conv2.norm.num_batches_tracked', 'layoutlmv2.visual.backbone.bottom_up.res4.16.conv3.norm.num_batches_tracked', 'layoutlmv2.visual.backbone.bottom_up.res4.7.conv2.norm.num_batches_tracked', 'layoutlmv2.visual.backbone.bottom_up.res3.0.conv1.norm.num_batches_tracked', 'layoutlmv2.visual.backbone.bottom_up.res4.17.conv2.norm.num_batches_tracked', 'layoutlmv2.visual.backbone.bottom_up.res3.1.conv3.norm.num_batches_tracked', 'layoutlmv2.visual.backbone.bottom_up.res3.0.conv2.norm.num_batches_tracked', 'layoutlmv2.visual.backbone.bottom_up.res2.1.conv2.norm.num_batches_tracked', 'layoutlmv2.visual.backbone.bottom_up.res2.1.conv3.norm.num_batches_tracked', 'layoutlmv2.visual.backbone.bottom_up.res4.4.conv2.norm.num_batches_tracked', 'layoutlmv2.visual.backbone.bottom_up.res4.9.conv2.norm.num_batches_tracked', 'layoutlmv2.visual.backbone.bottom_up.res4.8.conv3.norm.num_batches_tracked', 'layoutlmv2.visual.backbone.bottom_up.res4.1.conv3.norm.num_batches_tracked', 'layoutlmv2.visual.backbone.bottom_up.res4.5.conv1.norm.num_batches_tracked', 'layoutlmv2.visual.backbone.bottom_up.res4.6.conv1.norm.num_batches_tracked', 'layoutlmv2.visual.backbone.bottom_up.res3.1.conv2.norm.num_batches_tracked', 'layoutlmv2.visual.backbone.bottom_up.res2.1.conv1.norm.num_batches_tracked', 'layoutlmv2.visual.backbone.bottom_up.res4.12.conv1.norm.num_batches_tracked', 'layoutlmv2.visual.backbone.bottom_up.res5.2.conv2.norm.num_batches_tracked', 'layoutlmv2.visual.backbone.bottom_up.res4.13.conv3.norm.num_batches_tracked', 'layoutlmv2.visual.backbone.bottom_up.res4.22.conv3.norm.num_batches_tracked', 'layoutlmv2.visual.backbone.bottom_up.res4.2.conv1.norm.num_batches_tracked', 'layoutlmv2.visual.backbone.bottom_up.stem.conv1.norm.num_batches_tracked', 'layoutlmv2.visual.backbone.bottom_up.res4.22.conv1.norm.num_batches_tracked', 'layoutlmv2.visual.backbone.bottom_up.res2.0.shortcut.norm.num_batches_tracked', 'layoutlmv2.visual.backbone.bottom_up.res4.20.conv2.norm.num_batches_tracked', 'layoutlmv2.visual.backbone.bottom_up.res2.0.conv1.norm.num_batches_tracked', 'layoutlmv2.visual.backbone.bottom_up.res4.11.conv3.norm.num_batches_tracked', 'layoutlmv2.visual.backbone.bottom_up.res5.2.conv3.norm.num_batches_tracked', 'layoutlmv2.visual.backbone.bottom_up.res4.13.conv2.norm.num_batches_tracked', 'layoutlmv2.visual.backbone.bottom_up.res4.9.conv1.norm.num_batches_tracked', 'layoutlmv2.visual.backbone.bottom_up.res2.2.conv2.norm.num_batches_tracked', 'layoutlmv2.visual.backbone.bottom_up.res4.19.conv3.norm.num_batches_tracked', 'layoutlmv2.visual.backbone.bottom_up.res4.2.conv3.norm.num_batches_tracked', 'layoutlmv2.visual.backbone.bottom_up.res4.10.conv3.norm.num_batches_tracked', 'layoutlmv2.visual.backbone.bottom_up.res4.9.conv3.norm.num_batches_tracked', 'layoutlmv2.visual.backbone.bottom_up.res3.1.conv1.norm.num_batches_tracked', 'layoutlmv2.visual.backbone.bottom_up.res2.0.conv3.norm.num_batches_tracked', 'layoutlmv2.visual.backbone.bottom_up.res5.1.conv3.norm.num_batches_tracked', 'layoutlmv2.visual.backbone.bottom_up.res4.10.conv1.norm.num_batches_tracked', 'layoutlmv2.visual.backbone.bottom_up.res4.18.conv3.norm.num_batches_tracked', 'layoutlmv2.visual.backbone.bottom_up.res4.0.shortcut.norm.num_batches_tracked', 'layoutlmv2.visual.backbone.bottom_up.res3.0.shortcut.norm.num_batches_tracked', 'layoutlmv2.visual.backbone.bottom_up.res4.14.conv2.norm.num_batches_tracked', 'layoutlmv2.visual.backbone.bottom_up.res4.13.conv1.norm.num_batches_tracked', 'layoutlmv2.visual.backbone.bottom_up.res5.0.conv1.norm.num_batches_tracked', 'layoutlmv2.visual.backbone.bottom_up.res4.4.conv1.norm.num_batches_tracked', 'layoutlmv2.visual.backbone.bottom_up.res4.6.conv2.norm.num_batches_tracked']\n",
            "- This IS expected if you are initializing LayoutLMv2ForTokenClassification from the checkpoint of a model trained on another task or with another architecture (e.g. initializing a BertForSequenceClassification model from a BertForPreTraining model).\n",
            "- This IS NOT expected if you are initializing LayoutLMv2ForTokenClassification from the checkpoint of a model that you expect to be exactly identical (initializing a BertForSequenceClassification model from a BertForSequenceClassification model).\n",
            "Some weights of LayoutLMv2ForTokenClassification were not initialized from the model checkpoint at microsoft/layoutxlm-base and are newly initialized: ['classifier.bias', 'classifier.weight']\n",
            "You should probably TRAIN this model on a down-stream task to be able to use it for predictions and inference.\n",
            "<ipython-input-16-c121fd0331a8>:13: FutureWarning: load_metric is deprecated and will be removed in the next major version of datasets. Use 'evaluate.load' instead, from the new library 🤗 Evaluate: https://huggingface.co/docs/evaluate\n",
            "  metric = load_metric(\"seqeval\")\n",
            "/usr/local/lib/python3.9/dist-packages/transformers/training_args.py:1469: FutureWarning: `--push_to_hub_model_id` is deprecated and will be removed in version 5 of 🤗 Transformers. Use `--hub_model_id` instead and pass the full repo name to this argument (in this case jfecunha/layoutlmv2-finetuned-funsd-test).\n",
            "  warnings.warn(\n"
          ]
        }
      ],
      "source": [
        "from transformers import LayoutLMv2ForTokenClassification, TrainingArguments, Trainer\n",
        "from datasets import load_metric\n",
        "import numpy as np\n",
        "\n",
        "model = LayoutLMv2ForTokenClassification.from_pretrained('microsoft/layoutxlm-base',\n",
        "                                                                      num_labels=len(label2id))\n",
        "\n",
        "# Set id2label and label2id \n",
        "model.config.id2label = id2label\n",
        "model.config.label2id = label2id\n",
        "\n",
        "# Metrics\n",
        "metric = load_metric(\"seqeval\")\n",
        "return_entity_level_metrics = True\n",
        "\n",
        "def compute_metrics(p):\n",
        "    predictions, labels = p\n",
        "    predictions = np.argmax(predictions, axis=2)\n",
        "\n",
        "    # Remove ignored index (special tokens)\n",
        "    true_predictions = [\n",
        "        [id2label[p] for (p, l) in zip(prediction, label) if l != -100]\n",
        "        for prediction, label in zip(predictions, labels)\n",
        "    ]\n",
        "    true_labels = [\n",
        "        [id2label[l] for (p, l) in zip(prediction, label) if l != -100]\n",
        "        for prediction, label in zip(predictions, labels)\n",
        "    ]\n",
        "\n",
        "    results = metric.compute(predictions=true_predictions, references=true_labels)\n",
        "    if return_entity_level_metrics:\n",
        "        # Unpack nested dictionaries\n",
        "        final_results = {}\n",
        "        for key, value in results.items():\n",
        "            if isinstance(value, dict):\n",
        "                for n, v in value.items():\n",
        "                    final_results[f\"{key}_{n}\"] = v\n",
        "            else:\n",
        "                final_results[key] = value\n",
        "        return final_results\n",
        "    else:\n",
        "        return {\n",
        "            \"precision\": results[\"overall_precision\"],\n",
        "            \"recall\": results[\"overall_recall\"],\n",
        "            \"f1\": results[\"overall_f1\"],\n",
        "            \"accuracy\": results[\"overall_accuracy\"],\n",
        "        }\n",
        "\n",
        "class FunsdTrainer(Trainer):\n",
        "    def get_train_dataloader(self):\n",
        "      return train_dataloader\n",
        "\n",
        "    def get_test_dataloader(self, test_dataset):\n",
        "      return test_dataloader\n",
        "\n",
        "args = TrainingArguments(\n",
        "    output_dir=\"layoutlmv2-finetuned-funsd-v2\", # name of directory to store the checkpoints\n",
        "    max_steps=1000, # we train for a maximum of 1,000 batches\n",
        "    warmup_ratio=0.1, # we warmup a bit\n",
        "    fp16=True, # we use mixed precision (less memory consumption)\n",
        "    push_to_hub=False, # after training, we'd like to push our model to the hub\n",
        "    push_to_hub_model_id=f\"layoutlmv2-finetuned-funsd-test\", # this is the name we'll use for our model on the hub\n",
        ")\n",
        "\n",
        "# Initialize our Trainer\n",
        "trainer = FunsdTrainer(\n",
        "    model=model,\n",
        "    args=args,\n",
        "    compute_metrics=compute_metrics,\n",
        ")"
      ]
    },
    {
      "cell_type": "markdown",
      "metadata": {
        "id": "VPNoVOkNZxxs"
      },
      "source": [
        "Let's train the model! By default, the Trainer saves checkpoints every 500 steps."
      ]
    },
    {
      "cell_type": "code",
      "execution_count": 17,
      "metadata": {
        "colab": {
          "base_uri": "https://localhost:8080/",
          "height": 228
        },
        "id": "sDWo2zA2wFIT",
        "outputId": "f442de72-5b8f-42bc-b914-b9f30e11d5c2"
      },
      "outputs": [
        {
          "name": "stderr",
          "output_type": "stream",
          "text": [
            "/usr/local/lib/python3.9/dist-packages/transformers/optimization.py:391: FutureWarning: This implementation of AdamW is deprecated and will be removed in a future version. Use the PyTorch implementation torch.optim.AdamW instead, or set `no_deprecation_warning=True` to disable this warning\n",
            "  warnings.warn(\n"
          ]
        },
        {
          "data": {
            "text/html": [
              "\n",
              "    <div>\n",
              "      \n",
              "      <progress value='1000' max='1000' style='width:300px; height:20px; vertical-align: middle;'></progress>\n",
              "      [1000/1000 11:05, Epoch 12/13]\n",
              "    </div>\n",
              "    <table border=\"1\" class=\"dataframe\">\n",
              "  <thead>\n",
              " <tr style=\"text-align: left;\">\n",
              "      <th>Step</th>\n",
              "      <th>Training Loss</th>\n",
              "    </tr>\n",
              "  </thead>\n",
              "  <tbody>\n",
              "    <tr>\n",
              "      <td>500</td>\n",
              "      <td>0.336500</td>\n",
              "    </tr>\n",
              "    <tr>\n",
              "      <td>1000</td>\n",
              "      <td>0.042400</td>\n",
              "    </tr>\n",
              "  </tbody>\n",
              "</table><p>"
            ],
            "text/plain": [
              "<IPython.core.display.HTML object>"
            ]
          },
          "metadata": {},
          "output_type": "display_data"
        },
        {
          "data": {
            "text/plain": [
              "TrainOutput(global_step=1000, training_loss=0.1894197406768799, metrics={'train_runtime': 666.6626, 'train_samples_per_second': 12.0, 'train_steps_per_second': 1.5, 'total_flos': 2159409414144000.0, 'train_loss': 0.1894197406768799, 'epoch': 12.5})"
            ]
          },
          "execution_count": 17,
          "metadata": {},
          "output_type": "execute_result"
        }
      ],
      "source": [
        "trainer.train()"
      ]
    },
    {
      "cell_type": "code",
      "execution_count": 18,
      "metadata": {
        "colab": {
          "base_uri": "https://localhost:8080/"
        },
        "id": "W0ASVNAePRri",
        "outputId": "4441971f-2ba7-40d3-d50a-ded280054e90"
      },
      "outputs": [
        {
          "data": {
            "text/plain": [
              "TrainingArguments(\n",
              "_n_gpu=1,\n",
              "adafactor=False,\n",
              "adam_beta1=0.9,\n",
              "adam_beta2=0.999,\n",
              "adam_epsilon=1e-08,\n",
              "auto_find_batch_size=False,\n",
              "bf16=False,\n",
              "bf16_full_eval=False,\n",
              "data_seed=None,\n",
              "dataloader_drop_last=False,\n",
              "dataloader_num_workers=0,\n",
              "dataloader_pin_memory=True,\n",
              "ddp_bucket_cap_mb=None,\n",
              "ddp_find_unused_parameters=None,\n",
              "ddp_timeout=1800,\n",
              "debug=[],\n",
              "deepspeed=None,\n",
              "disable_tqdm=False,\n",
              "do_eval=False,\n",
              "do_predict=False,\n",
              "do_train=False,\n",
              "eval_accumulation_steps=None,\n",
              "eval_delay=0,\n",
              "eval_steps=None,\n",
              "evaluation_strategy=no,\n",
              "fp16=True,\n",
              "fp16_backend=auto,\n",
              "fp16_full_eval=False,\n",
              "fp16_opt_level=O1,\n",
              "fsdp=[],\n",
              "fsdp_config={'fsdp_min_num_params': 0, 'xla': False, 'xla_fsdp_grad_ckpt': False},\n",
              "fsdp_min_num_params=0,\n",
              "fsdp_transformer_layer_cls_to_wrap=None,\n",
              "full_determinism=False,\n",
              "gradient_accumulation_steps=1,\n",
              "gradient_checkpointing=False,\n",
              "greater_is_better=None,\n",
              "group_by_length=False,\n",
              "half_precision_backend=cuda_amp,\n",
              "hub_model_id=jfecunha/layoutlmv2-finetuned-funsd-test,\n",
              "hub_private_repo=False,\n",
              "hub_strategy=every_save,\n",
              "hub_token=<HUB_TOKEN>,\n",
              "ignore_data_skip=False,\n",
              "include_inputs_for_metrics=False,\n",
              "jit_mode_eval=False,\n",
              "label_names=None,\n",
              "label_smoothing_factor=0.0,\n",
              "learning_rate=5e-05,\n",
              "length_column_name=length,\n",
              "load_best_model_at_end=False,\n",
              "local_rank=-1,\n",
              "log_level=passive,\n",
              "log_level_replica=warning,\n",
              "log_on_each_node=True,\n",
              "logging_dir=layoutlmv2-finetuned-funsd-v2/runs/Apr17_17-10-54_27c530d374c9,\n",
              "logging_first_step=False,\n",
              "logging_nan_inf_filter=True,\n",
              "logging_steps=500,\n",
              "logging_strategy=steps,\n",
              "lr_scheduler_type=linear,\n",
              "max_grad_norm=1.0,\n",
              "max_steps=1000,\n",
              "metric_for_best_model=None,\n",
              "mp_parameters=,\n",
              "no_cuda=False,\n",
              "num_train_epochs=3.0,\n",
              "optim=adamw_hf,\n",
              "optim_args=None,\n",
              "output_dir=layoutlmv2-finetuned-funsd-v2,\n",
              "overwrite_output_dir=False,\n",
              "past_index=-1,\n",
              "per_device_eval_batch_size=8,\n",
              "per_device_train_batch_size=8,\n",
              "prediction_loss_only=False,\n",
              "push_to_hub=False,\n",
              "push_to_hub_model_id=layoutlmv2-finetuned-funsd-test,\n",
              "push_to_hub_organization=None,\n",
              "push_to_hub_token=<PUSH_TO_HUB_TOKEN>,\n",
              "ray_scope=last,\n",
              "remove_unused_columns=True,\n",
              "report_to=['tensorboard'],\n",
              "resume_from_checkpoint=None,\n",
              "run_name=layoutlmv2-finetuned-funsd-v2,\n",
              "save_on_each_node=False,\n",
              "save_safetensors=False,\n",
              "save_steps=500,\n",
              "save_strategy=steps,\n",
              "save_total_limit=None,\n",
              "seed=42,\n",
              "sharded_ddp=[],\n",
              "skip_memory_metrics=True,\n",
              "tf32=None,\n",
              "torch_compile=False,\n",
              "torch_compile_backend=None,\n",
              "torch_compile_mode=None,\n",
              "torchdynamo=None,\n",
              "tpu_metrics_debug=False,\n",
              "tpu_num_cores=None,\n",
              "use_ipex=False,\n",
              "use_legacy_prediction_loop=False,\n",
              "use_mps_device=False,\n",
              "warmup_ratio=0.1,\n",
              "warmup_steps=0,\n",
              "weight_decay=0.0,\n",
              "xpu_backend=None,\n",
              ")"
            ]
          },
          "execution_count": 18,
          "metadata": {},
          "output_type": "execute_result"
        }
      ],
      "source": [
        "args"
      ]
    },
    {
      "cell_type": "markdown",
      "metadata": {
        "id": "syFj3aejZsaC"
      },
      "source": [
        "To compute metrics on the test set, we can run `trainer.predict()`. We get predictions, labels, and metrics back."
      ]
    },
    {
      "cell_type": "code",
      "execution_count": 19,
      "metadata": {
        "colab": {
          "base_uri": "https://localhost:8080/",
          "height": 156
        },
        "id": "Wb1pDhDcArwI",
        "outputId": "2041dab1-fa48-43f8-8491-ef70bbf5e540"
      },
      "outputs": [
        {
          "data": {
            "text/html": [],
            "text/plain": [
              "<IPython.core.display.HTML object>"
            ]
          },
          "metadata": {},
          "output_type": "display_data"
        },
        {
          "name": "stderr",
          "output_type": "stream",
          "text": [
            "/usr/local/lib/python3.9/dist-packages/seqeval/metrics/sequence_labeling.py:171: UserWarning: None seems not to be NE tag.\n",
            "  warnings.warn('{} seems not to be NE tag.'.format(chunk))\n",
            "/usr/local/lib/python3.9/dist-packages/seqeval/metrics/sequence_labeling.py:171: UserWarning: Category seems not to be NE tag.\n",
            "  warnings.warn('{} seems not to be NE tag.'.format(chunk))\n",
            "/usr/local/lib/python3.9/dist-packages/seqeval/metrics/sequence_labeling.py:171: UserWarning: Title seems not to be NE tag.\n",
            "  warnings.warn('{} seems not to be NE tag.'.format(chunk))\n",
            "/usr/local/lib/python3.9/dist-packages/seqeval/metrics/sequence_labeling.py:171: UserWarning: SubTitle seems not to be NE tag.\n",
            "  warnings.warn('{} seems not to be NE tag.'.format(chunk))\n"
          ]
        }
      ],
      "source": [
        "predictions, labels, metrics = trainer.predict(test_dataset)"
      ]
    },
    {
      "cell_type": "code",
      "execution_count": 20,
      "metadata": {
        "colab": {
          "base_uri": "https://localhost:8080/"
        },
        "id": "1svHxaZSCyq6",
        "outputId": "e0cc5596-9d0c-4f29-80ab-1666b0f93e7a"
      },
      "outputs": [
        {
          "name": "stdout",
          "output_type": "stream",
          "text": [
            "{'test_loss': 0.3373465836048126, 'test_ategory_precision': 0.7613636363636364, 'test_ategory_recall': 0.7745664739884393, 'test_ategory_f1': 0.7679083094555875, 'test_ategory_number': 173, 'test_itle_precision': 0.8196864111498258, 'test_itle_recall': 0.8554545454545455, 'test_itle_f1': 0.8371886120996441, 'test_itle_number': 1100, 'test_one_precision': 0.8487467588591184, 'test_one_recall': 0.8472821397756687, 'test_one_f1': 0.8480138169257341, 'test_one_number': 1159, 'test_ubTitle_precision': 0.9475677250218468, 'test_ubTitle_recall': 0.9474297364205622, 'test_ubTitle_f1': 0.9474987256972257, 'test_ubTitle_number': 6867, 'test_overall_precision': 0.9161228201561998, 'test_overall_recall': 0.9208517044843532, 'test_overall_f1': 0.9184811755872574, 'test_overall_accuracy': 0.9513093828135281, 'test_runtime': 9.6897, 'test_samples_per_second': 8.256, 'test_steps_per_second': 1.032}\n"
          ]
        }
      ],
      "source": [
        "print(metrics)"
      ]
    },
    {
      "cell_type": "code",
      "execution_count": 21,
      "metadata": {
        "colab": {
          "base_uri": "https://localhost:8080/"
        },
        "id": "sX9SNfFLPpMh",
        "outputId": "fce51ea3-5cbe-489e-e464-8e7c58edbd9d"
      },
      "outputs": [
        {
          "data": {
            "text/plain": [
              "array([[ 8.03  , -2.838 , -3.068 , -2.398 ],\n",
              "       [ 7.996 , -2.865 , -2.932 , -2.38  ],\n",
              "       [ 7.875 , -3.008 , -2.928 , -2.363 ],\n",
              "       ...,\n",
              "       [-1.343 ,  6.402 , -1.897 , -3.51  ],\n",
              "       [ 4.668 ,  0.3877, -1.639 , -3.182 ],\n",
              "       [ 3.238 , -0.2375, -0.2727, -1.741 ]], dtype=float16)"
            ]
          },
          "execution_count": 21,
          "metadata": {},
          "output_type": "execute_result"
        }
      ],
      "source": [
        "predictions[0]"
      ]
    },
    {
      "cell_type": "markdown",
      "metadata": {
        "id": "9tX-9VmuLXm_"
      },
      "source": [
        "## Share model on the hub\n",
        "\n",
        "Finally, we can easily push our model to the hub as follows:"
      ]
    },
    {
      "cell_type": "code",
      "execution_count": null,
      "metadata": {
        "id": "p_CWlcvyj3sj"
      },
      "outputs": [],
      "source": [
        "trainer.push_to_hub()"
      ]
    },
    {
      "cell_type": "code",
      "execution_count": null,
      "metadata": {
        "id": "NxahVHZ0NKq7"
      },
      "outputs": [],
      "source": []
    }
  ],
  "metadata": {
    "accelerator": "TPU",
    "colab": {
      "provenance": []
    },
    "gpuClass": "standard",
    "kernelspec": {
      "display_name": "Python 3",
      "name": "python3"
    },
    "language_info": {
      "codemirror_mode": {
        "name": "ipython",
        "version": 3
      },
      "file_extension": ".py",
      "mimetype": "text/x-python",
      "name": "python",
      "nbconvert_exporter": "python",
      "pygments_lexer": "ipython3",
      "version": "3.9.0"
    },
    "widgets": {
      "application/vnd.jupyter.widget-state+json": {
        "00284dabd64a4a7f8502fcd9d9872c1f": {
          "model_module": "@jupyter-widgets/controls",
          "model_module_version": "1.5.0",
          "model_name": "ProgressStyleModel",
          "state": {
            "_model_module": "@jupyter-widgets/controls",
            "_model_module_version": "1.5.0",
            "_model_name": "ProgressStyleModel",
            "_view_count": null,
            "_view_module": "@jupyter-widgets/base",
            "_view_module_version": "1.2.0",
            "_view_name": "StyleView",
            "bar_color": null,
            "description_width": ""
          }
        },
        "0099ec24dfc2418e831f32d40652322e": {
          "model_module": "@jupyter-widgets/controls",
          "model_module_version": "1.5.0",
          "model_name": "ProgressStyleModel",
          "state": {
            "_model_module": "@jupyter-widgets/controls",
            "_model_module_version": "1.5.0",
            "_model_name": "ProgressStyleModel",
            "_view_count": null,
            "_view_module": "@jupyter-widgets/base",
            "_view_module_version": "1.2.0",
            "_view_name": "StyleView",
            "bar_color": null,
            "description_width": ""
          }
        },
        "1072f77ff1314f11a5c05f4de833703b": {
          "model_module": "@jupyter-widgets/controls",
          "model_module_version": "1.5.0",
          "model_name": "HTMLModel",
          "state": {
            "_dom_classes": [],
            "_model_module": "@jupyter-widgets/controls",
            "_model_module_version": "1.5.0",
            "_model_name": "HTMLModel",
            "_view_count": null,
            "_view_module": "@jupyter-widgets/controls",
            "_view_module_version": "1.5.0",
            "_view_name": "HTMLView",
            "description": "",
            "description_tooltip": null,
            "layout": "IPY_MODEL_637b373c0ed841258e6695cf303fabc7",
            "placeholder": "​",
            "style": "IPY_MODEL_4a12a2a400c14c78a9bdf241997526a0",
            "value": "100%"
          }
        },
        "1212e2516d554a089eddc60bee2f03a9": {
          "model_module": "@jupyter-widgets/controls",
          "model_module_version": "1.5.0",
          "model_name": "HTMLModel",
          "state": {
            "_dom_classes": [],
            "_model_module": "@jupyter-widgets/controls",
            "_model_module_version": "1.5.0",
            "_model_name": "HTMLModel",
            "_view_count": null,
            "_view_module": "@jupyter-widgets/controls",
            "_view_module_version": "1.5.0",
            "_view_name": "HTMLView",
            "description": "",
            "description_tooltip": null,
            "layout": "IPY_MODEL_f7e6789fb66a4125adaac63794a49a74",
            "placeholder": "​",
            "style": "IPY_MODEL_a05fb876a5ef4e2cbbd0bbb7595492b8",
            "value": " 320/320 [00:48&lt;00:00,  6.61 examples/s]"
          }
        },
        "13e5af46c6d54ba393c4d8ee4470e3c9": {
          "model_module": "@jupyter-widgets/controls",
          "model_module_version": "1.5.0",
          "model_name": "DescriptionStyleModel",
          "state": {
            "_model_module": "@jupyter-widgets/controls",
            "_model_module_version": "1.5.0",
            "_model_name": "DescriptionStyleModel",
            "_view_count": null,
            "_view_module": "@jupyter-widgets/base",
            "_view_module_version": "1.2.0",
            "_view_name": "StyleView",
            "description_width": ""
          }
        },
        "153e7ef38bd24537a7a7084a7dbc244f": {
          "model_module": "@jupyter-widgets/base",
          "model_module_version": "1.2.0",
          "model_name": "LayoutModel",
          "state": {
            "_model_module": "@jupyter-widgets/base",
            "_model_module_version": "1.2.0",
            "_model_name": "LayoutModel",
            "_view_count": null,
            "_view_module": "@jupyter-widgets/base",
            "_view_module_version": "1.2.0",
            "_view_name": "LayoutView",
            "align_content": null,
            "align_items": null,
            "align_self": null,
            "border": null,
            "bottom": null,
            "display": null,
            "flex": null,
            "flex_flow": null,
            "grid_area": null,
            "grid_auto_columns": null,
            "grid_auto_flow": null,
            "grid_auto_rows": null,
            "grid_column": null,
            "grid_gap": null,
            "grid_row": null,
            "grid_template_areas": null,
            "grid_template_columns": null,
            "grid_template_rows": null,
            "height": null,
            "justify_content": null,
            "justify_items": null,
            "left": null,
            "margin": null,
            "max_height": null,
            "max_width": null,
            "min_height": null,
            "min_width": null,
            "object_fit": null,
            "object_position": null,
            "order": null,
            "overflow": null,
            "overflow_x": null,
            "overflow_y": null,
            "padding": null,
            "right": null,
            "top": null,
            "visibility": null,
            "width": null
          }
        },
        "1588a60467fa41f896893a8323b55efa": {
          "model_module": "@jupyter-widgets/base",
          "model_module_version": "1.2.0",
          "model_name": "LayoutModel",
          "state": {
            "_model_module": "@jupyter-widgets/base",
            "_model_module_version": "1.2.0",
            "_model_name": "LayoutModel",
            "_view_count": null,
            "_view_module": "@jupyter-widgets/base",
            "_view_module_version": "1.2.0",
            "_view_name": "LayoutView",
            "align_content": null,
            "align_items": null,
            "align_self": null,
            "border": null,
            "bottom": null,
            "display": null,
            "flex": null,
            "flex_flow": null,
            "grid_area": null,
            "grid_auto_columns": null,
            "grid_auto_flow": null,
            "grid_auto_rows": null,
            "grid_column": null,
            "grid_gap": null,
            "grid_row": null,
            "grid_template_areas": null,
            "grid_template_columns": null,
            "grid_template_rows": null,
            "height": null,
            "justify_content": null,
            "justify_items": null,
            "left": null,
            "margin": null,
            "max_height": null,
            "max_width": null,
            "min_height": null,
            "min_width": null,
            "object_fit": null,
            "object_position": null,
            "order": null,
            "overflow": null,
            "overflow_x": null,
            "overflow_y": null,
            "padding": null,
            "right": null,
            "top": null,
            "visibility": null,
            "width": null
          }
        },
        "16654c8a9c6e4bcf862d6ee626c4b163": {
          "model_module": "@jupyter-widgets/base",
          "model_module_version": "1.2.0",
          "model_name": "LayoutModel",
          "state": {
            "_model_module": "@jupyter-widgets/base",
            "_model_module_version": "1.2.0",
            "_model_name": "LayoutModel",
            "_view_count": null,
            "_view_module": "@jupyter-widgets/base",
            "_view_module_version": "1.2.0",
            "_view_name": "LayoutView",
            "align_content": null,
            "align_items": null,
            "align_self": null,
            "border": null,
            "bottom": null,
            "display": null,
            "flex": null,
            "flex_flow": null,
            "grid_area": null,
            "grid_auto_columns": null,
            "grid_auto_flow": null,
            "grid_auto_rows": null,
            "grid_column": null,
            "grid_gap": null,
            "grid_row": null,
            "grid_template_areas": null,
            "grid_template_columns": null,
            "grid_template_rows": null,
            "height": null,
            "justify_content": null,
            "justify_items": null,
            "left": null,
            "margin": null,
            "max_height": null,
            "max_width": null,
            "min_height": null,
            "min_width": null,
            "object_fit": null,
            "object_position": null,
            "order": null,
            "overflow": null,
            "overflow_x": null,
            "overflow_y": null,
            "padding": null,
            "right": null,
            "top": null,
            "visibility": null,
            "width": null
          }
        },
        "19b050678cfb47659a1b1d645d9c88a2": {
          "model_module": "@jupyter-widgets/base",
          "model_module_version": "1.2.0",
          "model_name": "LayoutModel",
          "state": {
            "_model_module": "@jupyter-widgets/base",
            "_model_module_version": "1.2.0",
            "_model_name": "LayoutModel",
            "_view_count": null,
            "_view_module": "@jupyter-widgets/base",
            "_view_module_version": "1.2.0",
            "_view_name": "LayoutView",
            "align_content": null,
            "align_items": null,
            "align_self": null,
            "border": null,
            "bottom": null,
            "display": null,
            "flex": null,
            "flex_flow": null,
            "grid_area": null,
            "grid_auto_columns": null,
            "grid_auto_flow": null,
            "grid_auto_rows": null,
            "grid_column": null,
            "grid_gap": null,
            "grid_row": null,
            "grid_template_areas": null,
            "grid_template_columns": null,
            "grid_template_rows": null,
            "height": null,
            "justify_content": null,
            "justify_items": null,
            "left": null,
            "margin": null,
            "max_height": null,
            "max_width": null,
            "min_height": null,
            "min_width": null,
            "object_fit": null,
            "object_position": null,
            "order": null,
            "overflow": null,
            "overflow_x": null,
            "overflow_y": null,
            "padding": null,
            "right": null,
            "top": null,
            "visibility": "hidden",
            "width": null
          }
        },
        "2d40efd607aa48e19ca3a335dd09669d": {
          "model_module": "@jupyter-widgets/base",
          "model_module_version": "1.2.0",
          "model_name": "LayoutModel",
          "state": {
            "_model_module": "@jupyter-widgets/base",
            "_model_module_version": "1.2.0",
            "_model_name": "LayoutModel",
            "_view_count": null,
            "_view_module": "@jupyter-widgets/base",
            "_view_module_version": "1.2.0",
            "_view_name": "LayoutView",
            "align_content": null,
            "align_items": null,
            "align_self": null,
            "border": null,
            "bottom": null,
            "display": null,
            "flex": null,
            "flex_flow": null,
            "grid_area": null,
            "grid_auto_columns": null,
            "grid_auto_flow": null,
            "grid_auto_rows": null,
            "grid_column": null,
            "grid_gap": null,
            "grid_row": null,
            "grid_template_areas": null,
            "grid_template_columns": null,
            "grid_template_rows": null,
            "height": null,
            "justify_content": null,
            "justify_items": null,
            "left": null,
            "margin": null,
            "max_height": null,
            "max_width": null,
            "min_height": null,
            "min_width": null,
            "object_fit": null,
            "object_position": null,
            "order": null,
            "overflow": null,
            "overflow_x": null,
            "overflow_y": null,
            "padding": null,
            "right": null,
            "top": null,
            "visibility": null,
            "width": null
          }
        },
        "3947f3c3f59e43eebffb0581be34aea1": {
          "model_module": "@jupyter-widgets/controls",
          "model_module_version": "1.5.0",
          "model_name": "FloatProgressModel",
          "state": {
            "_dom_classes": [],
            "_model_module": "@jupyter-widgets/controls",
            "_model_module_version": "1.5.0",
            "_model_name": "FloatProgressModel",
            "_view_count": null,
            "_view_module": "@jupyter-widgets/controls",
            "_view_module_version": "1.5.0",
            "_view_name": "ProgressView",
            "bar_style": "",
            "description": "",
            "description_tooltip": null,
            "layout": "IPY_MODEL_5445e8225f134823a21e77676a4ecea4",
            "max": 320,
            "min": 0,
            "orientation": "horizontal",
            "style": "IPY_MODEL_f7c5d971b0dd4f0484caca502b9a1e31",
            "value": 320
          }
        },
        "428ee4fef1dd4dc3934a64069e416773": {
          "model_module": "@jupyter-widgets/controls",
          "model_module_version": "1.5.0",
          "model_name": "HBoxModel",
          "state": {
            "_dom_classes": [],
            "_model_module": "@jupyter-widgets/controls",
            "_model_module_version": "1.5.0",
            "_model_name": "HBoxModel",
            "_view_count": null,
            "_view_module": "@jupyter-widgets/controls",
            "_view_module_version": "1.5.0",
            "_view_name": "HBoxView",
            "box_style": "",
            "children": [
              "IPY_MODEL_1072f77ff1314f11a5c05f4de833703b",
              "IPY_MODEL_73a29c652c534bc38e9096f2fcee99c4",
              "IPY_MODEL_b149d07d8f8a482a8d14ba101e69c5e9"
            ],
            "layout": "IPY_MODEL_84f4101571024fa6985f1d9844e0aeac"
          }
        },
        "4a12a2a400c14c78a9bdf241997526a0": {
          "model_module": "@jupyter-widgets/controls",
          "model_module_version": "1.5.0",
          "model_name": "DescriptionStyleModel",
          "state": {
            "_model_module": "@jupyter-widgets/controls",
            "_model_module_version": "1.5.0",
            "_model_name": "DescriptionStyleModel",
            "_view_count": null,
            "_view_module": "@jupyter-widgets/base",
            "_view_module_version": "1.2.0",
            "_view_name": "StyleView",
            "description_width": ""
          }
        },
        "5445e8225f134823a21e77676a4ecea4": {
          "model_module": "@jupyter-widgets/base",
          "model_module_version": "1.2.0",
          "model_name": "LayoutModel",
          "state": {
            "_model_module": "@jupyter-widgets/base",
            "_model_module_version": "1.2.0",
            "_model_name": "LayoutModel",
            "_view_count": null,
            "_view_module": "@jupyter-widgets/base",
            "_view_module_version": "1.2.0",
            "_view_name": "LayoutView",
            "align_content": null,
            "align_items": null,
            "align_self": null,
            "border": null,
            "bottom": null,
            "display": null,
            "flex": null,
            "flex_flow": null,
            "grid_area": null,
            "grid_auto_columns": null,
            "grid_auto_flow": null,
            "grid_auto_rows": null,
            "grid_column": null,
            "grid_gap": null,
            "grid_row": null,
            "grid_template_areas": null,
            "grid_template_columns": null,
            "grid_template_rows": null,
            "height": null,
            "justify_content": null,
            "justify_items": null,
            "left": null,
            "margin": null,
            "max_height": null,
            "max_width": null,
            "min_height": null,
            "min_width": null,
            "object_fit": null,
            "object_position": null,
            "order": null,
            "overflow": null,
            "overflow_x": null,
            "overflow_y": null,
            "padding": null,
            "right": null,
            "top": null,
            "visibility": null,
            "width": null
          }
        },
        "5a1155e4e7274ff89ed6edabb37168d8": {
          "model_module": "@jupyter-widgets/controls",
          "model_module_version": "1.5.0",
          "model_name": "FloatProgressModel",
          "state": {
            "_dom_classes": [],
            "_model_module": "@jupyter-widgets/controls",
            "_model_module_version": "1.5.0",
            "_model_name": "FloatProgressModel",
            "_view_count": null,
            "_view_module": "@jupyter-widgets/controls",
            "_view_module_version": "1.5.0",
            "_view_name": "ProgressView",
            "bar_style": "",
            "description": "",
            "description_tooltip": null,
            "layout": "IPY_MODEL_16654c8a9c6e4bcf862d6ee626c4b163",
            "max": 80,
            "min": 0,
            "orientation": "horizontal",
            "style": "IPY_MODEL_0099ec24dfc2418e831f32d40652322e",
            "value": 80
          }
        },
        "5e3206c548a44d0180ef80d898bf3b6c": {
          "model_module": "@jupyter-widgets/base",
          "model_module_version": "1.2.0",
          "model_name": "LayoutModel",
          "state": {
            "_model_module": "@jupyter-widgets/base",
            "_model_module_version": "1.2.0",
            "_model_name": "LayoutModel",
            "_view_count": null,
            "_view_module": "@jupyter-widgets/base",
            "_view_module_version": "1.2.0",
            "_view_name": "LayoutView",
            "align_content": null,
            "align_items": null,
            "align_self": null,
            "border": null,
            "bottom": null,
            "display": null,
            "flex": null,
            "flex_flow": null,
            "grid_area": null,
            "grid_auto_columns": null,
            "grid_auto_flow": null,
            "grid_auto_rows": null,
            "grid_column": null,
            "grid_gap": null,
            "grid_row": null,
            "grid_template_areas": null,
            "grid_template_columns": null,
            "grid_template_rows": null,
            "height": null,
            "justify_content": null,
            "justify_items": null,
            "left": null,
            "margin": null,
            "max_height": null,
            "max_width": null,
            "min_height": null,
            "min_width": null,
            "object_fit": null,
            "object_position": null,
            "order": null,
            "overflow": null,
            "overflow_x": null,
            "overflow_y": null,
            "padding": null,
            "right": null,
            "top": null,
            "visibility": null,
            "width": null
          }
        },
        "634e58d837c24b7389dbab89689cdf90": {
          "model_module": "@jupyter-widgets/base",
          "model_module_version": "1.2.0",
          "model_name": "LayoutModel",
          "state": {
            "_model_module": "@jupyter-widgets/base",
            "_model_module_version": "1.2.0",
            "_model_name": "LayoutModel",
            "_view_count": null,
            "_view_module": "@jupyter-widgets/base",
            "_view_module_version": "1.2.0",
            "_view_name": "LayoutView",
            "align_content": null,
            "align_items": null,
            "align_self": null,
            "border": null,
            "bottom": null,
            "display": null,
            "flex": null,
            "flex_flow": null,
            "grid_area": null,
            "grid_auto_columns": null,
            "grid_auto_flow": null,
            "grid_auto_rows": null,
            "grid_column": null,
            "grid_gap": null,
            "grid_row": null,
            "grid_template_areas": null,
            "grid_template_columns": null,
            "grid_template_rows": null,
            "height": null,
            "justify_content": null,
            "justify_items": null,
            "left": null,
            "margin": null,
            "max_height": null,
            "max_width": null,
            "min_height": null,
            "min_width": null,
            "object_fit": null,
            "object_position": null,
            "order": null,
            "overflow": null,
            "overflow_x": null,
            "overflow_y": null,
            "padding": null,
            "right": null,
            "top": null,
            "visibility": null,
            "width": null
          }
        },
        "637b373c0ed841258e6695cf303fabc7": {
          "model_module": "@jupyter-widgets/base",
          "model_module_version": "1.2.0",
          "model_name": "LayoutModel",
          "state": {
            "_model_module": "@jupyter-widgets/base",
            "_model_module_version": "1.2.0",
            "_model_name": "LayoutModel",
            "_view_count": null,
            "_view_module": "@jupyter-widgets/base",
            "_view_module_version": "1.2.0",
            "_view_name": "LayoutView",
            "align_content": null,
            "align_items": null,
            "align_self": null,
            "border": null,
            "bottom": null,
            "display": null,
            "flex": null,
            "flex_flow": null,
            "grid_area": null,
            "grid_auto_columns": null,
            "grid_auto_flow": null,
            "grid_auto_rows": null,
            "grid_column": null,
            "grid_gap": null,
            "grid_row": null,
            "grid_template_areas": null,
            "grid_template_columns": null,
            "grid_template_rows": null,
            "height": null,
            "justify_content": null,
            "justify_items": null,
            "left": null,
            "margin": null,
            "max_height": null,
            "max_width": null,
            "min_height": null,
            "min_width": null,
            "object_fit": null,
            "object_position": null,
            "order": null,
            "overflow": null,
            "overflow_x": null,
            "overflow_y": null,
            "padding": null,
            "right": null,
            "top": null,
            "visibility": null,
            "width": null
          }
        },
        "6abed6a07fdb4a1aa267bcc07ff6e159": {
          "model_module": "@jupyter-widgets/controls",
          "model_module_version": "1.5.0",
          "model_name": "DescriptionStyleModel",
          "state": {
            "_model_module": "@jupyter-widgets/controls",
            "_model_module_version": "1.5.0",
            "_model_name": "DescriptionStyleModel",
            "_view_count": null,
            "_view_module": "@jupyter-widgets/base",
            "_view_module_version": "1.2.0",
            "_view_name": "StyleView",
            "description_width": ""
          }
        },
        "6f1d70f9487c4721b77e5cf3613c482a": {
          "model_module": "@jupyter-widgets/controls",
          "model_module_version": "1.5.0",
          "model_name": "DescriptionStyleModel",
          "state": {
            "_model_module": "@jupyter-widgets/controls",
            "_model_module_version": "1.5.0",
            "_model_name": "DescriptionStyleModel",
            "_view_count": null,
            "_view_module": "@jupyter-widgets/base",
            "_view_module_version": "1.2.0",
            "_view_name": "StyleView",
            "description_width": ""
          }
        },
        "73a29c652c534bc38e9096f2fcee99c4": {
          "model_module": "@jupyter-widgets/controls",
          "model_module_version": "1.5.0",
          "model_name": "FloatProgressModel",
          "state": {
            "_dom_classes": [],
            "_model_module": "@jupyter-widgets/controls",
            "_model_module_version": "1.5.0",
            "_model_name": "FloatProgressModel",
            "_view_count": null,
            "_view_module": "@jupyter-widgets/controls",
            "_view_module_version": "1.5.0",
            "_view_name": "ProgressView",
            "bar_style": "success",
            "description": "",
            "description_tooltip": null,
            "layout": "IPY_MODEL_1588a60467fa41f896893a8323b55efa",
            "max": 2,
            "min": 0,
            "orientation": "horizontal",
            "style": "IPY_MODEL_00284dabd64a4a7f8502fcd9d9872c1f",
            "value": 2
          }
        },
        "7ab0d04bd0b44908bb598b8d3bac80e4": {
          "model_module": "@jupyter-widgets/controls",
          "model_module_version": "1.5.0",
          "model_name": "HTMLModel",
          "state": {
            "_dom_classes": [],
            "_model_module": "@jupyter-widgets/controls",
            "_model_module_version": "1.5.0",
            "_model_name": "HTMLModel",
            "_view_count": null,
            "_view_module": "@jupyter-widgets/controls",
            "_view_module_version": "1.5.0",
            "_view_name": "HTMLView",
            "description": "",
            "description_tooltip": null,
            "layout": "IPY_MODEL_634e58d837c24b7389dbab89689cdf90",
            "placeholder": "​",
            "style": "IPY_MODEL_6f1d70f9487c4721b77e5cf3613c482a",
            "value": "Map: 100%"
          }
        },
        "84f4101571024fa6985f1d9844e0aeac": {
          "model_module": "@jupyter-widgets/base",
          "model_module_version": "1.2.0",
          "model_name": "LayoutModel",
          "state": {
            "_model_module": "@jupyter-widgets/base",
            "_model_module_version": "1.2.0",
            "_model_name": "LayoutModel",
            "_view_count": null,
            "_view_module": "@jupyter-widgets/base",
            "_view_module_version": "1.2.0",
            "_view_name": "LayoutView",
            "align_content": null,
            "align_items": null,
            "align_self": null,
            "border": null,
            "bottom": null,
            "display": null,
            "flex": null,
            "flex_flow": null,
            "grid_area": null,
            "grid_auto_columns": null,
            "grid_auto_flow": null,
            "grid_auto_rows": null,
            "grid_column": null,
            "grid_gap": null,
            "grid_row": null,
            "grid_template_areas": null,
            "grid_template_columns": null,
            "grid_template_rows": null,
            "height": null,
            "justify_content": null,
            "justify_items": null,
            "left": null,
            "margin": null,
            "max_height": null,
            "max_width": null,
            "min_height": null,
            "min_width": null,
            "object_fit": null,
            "object_position": null,
            "order": null,
            "overflow": null,
            "overflow_x": null,
            "overflow_y": null,
            "padding": null,
            "right": null,
            "top": null,
            "visibility": null,
            "width": null
          }
        },
        "a05fb876a5ef4e2cbbd0bbb7595492b8": {
          "model_module": "@jupyter-widgets/controls",
          "model_module_version": "1.5.0",
          "model_name": "DescriptionStyleModel",
          "state": {
            "_model_module": "@jupyter-widgets/controls",
            "_model_module_version": "1.5.0",
            "_model_name": "DescriptionStyleModel",
            "_view_count": null,
            "_view_module": "@jupyter-widgets/base",
            "_view_module_version": "1.2.0",
            "_view_name": "StyleView",
            "description_width": ""
          }
        },
        "a3c6a40d7f4f4703950bc26a8e6a1271": {
          "model_module": "@jupyter-widgets/base",
          "model_module_version": "1.2.0",
          "model_name": "LayoutModel",
          "state": {
            "_model_module": "@jupyter-widgets/base",
            "_model_module_version": "1.2.0",
            "_model_name": "LayoutModel",
            "_view_count": null,
            "_view_module": "@jupyter-widgets/base",
            "_view_module_version": "1.2.0",
            "_view_name": "LayoutView",
            "align_content": null,
            "align_items": null,
            "align_self": null,
            "border": null,
            "bottom": null,
            "display": null,
            "flex": null,
            "flex_flow": null,
            "grid_area": null,
            "grid_auto_columns": null,
            "grid_auto_flow": null,
            "grid_auto_rows": null,
            "grid_column": null,
            "grid_gap": null,
            "grid_row": null,
            "grid_template_areas": null,
            "grid_template_columns": null,
            "grid_template_rows": null,
            "height": null,
            "justify_content": null,
            "justify_items": null,
            "left": null,
            "margin": null,
            "max_height": null,
            "max_width": null,
            "min_height": null,
            "min_width": null,
            "object_fit": null,
            "object_position": null,
            "order": null,
            "overflow": null,
            "overflow_x": null,
            "overflow_y": null,
            "padding": null,
            "right": null,
            "top": null,
            "visibility": "hidden",
            "width": null
          }
        },
        "b149d07d8f8a482a8d14ba101e69c5e9": {
          "model_module": "@jupyter-widgets/controls",
          "model_module_version": "1.5.0",
          "model_name": "HTMLModel",
          "state": {
            "_dom_classes": [],
            "_model_module": "@jupyter-widgets/controls",
            "_model_module_version": "1.5.0",
            "_model_name": "HTMLModel",
            "_view_count": null,
            "_view_module": "@jupyter-widgets/controls",
            "_view_module_version": "1.5.0",
            "_view_name": "HTMLView",
            "description": "",
            "description_tooltip": null,
            "layout": "IPY_MODEL_2d40efd607aa48e19ca3a335dd09669d",
            "placeholder": "​",
            "style": "IPY_MODEL_6abed6a07fdb4a1aa267bcc07ff6e159",
            "value": " 2/2 [00:00&lt;00:00, 18.07it/s]"
          }
        },
        "b35d9aff5709409d8188ffcfb1474689": {
          "model_module": "@jupyter-widgets/controls",
          "model_module_version": "1.5.0",
          "model_name": "HBoxModel",
          "state": {
            "_dom_classes": [],
            "_model_module": "@jupyter-widgets/controls",
            "_model_module_version": "1.5.0",
            "_model_name": "HBoxModel",
            "_view_count": null,
            "_view_module": "@jupyter-widgets/controls",
            "_view_module_version": "1.5.0",
            "_view_name": "HBoxView",
            "box_style": "",
            "children": [
              "IPY_MODEL_7ab0d04bd0b44908bb598b8d3bac80e4",
              "IPY_MODEL_5a1155e4e7274ff89ed6edabb37168d8",
              "IPY_MODEL_c5ef89736fb8480cbf610612b57c7021"
            ],
            "layout": "IPY_MODEL_19b050678cfb47659a1b1d645d9c88a2"
          }
        },
        "c5ef89736fb8480cbf610612b57c7021": {
          "model_module": "@jupyter-widgets/controls",
          "model_module_version": "1.5.0",
          "model_name": "HTMLModel",
          "state": {
            "_dom_classes": [],
            "_model_module": "@jupyter-widgets/controls",
            "_model_module_version": "1.5.0",
            "_model_name": "HTMLModel",
            "_view_count": null,
            "_view_module": "@jupyter-widgets/controls",
            "_view_module_version": "1.5.0",
            "_view_name": "HTMLView",
            "description": "",
            "description_tooltip": null,
            "layout": "IPY_MODEL_5e3206c548a44d0180ef80d898bf3b6c",
            "placeholder": "​",
            "style": "IPY_MODEL_fdbf2ea0c0814e24ad96fecd06819c3e",
            "value": " 80/80 [00:09&lt;00:00,  8.38 examples/s]"
          }
        },
        "dd6f31560c8341f8bf7e4934bf4d38f6": {
          "model_module": "@jupyter-widgets/controls",
          "model_module_version": "1.5.0",
          "model_name": "HTMLModel",
          "state": {
            "_dom_classes": [],
            "_model_module": "@jupyter-widgets/controls",
            "_model_module_version": "1.5.0",
            "_model_name": "HTMLModel",
            "_view_count": null,
            "_view_module": "@jupyter-widgets/controls",
            "_view_module_version": "1.5.0",
            "_view_name": "HTMLView",
            "description": "",
            "description_tooltip": null,
            "layout": "IPY_MODEL_153e7ef38bd24537a7a7084a7dbc244f",
            "placeholder": "​",
            "style": "IPY_MODEL_13e5af46c6d54ba393c4d8ee4470e3c9",
            "value": "Map: 100%"
          }
        },
        "f7c5d971b0dd4f0484caca502b9a1e31": {
          "model_module": "@jupyter-widgets/controls",
          "model_module_version": "1.5.0",
          "model_name": "ProgressStyleModel",
          "state": {
            "_model_module": "@jupyter-widgets/controls",
            "_model_module_version": "1.5.0",
            "_model_name": "ProgressStyleModel",
            "_view_count": null,
            "_view_module": "@jupyter-widgets/base",
            "_view_module_version": "1.2.0",
            "_view_name": "StyleView",
            "bar_color": null,
            "description_width": ""
          }
        },
        "f7e6789fb66a4125adaac63794a49a74": {
          "model_module": "@jupyter-widgets/base",
          "model_module_version": "1.2.0",
          "model_name": "LayoutModel",
          "state": {
            "_model_module": "@jupyter-widgets/base",
            "_model_module_version": "1.2.0",
            "_model_name": "LayoutModel",
            "_view_count": null,
            "_view_module": "@jupyter-widgets/base",
            "_view_module_version": "1.2.0",
            "_view_name": "LayoutView",
            "align_content": null,
            "align_items": null,
            "align_self": null,
            "border": null,
            "bottom": null,
            "display": null,
            "flex": null,
            "flex_flow": null,
            "grid_area": null,
            "grid_auto_columns": null,
            "grid_auto_flow": null,
            "grid_auto_rows": null,
            "grid_column": null,
            "grid_gap": null,
            "grid_row": null,
            "grid_template_areas": null,
            "grid_template_columns": null,
            "grid_template_rows": null,
            "height": null,
            "justify_content": null,
            "justify_items": null,
            "left": null,
            "margin": null,
            "max_height": null,
            "max_width": null,
            "min_height": null,
            "min_width": null,
            "object_fit": null,
            "object_position": null,
            "order": null,
            "overflow": null,
            "overflow_x": null,
            "overflow_y": null,
            "padding": null,
            "right": null,
            "top": null,
            "visibility": null,
            "width": null
          }
        },
        "fc9f6ceceb9d455cb770dc6a770f7edd": {
          "model_module": "@jupyter-widgets/controls",
          "model_module_version": "1.5.0",
          "model_name": "HBoxModel",
          "state": {
            "_dom_classes": [],
            "_model_module": "@jupyter-widgets/controls",
            "_model_module_version": "1.5.0",
            "_model_name": "HBoxModel",
            "_view_count": null,
            "_view_module": "@jupyter-widgets/controls",
            "_view_module_version": "1.5.0",
            "_view_name": "HBoxView",
            "box_style": "",
            "children": [
              "IPY_MODEL_dd6f31560c8341f8bf7e4934bf4d38f6",
              "IPY_MODEL_3947f3c3f59e43eebffb0581be34aea1",
              "IPY_MODEL_1212e2516d554a089eddc60bee2f03a9"
            ],
            "layout": "IPY_MODEL_a3c6a40d7f4f4703950bc26a8e6a1271"
          }
        },
        "fdbf2ea0c0814e24ad96fecd06819c3e": {
          "model_module": "@jupyter-widgets/controls",
          "model_module_version": "1.5.0",
          "model_name": "DescriptionStyleModel",
          "state": {
            "_model_module": "@jupyter-widgets/controls",
            "_model_module_version": "1.5.0",
            "_model_name": "DescriptionStyleModel",
            "_view_count": null,
            "_view_module": "@jupyter-widgets/base",
            "_view_module_version": "1.2.0",
            "_view_name": "StyleView",
            "description_width": ""
          }
        }
      }
    }
  },
  "nbformat": 4,
  "nbformat_minor": 0
}
