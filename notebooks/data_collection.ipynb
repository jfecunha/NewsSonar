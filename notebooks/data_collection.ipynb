{
 "cells": [
  {
   "attachments": {},
   "cell_type": "markdown",
   "metadata": {},
   "source": [
    "# Data Collection"
   ]
  },
  {
   "cell_type": "code",
   "execution_count": 1,
   "metadata": {},
   "outputs": [],
   "source": [
    "import json\n",
    "\n",
    "from pathlib import Path\n",
    "import sys\n",
    "\n",
    "parent = Path().absolute().parents[0].as_posix()\n",
    "\n",
    "sys.path.insert(0, parent)\n",
    "\n",
    "import numpy as np\n",
    "\n",
    "from utils import DataExtractor"
   ]
  },
  {
   "attachments": {},
   "cell_type": "markdown",
   "metadata": {},
   "source": [
    "Newspapers:\n",
    "\n",
    "- [expresso.pt](https://expresso.pt/)\n",
    "- [dn.pt](https://www.dn.pt/)\n",
    "- [publico.pt](https://www.publico.pt/)\n",
    "- [jn.pt](https://www.jn.pt/)\n",
    "- [sapo.pt](https://www.sapo.pt/)\n",
    "- [cmjornal.pt](https://www.cmjornal.pt/)"
   ]
  },
  {
   "attachments": {},
   "cell_type": "markdown",
   "metadata": {},
   "source": [
    "Collect 200 samples for each newspaper to train a model"
   ]
  },
  {
   "cell_type": "code",
   "execution_count": 28,
   "metadata": {},
   "outputs": [
    {
     "name": "stdout",
     "output_type": "stream",
     "text": [
      "CPU times: total: 0 ns\n",
      "Wall time: 0 ns\n"
     ]
    }
   ],
   "source": [
    "%time\n",
    "\n",
    "de = DataExtractor(\n",
    "    newspaper=\"publico\",\n",
    "    url=\"https://arquivo.pt/textsearch?prettyPrint=true&versionHistory=publico.pt&maxItems=2000&from=2010010100000&to=2022123100000\",\n",
    "    num_records_by_year=10\n",
    ")\n",
    "\n",
    "#data_to_extract = de()"
   ]
  },
  {
   "attachments": {},
   "cell_type": "markdown",
   "metadata": {},
   "source": [
    "## Picture Cropping"
   ]
  },
  {
   "cell_type": "code",
   "execution_count": 94,
   "metadata": {},
   "outputs": [],
   "source": [
    "from PIL import Image\n",
    "\n",
    "\n",
    "def crop_image(path, shape=(2000, 2000)):\n",
    "\n",
    "    # Open the big image file\n",
    "    big_image = Image.open(path)\n",
    "    width, height = 2000, 2000\n",
    "    num_rows = big_image.height // height\n",
    "\n",
    "    # Loop through each row and column and crop the big image into small images\n",
    "    for row in range(1):\n",
    "        # Calculate the coordinates for cropping the small image\n",
    "        x0 = 0\n",
    "        y0 = row * height\n",
    "        x1 = x0 + width\n",
    "        y1 = y0 + height\n",
    "\n",
    "        # Crop the small image from the big image\n",
    "        small_image = big_image.crop((x0, y0, x1, y1))\n",
    "\n",
    "        # Save the small image with a unique filename\n",
    "        filename = path.replace(\"raw\", \"crop\")\n",
    "        Path(filename).parent.mkdir(exist_ok=True)\n",
    "        small_image.save(filename)"
   ]
  },
  {
   "cell_type": "code",
   "execution_count": 95,
   "metadata": {},
   "outputs": [],
   "source": [
    "import glob"
   ]
  },
  {
   "cell_type": "code",
   "execution_count": 96,
   "metadata": {},
   "outputs": [
    {
     "data": {
      "text/plain": [
       "1477"
      ]
     },
     "execution_count": 96,
     "metadata": {},
     "output_type": "execute_result"
    }
   ],
   "source": [
    "raw_paths = []\n",
    "for dir_ in glob.glob(\"../data/raw/*\"):\n",
    "    for file in glob.glob(f\"{Path(dir_).as_posix()}/*\"):\n",
    "        raw_paths.append(file)\n",
    "        \n",
    "len(raw_paths)        "
   ]
  },
  {
   "cell_type": "code",
   "execution_count": 97,
   "metadata": {},
   "outputs": [
    {
     "data": {
      "text/plain": [
       "'../data/raw/cmjornal\\\\cmjornal-20200901070349.png'"
      ]
     },
     "execution_count": 97,
     "metadata": {},
     "output_type": "execute_result"
    }
   ],
   "source": [
    "raw_paths[0]"
   ]
  },
  {
   "cell_type": "code",
   "execution_count": 98,
   "metadata": {},
   "outputs": [
    {
     "ename": "OSError",
     "evalue": "unrecognized data stream contents when reading image file",
     "output_type": "error",
     "traceback": [
      "\u001b[1;31m---------------------------------------------------------------------------\u001b[0m",
      "\u001b[1;31mOSError\u001b[0m                                   Traceback (most recent call last)",
      "Cell \u001b[1;32mIn[98], line 2\u001b[0m\n\u001b[0;32m      1\u001b[0m \u001b[39mfor\u001b[39;00m image \u001b[39min\u001b[39;00m raw_paths:\n\u001b[1;32m----> 2\u001b[0m     crop_image(image)\n",
      "Cell \u001b[1;32mIn[94], line 20\u001b[0m, in \u001b[0;36mcrop_image\u001b[1;34m(path, shape)\u001b[0m\n\u001b[0;32m     17\u001b[0m y1 \u001b[39m=\u001b[39m y0 \u001b[39m+\u001b[39m height\n\u001b[0;32m     19\u001b[0m \u001b[39m# Crop the small image from the big image\u001b[39;00m\n\u001b[1;32m---> 20\u001b[0m small_image \u001b[39m=\u001b[39m big_image\u001b[39m.\u001b[39;49mcrop((x0, y0, x1, y1))\n\u001b[0;32m     22\u001b[0m \u001b[39m# Save the small image with a unique filename\u001b[39;00m\n\u001b[0;32m     23\u001b[0m filename \u001b[39m=\u001b[39m path\u001b[39m.\u001b[39mreplace(\u001b[39m\"\u001b[39m\u001b[39mraw\u001b[39m\u001b[39m\"\u001b[39m, \u001b[39m\"\u001b[39m\u001b[39mcrop\u001b[39m\u001b[39m\"\u001b[39m)\n",
      "File \u001b[1;32mc:\\Users\\joaoo\\AppData\\Local\\pypoetry\\Cache\\virtualenvs\\newssonar-sgI27Wlv-py3.9\\lib\\site-packages\\PIL\\Image.py:1211\u001b[0m, in \u001b[0;36mImage.crop\u001b[1;34m(self, box)\u001b[0m\n\u001b[0;32m   1208\u001b[0m \u001b[39melif\u001b[39;00m box[\u001b[39m3\u001b[39m] \u001b[39m<\u001b[39m box[\u001b[39m1\u001b[39m]:\n\u001b[0;32m   1209\u001b[0m     \u001b[39mraise\u001b[39;00m \u001b[39mValueError\u001b[39;00m(\u001b[39m\"\u001b[39m\u001b[39mCoordinate \u001b[39m\u001b[39m'\u001b[39m\u001b[39mlower\u001b[39m\u001b[39m'\u001b[39m\u001b[39m is less than \u001b[39m\u001b[39m'\u001b[39m\u001b[39mupper\u001b[39m\u001b[39m'\u001b[39m\u001b[39m\"\u001b[39m)\n\u001b[1;32m-> 1211\u001b[0m \u001b[39mself\u001b[39;49m\u001b[39m.\u001b[39;49mload()\n\u001b[0;32m   1212\u001b[0m \u001b[39mreturn\u001b[39;00m \u001b[39mself\u001b[39m\u001b[39m.\u001b[39m_new(\u001b[39mself\u001b[39m\u001b[39m.\u001b[39m_crop(\u001b[39mself\u001b[39m\u001b[39m.\u001b[39mim, box))\n",
      "File \u001b[1;32mc:\\Users\\joaoo\\AppData\\Local\\pypoetry\\Cache\\virtualenvs\\newssonar-sgI27Wlv-py3.9\\lib\\site-packages\\PIL\\ImageFile.py:279\u001b[0m, in \u001b[0;36mImageFile.load\u001b[1;34m(self)\u001b[0m\n\u001b[0;32m    275\u001b[0m \u001b[39mself\u001b[39m\u001b[39m.\u001b[39mfp \u001b[39m=\u001b[39m \u001b[39mNone\u001b[39;00m\n\u001b[0;32m    277\u001b[0m \u001b[39mif\u001b[39;00m \u001b[39mnot\u001b[39;00m \u001b[39mself\u001b[39m\u001b[39m.\u001b[39mmap \u001b[39mand\u001b[39;00m \u001b[39mnot\u001b[39;00m LOAD_TRUNCATED_IMAGES \u001b[39mand\u001b[39;00m err_code \u001b[39m<\u001b[39m \u001b[39m0\u001b[39m:\n\u001b[0;32m    278\u001b[0m     \u001b[39m# still raised if decoder fails to return anything\u001b[39;00m\n\u001b[1;32m--> 279\u001b[0m     raise_oserror(err_code)\n\u001b[0;32m    281\u001b[0m \u001b[39mreturn\u001b[39;00m Image\u001b[39m.\u001b[39mImage\u001b[39m.\u001b[39mload(\u001b[39mself\u001b[39m)\n",
      "File \u001b[1;32mc:\\Users\\joaoo\\AppData\\Local\\pypoetry\\Cache\\virtualenvs\\newssonar-sgI27Wlv-py3.9\\lib\\site-packages\\PIL\\ImageFile.py:71\u001b[0m, in \u001b[0;36mraise_oserror\u001b[1;34m(error)\u001b[0m\n\u001b[0;32m     69\u001b[0m \u001b[39mif\u001b[39;00m \u001b[39mnot\u001b[39;00m message:\n\u001b[0;32m     70\u001b[0m     message \u001b[39m=\u001b[39m \u001b[39mf\u001b[39m\u001b[39m\"\u001b[39m\u001b[39mdecoder error \u001b[39m\u001b[39m{\u001b[39;00merror\u001b[39m}\u001b[39;00m\u001b[39m\"\u001b[39m\n\u001b[1;32m---> 71\u001b[0m \u001b[39mraise\u001b[39;00m \u001b[39mOSError\u001b[39;00m(message \u001b[39m+\u001b[39m \u001b[39m\"\u001b[39m\u001b[39m when reading image file\u001b[39m\u001b[39m\"\u001b[39m)\n",
      "\u001b[1;31mOSError\u001b[0m: unrecognized data stream contents when reading image file"
     ]
    }
   ],
   "source": [
    "for image in raw_paths:\n",
    "    try:\n",
    "        crop_image(image)\n",
    "    except Exception as e:\n",
    "        print(\"Error on image:\", image)\n",
    "        print(e)    "
   ]
  },
  {
   "cell_type": "code",
   "execution_count": null,
   "metadata": {},
   "outputs": [],
   "source": []
  }
 ],
 "metadata": {
  "kernelspec": {
   "display_name": "citysonar-A49P6VFS-py3.10",
   "language": "python",
   "name": "python3"
  },
  "language_info": {
   "codemirror_mode": {
    "name": "ipython",
    "version": 3
   },
   "file_extension": ".py",
   "mimetype": "text/x-python",
   "name": "python",
   "nbconvert_exporter": "python",
   "pygments_lexer": "ipython3",
   "version": "3.9.0"
  },
  "orig_nbformat": 4
 },
 "nbformat": 4,
 "nbformat_minor": 2
}
