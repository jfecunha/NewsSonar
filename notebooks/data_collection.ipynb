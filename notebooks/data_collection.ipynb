{
 "cells": [
  {
   "attachments": {},
   "cell_type": "markdown",
   "metadata": {},
   "source": [
    "# Data Collection"
   ]
  },
  {
   "cell_type": "code",
   "execution_count": 1,
   "metadata": {},
   "outputs": [],
   "source": [
    "import json\n",
    "\n",
    "from pathlib import Path\n",
    "import sys\n",
    "\n",
    "parent = Path().absolute().parents[0].as_posix()\n",
    "\n",
    "sys.path.insert(0, parent)\n",
    "\n",
    "import numpy as np\n",
    "\n",
    "from utils import DataExtractor"
   ]
  },
  {
   "attachments": {},
   "cell_type": "markdown",
   "metadata": {},
   "source": [
    "Newspapers:\n",
    "\n",
    "- [expresso.pt](https://expresso.pt/)\n",
    "- [dn.pt](https://www.dn.pt/)\n",
    "- [publico.pt](https://www.publico.pt/)\n",
    "- [jn.pt](https://www.jn.pt/)\n",
    "- [sapo.pt](https://www.sapo.pt/)\n",
    "- [cmjornal.pt](https://www.cmjornal.pt/)"
   ]
  },
  {
   "attachments": {},
   "cell_type": "markdown",
   "metadata": {},
   "source": [
    "Collect 200 samples for each newspaper to train a model"
   ]
  },
  {
   "cell_type": "code",
   "execution_count": 28,
   "metadata": {},
   "outputs": [
    {
     "name": "stdout",
     "output_type": "stream",
     "text": [
      "CPU times: total: 0 ns\n",
      "Wall time: 0 ns\n"
     ]
    }
   ],
   "source": [
    "%time\n",
    "\n",
    "de = DataExtractor(\n",
    "    newspaper=\"publico\",\n",
    "    url=\"https://arquivo.pt/textsearch?prettyPrint=true&versionHistory=publico.pt&maxItems=2000&from=2010010100000&to=2022123100000\",\n",
    "    num_records_by_year=10\n",
    ")\n",
    "\n",
    "#data_to_extract = de()"
   ]
  },
  {
   "attachments": {},
   "cell_type": "markdown",
   "metadata": {},
   "source": [
    "## Picture Cropping"
   ]
  },
  {
   "cell_type": "code",
   "execution_count": 94,
   "metadata": {},
   "outputs": [],
   "source": [
    "from PIL import Image\n",
    "\n",
    "\n",
    "def crop_image(path, shape=(2000, 2000)):\n",
    "\n",
    "    # Open the big image file\n",
    "    big_image = Image.open(path)\n",
    "    width, height = 2000, 2000\n",
    "    num_rows = big_image.height // height\n",
    "\n",
    "    # Loop through each row and column and crop the big image into small images\n",
    "    for row in range(1):\n",
    "        # Calculate the coordinates for cropping the small image\n",
    "        x0 = 0\n",
    "        y0 = row * height\n",
    "        x1 = x0 + width\n",
    "        y1 = y0 + height\n",
    "\n",
    "        # Crop the small image from the big image\n",
    "        small_image = big_image.crop((x0, y0, x1, y1))\n",
    "\n",
    "        # Save the small image with a unique filename\n",
    "        filename = path.replace(\"raw\", \"crop\")\n",
    "        Path(filename).parent.mkdir(exist_ok=True)\n",
    "        small_image.save(filename)"
   ]
  },
  {
   "cell_type": "code",
   "execution_count": 95,
   "metadata": {},
   "outputs": [],
   "source": [
    "import glob"
   ]
  },
  {
   "cell_type": "code",
   "execution_count": 96,
   "metadata": {},
   "outputs": [
    {
     "data": {
      "text/plain": [
       "1477"
      ]
     },
     "execution_count": 96,
     "metadata": {},
     "output_type": "execute_result"
    }
   ],
   "source": [
    "raw_paths = []\n",
    "for dir_ in glob.glob(\"../data/raw/*\"):\n",
    "    for file in glob.glob(f\"{Path(dir_).as_posix()}/*\"):\n",
    "        raw_paths.append(file)\n",
    "        \n",
    "len(raw_paths)        "
   ]
  },
  {
   "cell_type": "code",
   "execution_count": 97,
   "metadata": {},
   "outputs": [
    {
     "data": {
      "text/plain": [
       "'../data/raw/cmjornal\\\\cmjornal-20200901070349.png'"
      ]
     },
     "execution_count": 97,
     "metadata": {},
     "output_type": "execute_result"
    }
   ],
   "source": [
    "raw_paths[0]"
   ]
  },
  {
   "cell_type": "code",
   "execution_count": 99,
   "metadata": {},
   "outputs": [
    {
     "name": "stdout",
     "output_type": "stream",
     "text": [
      "Error on image: ../data/raw/dn\\dn-20220516112902.png\n",
      "unrecognized data stream contents when reading image file\n"
     ]
    }
   ],
   "source": [
    "for image in raw_paths:\n",
    "    try:\n",
    "        crop_image(image)\n",
    "    except Exception as e:\n",
    "        print(\"Error on image:\", image)\n",
    "        print(e)    "
   ]
  },
  {
   "cell_type": "code",
   "execution_count": 103,
   "metadata": {},
   "outputs": [],
   "source": [
    "import json\n",
    "\n",
    "f = open(\"../annotations/project-2-at-2023-04-06-16-59-565329e3.json\")\n",
    "data = json.load(f)"
   ]
  },
  {
   "cell_type": "code",
   "execution_count": 106,
   "metadata": {},
   "outputs": [
    {
     "data": {
      "text/plain": [
       "dict_keys(['id', 'annotations', 'file_upload', 'drafts', 'predictions', 'data', 'meta', 'created_at', 'updated_at', 'inner_id', 'total_annotations', 'cancelled_annotations', 'total_predictions', 'comment_count', 'unresolved_comment_count', 'last_comment_updated_at', 'project', 'updated_by', 'comment_authors'])"
      ]
     },
     "execution_count": 106,
     "metadata": {},
     "output_type": "execute_result"
    }
   ],
   "source": [
    "data[0].keys()"
   ]
  },
  {
   "cell_type": "code",
   "execution_count": 108,
   "metadata": {},
   "outputs": [
    {
     "data": {
      "text/plain": [
       "{'image': '/data/upload/2/61ed6a99-cmjornal-20200901070349.png'}"
      ]
     },
     "execution_count": 108,
     "metadata": {},
     "output_type": "execute_result"
    }
   ],
   "source": [
    "data[0][\"data\"]"
   ]
  },
  {
   "cell_type": "code",
   "execution_count": null,
   "metadata": {},
   "outputs": [],
   "source": []
  }
 ],
 "metadata": {
  "kernelspec": {
   "display_name": "citysonar-A49P6VFS-py3.10",
   "language": "python",
   "name": "python3"
  },
  "language_info": {
   "codemirror_mode": {
    "name": "ipython",
    "version": 3
   },
   "file_extension": ".py",
   "mimetype": "text/x-python",
   "name": "python",
   "nbconvert_exporter": "python",
   "pygments_lexer": "ipython3",
   "version": "3.9.0"
  },
  "orig_nbformat": 4
 },
 "nbformat": 4,
 "nbformat_minor": 2
}
